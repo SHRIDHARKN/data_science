{
 "cells": [
  {
   "cell_type": "code",
   "execution_count": 1,
   "id": "b58d7cf1-3aba-4991-a623-2bfecce9cfb1",
   "metadata": {},
   "outputs": [],
   "source": [
    "import numpy as np\n",
    "import pandas as pd\n",
    "from tqdm import tqdm\n",
    "import re\n",
    "import os\n",
    "from sklearn.preprocessing import LabelEncoder\n",
    "from sklearn.metrics import accuracy_score\n",
    "from simpletransformers.ner import NERModel,NERArgs"
   ]
  },
  {
   "cell_type": "code",
   "execution_count": 2,
   "id": "af178de1-7dc1-4c3e-8478-934802a9b45b",
   "metadata": {},
   "outputs": [
    {
     "data": {
      "text/html": [
       "<div>\n",
       "<style scoped>\n",
       "    .dataframe tbody tr th:only-of-type {\n",
       "        vertical-align: middle;\n",
       "    }\n",
       "\n",
       "    .dataframe tbody tr th {\n",
       "        vertical-align: top;\n",
       "    }\n",
       "\n",
       "    .dataframe thead th {\n",
       "        text-align: right;\n",
       "    }\n",
       "</style>\n",
       "<table border=\"1\" class=\"dataframe\">\n",
       "  <thead>\n",
       "    <tr style=\"text-align: right;\">\n",
       "      <th></th>\n",
       "      <th>examples</th>\n",
       "    </tr>\n",
       "  </thead>\n",
       "  <tbody>\n",
       "    <tr>\n",
       "      <th>0</th>\n",
       "      <td>{'id': '18c2f619-f102-452f-ab81-d26f7e283ffe',...</td>\n",
       "    </tr>\n",
       "    <tr>\n",
       "      <th>1</th>\n",
       "      <td>{'id': '487c93e3-0d45-4088-a378-cf3a01c8953d',...</td>\n",
       "    </tr>\n",
       "    <tr>\n",
       "      <th>2</th>\n",
       "      <td>{'id': 'd5056874-895a-4a7f-9e0f-828d414d65d9',...</td>\n",
       "    </tr>\n",
       "    <tr>\n",
       "      <th>3</th>\n",
       "      <td>{'id': '20c792c7-0c4b-42d0-8127-0e04113db384',...</td>\n",
       "    </tr>\n",
       "    <tr>\n",
       "      <th>4</th>\n",
       "      <td>{'id': 'f5359e0d-4d4a-4707-95a3-4c627fc4a83b',...</td>\n",
       "    </tr>\n",
       "  </tbody>\n",
       "</table>\n",
       "</div>"
      ],
      "text/plain": [
       "                                            examples\n",
       "0  {'id': '18c2f619-f102-452f-ab81-d26f7e283ffe',...\n",
       "1  {'id': '487c93e3-0d45-4088-a378-cf3a01c8953d',...\n",
       "2  {'id': 'd5056874-895a-4a7f-9e0f-828d414d65d9',...\n",
       "3  {'id': '20c792c7-0c4b-42d0-8127-0e04113db384',...\n",
       "4  {'id': 'f5359e0d-4d4a-4707-95a3-4c627fc4a83b',..."
      ]
     },
     "execution_count": 2,
     "metadata": {},
     "output_type": "execute_result"
    }
   ],
   "source": [
    "# load the raw medical text data\n",
    "data = pd.read_json('data/medical-ner.json')\n",
    "data.head()"
   ]
  },
  {
   "cell_type": "code",
   "execution_count": 3,
   "id": "4be02553-1b19-4ea2-a3c0-5da24538d3ee",
   "metadata": {},
   "outputs": [],
   "source": [
    "def preprocess_text(text):\n",
    "    pattern = r'\\[\\d+\\]'\n",
    "    text = re.sub(pattern, \"\",text)\n",
    "    text = re.sub(r\"\\[.*?]\",\"\",text)\n",
    "    text = re.sub(\"[^a-zA-Z0-9]\", \" \", text)\n",
    "    return text.strip().lower()"
   ]
  },
  {
   "cell_type": "code",
   "execution_count": 4,
   "id": "6ef07aed-9987-4ff9-871f-732710fb1b29",
   "metadata": {},
   "outputs": [],
   "source": [
    "# prepare medical tag data\n",
    "dfm = pd.DataFrame()\n",
    "for i,d in data.iterrows():\n",
    "    # from each record, get annotations\n",
    "    a_ls = [[x.get(\"value\"),x.get(\"tag_name\")] for x  in d[\"examples\"].get(\"annotations\")]\n",
    "    dfm = pd.concat([dfm,pd.DataFrame(a_ls,columns=[\"words\",\"tags\"])])\n",
    "\n",
    "dfm[\"length\"] = dfm.words.apply(lambda x:len(x))\n",
    "dfm = dfm.loc[dfm.length<50]\n",
    "dfm = dfm.reset_index(drop=True)\n",
    "dfm[\"words\"] = dfm.words.apply(lambda x:preprocess_text(x))"
   ]
  },
  {
   "cell_type": "code",
   "execution_count": 5,
   "id": "69cbea72-a2d6-43ed-a424-2a2a7db0b04c",
   "metadata": {},
   "outputs": [
    {
     "data": {
      "text/html": [
       "<div>\n",
       "<style scoped>\n",
       "    .dataframe tbody tr th:only-of-type {\n",
       "        vertical-align: middle;\n",
       "    }\n",
       "\n",
       "    .dataframe tbody tr th {\n",
       "        vertical-align: top;\n",
       "    }\n",
       "\n",
       "    .dataframe thead th {\n",
       "        text-align: right;\n",
       "    }\n",
       "</style>\n",
       "<table border=\"1\" class=\"dataframe\">\n",
       "  <thead>\n",
       "    <tr style=\"text-align: right;\">\n",
       "      <th></th>\n",
       "      <th>words</th>\n",
       "      <th>tags</th>\n",
       "      <th>length</th>\n",
       "    </tr>\n",
       "  </thead>\n",
       "  <tbody>\n",
       "    <tr>\n",
       "      <th>0</th>\n",
       "      <td>diosmectite</td>\n",
       "      <td>Medicine</td>\n",
       "      <td>11</td>\n",
       "    </tr>\n",
       "    <tr>\n",
       "      <th>1</th>\n",
       "      <td>aluminomagnesium silicate</td>\n",
       "      <td>Medicine</td>\n",
       "      <td>25</td>\n",
       "    </tr>\n",
       "    <tr>\n",
       "      <th>2</th>\n",
       "      <td>diarrhea</td>\n",
       "      <td>MedicalCondition</td>\n",
       "      <td>8</td>\n",
       "    </tr>\n",
       "    <tr>\n",
       "      <th>3</th>\n",
       "      <td>kaopectate</td>\n",
       "      <td>Medicine</td>\n",
       "      <td>10</td>\n",
       "    </tr>\n",
       "    <tr>\n",
       "      <th>4</th>\n",
       "      <td>bismuth compounds</td>\n",
       "      <td>Medicine</td>\n",
       "      <td>17</td>\n",
       "    </tr>\n",
       "  </tbody>\n",
       "</table>\n",
       "</div>"
      ],
      "text/plain": [
       "                       words              tags  length\n",
       "0                diosmectite          Medicine      11\n",
       "1  aluminomagnesium silicate          Medicine      25\n",
       "2                   diarrhea  MedicalCondition       8\n",
       "3                 kaopectate          Medicine      10\n",
       "4          bismuth compounds          Medicine      17"
      ]
     },
     "execution_count": 5,
     "metadata": {},
     "output_type": "execute_result"
    }
   ],
   "source": [
    "dfm.head()"
   ]
  },
  {
   "cell_type": "code",
   "execution_count": 6,
   "id": "31462a46-8c11-49f3-815a-3268645943fb",
   "metadata": {},
   "outputs": [],
   "source": [
    "dfw = pd.DataFrame()\n",
    "\n",
    "for i,d in data.iterrows():\n",
    "    # get contents for record\n",
    "    s_id = d[\"examples\"].get(\"id\")\n",
    "    w_ls = [x.lower() for x in d[\"examples\"].get(\"content\").split()]\n",
    "    dfwi = pd.DataFrame(w_ls,columns=[\"words\"])\n",
    "    dfwi[\"text_id\"] = s_id\n",
    "    dfw = pd.concat([dfw,dfwi])    \n",
    "\n",
    "dfw[\"length\"] = dfw.words.apply(lambda x:len(x))\n",
    "dfw[\"words\"] = dfw.words.apply(lambda x:preprocess_text(x))"
   ]
  },
  {
   "cell_type": "code",
   "execution_count": 7,
   "id": "f1ed8db2-017c-4d26-9dac-3bbceae83b8f",
   "metadata": {},
   "outputs": [
    {
     "data": {
      "text/html": [
       "<div>\n",
       "<style scoped>\n",
       "    .dataframe tbody tr th:only-of-type {\n",
       "        vertical-align: middle;\n",
       "    }\n",
       "\n",
       "    .dataframe tbody tr th {\n",
       "        vertical-align: top;\n",
       "    }\n",
       "\n",
       "    .dataframe thead th {\n",
       "        text-align: right;\n",
       "    }\n",
       "</style>\n",
       "<table border=\"1\" class=\"dataframe\">\n",
       "  <thead>\n",
       "    <tr style=\"text-align: right;\">\n",
       "      <th></th>\n",
       "      <th>words</th>\n",
       "      <th>text_id</th>\n",
       "      <th>length</th>\n",
       "    </tr>\n",
       "  </thead>\n",
       "  <tbody>\n",
       "    <tr>\n",
       "      <th>0</th>\n",
       "      <td>while</td>\n",
       "      <td>18c2f619-f102-452f-ab81-d26f7e283ffe</td>\n",
       "      <td>5</td>\n",
       "    </tr>\n",
       "    <tr>\n",
       "      <th>1</th>\n",
       "      <td>bismuth</td>\n",
       "      <td>18c2f619-f102-452f-ab81-d26f7e283ffe</td>\n",
       "      <td>7</td>\n",
       "    </tr>\n",
       "    <tr>\n",
       "      <th>2</th>\n",
       "      <td>compounds</td>\n",
       "      <td>18c2f619-f102-452f-ab81-d26f7e283ffe</td>\n",
       "      <td>9</td>\n",
       "    </tr>\n",
       "    <tr>\n",
       "      <th>3</th>\n",
       "      <td>pepto bismol</td>\n",
       "      <td>18c2f619-f102-452f-ab81-d26f7e283ffe</td>\n",
       "      <td>14</td>\n",
       "    </tr>\n",
       "    <tr>\n",
       "      <th>4</th>\n",
       "      <td>decreased</td>\n",
       "      <td>18c2f619-f102-452f-ab81-d26f7e283ffe</td>\n",
       "      <td>9</td>\n",
       "    </tr>\n",
       "  </tbody>\n",
       "</table>\n",
       "</div>"
      ],
      "text/plain": [
       "          words                               text_id  length\n",
       "0         while  18c2f619-f102-452f-ab81-d26f7e283ffe       5\n",
       "1       bismuth  18c2f619-f102-452f-ab81-d26f7e283ffe       7\n",
       "2     compounds  18c2f619-f102-452f-ab81-d26f7e283ffe       9\n",
       "3  pepto bismol  18c2f619-f102-452f-ab81-d26f7e283ffe      14\n",
       "4     decreased  18c2f619-f102-452f-ab81-d26f7e283ffe       9"
      ]
     },
     "execution_count": 7,
     "metadata": {},
     "output_type": "execute_result"
    }
   ],
   "source": [
    "dfw.head()"
   ]
  },
  {
   "cell_type": "code",
   "execution_count": 8,
   "id": "93502941-ba7d-4137-8320-3a17baa6527b",
   "metadata": {},
   "outputs": [],
   "source": [
    "dfw = dfw.drop(\"length\",axis=1)\n",
    "dfm = dfm.drop(\"length\",axis=1)"
   ]
  },
  {
   "cell_type": "code",
   "execution_count": 9,
   "id": "7b37ef14-ef2d-4b40-adf8-1506a0fc8f32",
   "metadata": {},
   "outputs": [],
   "source": [
    "# merge the text, text id and tags for each word in the text\n",
    "df = pd.merge(dfw,dfm,on=[\"words\"],how=\"left\")\n",
    "df[\"tags\"] = df.tags.fillna(\"Others\")\n",
    "df[\"text_id\"] = LabelEncoder().fit_transform(df[\"text_id\"] )\n",
    "df.rename(columns={\"text_id\":\"sentence_id\",\"tags\":\"labels\"}, inplace =True)"
   ]
  },
  {
   "cell_type": "code",
   "execution_count": 10,
   "id": "affc4da4-b82b-4ebe-a485-bc6215131cf6",
   "metadata": {},
   "outputs": [],
   "source": [
    "X = df[[\"sentence_id\",\"words\"]]\n",
    "Y = df[\"labels\"]"
   ]
  },
  {
   "cell_type": "code",
   "execution_count": 11,
   "id": "8a0afa1b-2818-4afb-8f14-dfdb9ab9af9a",
   "metadata": {},
   "outputs": [],
   "source": [
    "x_train,y_train = X[X.sentence_id<=24],Y[X.sentence_id<=24]\n",
    "x_test,y_test = X[X.sentence_id>24],Y[X.sentence_id>24]"
   ]
  },
  {
   "cell_type": "code",
   "execution_count": 12,
   "id": "e307337f-1aef-44c6-afba-fe47e77a7df6",
   "metadata": {},
   "outputs": [
    {
     "data": {
      "text/html": [
       "<div>\n",
       "<style scoped>\n",
       "    .dataframe tbody tr th:only-of-type {\n",
       "        vertical-align: middle;\n",
       "    }\n",
       "\n",
       "    .dataframe tbody tr th {\n",
       "        vertical-align: top;\n",
       "    }\n",
       "\n",
       "    .dataframe thead th {\n",
       "        text-align: right;\n",
       "    }\n",
       "</style>\n",
       "<table border=\"1\" class=\"dataframe\">\n",
       "  <thead>\n",
       "    <tr style=\"text-align: right;\">\n",
       "      <th></th>\n",
       "      <th>sentence_id</th>\n",
       "      <th>words</th>\n",
       "    </tr>\n",
       "  </thead>\n",
       "  <tbody>\n",
       "    <tr>\n",
       "      <th>0</th>\n",
       "      <td>1</td>\n",
       "      <td>while</td>\n",
       "    </tr>\n",
       "    <tr>\n",
       "      <th>1</th>\n",
       "      <td>1</td>\n",
       "      <td>bismuth</td>\n",
       "    </tr>\n",
       "    <tr>\n",
       "      <th>2</th>\n",
       "      <td>1</td>\n",
       "      <td>compounds</td>\n",
       "    </tr>\n",
       "    <tr>\n",
       "      <th>3</th>\n",
       "      <td>1</td>\n",
       "      <td>pepto bismol</td>\n",
       "    </tr>\n",
       "    <tr>\n",
       "      <th>4</th>\n",
       "      <td>1</td>\n",
       "      <td>decreased</td>\n",
       "    </tr>\n",
       "  </tbody>\n",
       "</table>\n",
       "</div>"
      ],
      "text/plain": [
       "   sentence_id         words\n",
       "0            1         while\n",
       "1            1       bismuth\n",
       "2            1     compounds\n",
       "3            1  pepto bismol\n",
       "4            1     decreased"
      ]
     },
     "execution_count": 12,
     "metadata": {},
     "output_type": "execute_result"
    }
   ],
   "source": [
    "x_train.head()"
   ]
  },
  {
   "cell_type": "code",
   "execution_count": 13,
   "id": "cfbafb95-2fe6-44c9-8e35-86566e3613ad",
   "metadata": {},
   "outputs": [
    {
     "data": {
      "text/plain": [
       "['Others', 'Medicine', 'MedicalCondition', 'Pathogen']"
      ]
     },
     "execution_count": 13,
     "metadata": {},
     "output_type": "execute_result"
    }
   ],
   "source": [
    "label = df[\"labels\"].unique().tolist()\n",
    "label"
   ]
  },
  {
   "cell_type": "code",
   "execution_count": 14,
   "id": "ceb96476-32f0-4300-b3ed-c59d7d82a977",
   "metadata": {},
   "outputs": [],
   "source": [
    "OUTPUT_DIR = \"output_dir\"\n",
    "args = NERArgs()\n",
    "args.num_train_epochs = 30\n",
    "args.learning_rate = 1e-4\n",
    "args.overwrite_output_dir = True\n",
    "args.train_batch_size = 32\n",
    "args.eval_batch_size = 32\n",
    "args.save_steps = 10\n",
    "args.output_dir = OUTPUT_DIR\n",
    "args.resume_from_checkpoint=True"
   ]
  },
  {
   "cell_type": "code",
   "execution_count": 15,
   "id": "6abcb73d-11a2-4fff-afdf-49b5728577a5",
   "metadata": {},
   "outputs": [
    {
     "name": "stderr",
     "output_type": "stream",
     "text": [
      "Some weights of BertForTokenClassification were not initialized from the model checkpoint at bert-base-cased and are newly initialized: ['classifier.bias', 'classifier.weight']\n",
      "You should probably TRAIN this model on a down-stream task to be able to use it for predictions and inference.\n",
      "/home/voldemort/anaconda3/envs/llm_env/lib/python3.10/site-packages/transformers/tokenization_utils_base.py:1601: FutureWarning: `clean_up_tokenization_spaces` was not set. It will be set to `True` by default. This behavior will be depracted in transformers v4.45, and will be then set to `False` by default. For more details check this issue: https://github.com/huggingface/transformers/issues/31884\n",
      "  warnings.warn(\n"
     ]
    }
   ],
   "source": [
    "model = NERModel('bert', 'bert-base-cased',labels=label,args =args)"
   ]
  },
  {
   "cell_type": "code",
   "execution_count": 16,
   "id": "d8754abb-892a-4abd-a2ef-960455dcf896",
   "metadata": {},
   "outputs": [],
   "source": [
    "train_data = pd.DataFrame({\"sentence_id\":x_train[\"sentence_id\"],\"words\":x_train[\"words\"],\"labels\":y_train})\n",
    "test_data = pd.DataFrame({\"sentence_id\":x_test[\"sentence_id\"],\"words\":x_test[\"words\"],\"labels\":y_test})"
   ]
  },
  {
   "cell_type": "code",
   "execution_count": 17,
   "id": "7b9d9dd5-603a-4275-b92d-6cb9c779056d",
   "metadata": {},
   "outputs": [
    {
     "data": {
      "text/html": [
       "<div>\n",
       "<style scoped>\n",
       "    .dataframe tbody tr th:only-of-type {\n",
       "        vertical-align: middle;\n",
       "    }\n",
       "\n",
       "    .dataframe tbody tr th {\n",
       "        vertical-align: top;\n",
       "    }\n",
       "\n",
       "    .dataframe thead th {\n",
       "        text-align: right;\n",
       "    }\n",
       "</style>\n",
       "<table border=\"1\" class=\"dataframe\">\n",
       "  <thead>\n",
       "    <tr style=\"text-align: right;\">\n",
       "      <th></th>\n",
       "      <th>sentence_id</th>\n",
       "      <th>words</th>\n",
       "      <th>labels</th>\n",
       "    </tr>\n",
       "  </thead>\n",
       "  <tbody>\n",
       "    <tr>\n",
       "      <th>0</th>\n",
       "      <td>1</td>\n",
       "      <td>while</td>\n",
       "      <td>Others</td>\n",
       "    </tr>\n",
       "    <tr>\n",
       "      <th>1</th>\n",
       "      <td>1</td>\n",
       "      <td>bismuth</td>\n",
       "      <td>Others</td>\n",
       "    </tr>\n",
       "    <tr>\n",
       "      <th>2</th>\n",
       "      <td>1</td>\n",
       "      <td>compounds</td>\n",
       "      <td>Others</td>\n",
       "    </tr>\n",
       "    <tr>\n",
       "      <th>3</th>\n",
       "      <td>1</td>\n",
       "      <td>pepto bismol</td>\n",
       "      <td>Medicine</td>\n",
       "    </tr>\n",
       "    <tr>\n",
       "      <th>4</th>\n",
       "      <td>1</td>\n",
       "      <td>decreased</td>\n",
       "      <td>Others</td>\n",
       "    </tr>\n",
       "  </tbody>\n",
       "</table>\n",
       "</div>"
      ],
      "text/plain": [
       "   sentence_id         words    labels\n",
       "0            1         while    Others\n",
       "1            1       bismuth    Others\n",
       "2            1     compounds    Others\n",
       "3            1  pepto bismol  Medicine\n",
       "4            1     decreased    Others"
      ]
     },
     "execution_count": 17,
     "metadata": {},
     "output_type": "execute_result"
    }
   ],
   "source": [
    "train_data.head()"
   ]
  },
  {
   "cell_type": "code",
   "execution_count": 18,
   "id": "4c8f2bad-95df-40be-86b3-1019655f053a",
   "metadata": {},
   "outputs": [
    {
     "data": {
      "application/vnd.jupyter.widget-view+json": {
       "model_id": "637f3b7b070a4925a28e6cab169da56b",
       "version_major": 2,
       "version_minor": 0
      },
      "text/plain": [
       "  0%|          | 0/1 [00:00<?, ?it/s]"
      ]
     },
     "metadata": {},
     "output_type": "display_data"
    },
    {
     "data": {
      "application/vnd.jupyter.widget-view+json": {
       "model_id": "12d87d6f938c42729bea015ccb48fcfd",
       "version_major": 2,
       "version_minor": 0
      },
      "text/plain": [
       "Epoch:   0%|          | 0/30 [00:00<?, ?it/s]"
      ]
     },
     "metadata": {},
     "output_type": "display_data"
    },
    {
     "name": "stderr",
     "output_type": "stream",
     "text": [
      "/home/voldemort/anaconda3/envs/llm_env/lib/python3.10/site-packages/simpletransformers/ner/ner_model.py:758: FutureWarning: `torch.cuda.amp.GradScaler(args...)` is deprecated. Please use `torch.amp.GradScaler('cuda', args...)` instead.\n",
      "  scaler = amp.GradScaler()\n"
     ]
    },
    {
     "data": {
      "application/vnd.jupyter.widget-view+json": {
       "model_id": "c3bfaeb1d52842d1830cd01b72778b20",
       "version_major": 2,
       "version_minor": 0
      },
      "text/plain": [
       "Running Epoch 1 of 30:   0%|          | 0/1 [00:00<?, ?it/s]"
      ]
     },
     "metadata": {},
     "output_type": "display_data"
    },
    {
     "name": "stderr",
     "output_type": "stream",
     "text": [
      "/home/voldemort/anaconda3/envs/llm_env/lib/python3.10/site-packages/simpletransformers/ner/ner_model.py:782: FutureWarning: `torch.cuda.amp.autocast(args...)` is deprecated. Please use `torch.amp.autocast('cuda', args...)` instead.\n",
      "  with amp.autocast():\n"
     ]
    },
    {
     "data": {
      "application/vnd.jupyter.widget-view+json": {
       "model_id": "001f945d76804b83a06ff87cd5ecb911",
       "version_major": 2,
       "version_minor": 0
      },
      "text/plain": [
       "Running Epoch 2 of 30:   0%|          | 0/1 [00:00<?, ?it/s]"
      ]
     },
     "metadata": {},
     "output_type": "display_data"
    },
    {
     "data": {
      "application/vnd.jupyter.widget-view+json": {
       "model_id": "7ee50f3f2efd49849a5deb645ead0a22",
       "version_major": 2,
       "version_minor": 0
      },
      "text/plain": [
       "Running Epoch 3 of 30:   0%|          | 0/1 [00:00<?, ?it/s]"
      ]
     },
     "metadata": {},
     "output_type": "display_data"
    },
    {
     "data": {
      "application/vnd.jupyter.widget-view+json": {
       "model_id": "a08c0bc8cea04c60a497a3da2210df2e",
       "version_major": 2,
       "version_minor": 0
      },
      "text/plain": [
       "Running Epoch 4 of 30:   0%|          | 0/1 [00:00<?, ?it/s]"
      ]
     },
     "metadata": {},
     "output_type": "display_data"
    },
    {
     "data": {
      "application/vnd.jupyter.widget-view+json": {
       "model_id": "e85083847d1748a487556613eb8c4423",
       "version_major": 2,
       "version_minor": 0
      },
      "text/plain": [
       "Running Epoch 5 of 30:   0%|          | 0/1 [00:00<?, ?it/s]"
      ]
     },
     "metadata": {},
     "output_type": "display_data"
    },
    {
     "data": {
      "application/vnd.jupyter.widget-view+json": {
       "model_id": "7c3cc956d76b4c2cbaca48dda2568cf0",
       "version_major": 2,
       "version_minor": 0
      },
      "text/plain": [
       "Running Epoch 6 of 30:   0%|          | 0/1 [00:00<?, ?it/s]"
      ]
     },
     "metadata": {},
     "output_type": "display_data"
    },
    {
     "data": {
      "application/vnd.jupyter.widget-view+json": {
       "model_id": "54a68da1501b4369824688f79cf0b1e0",
       "version_major": 2,
       "version_minor": 0
      },
      "text/plain": [
       "Running Epoch 7 of 30:   0%|          | 0/1 [00:00<?, ?it/s]"
      ]
     },
     "metadata": {},
     "output_type": "display_data"
    },
    {
     "data": {
      "application/vnd.jupyter.widget-view+json": {
       "model_id": "840080181b644ffc8f81f559638e0c3c",
       "version_major": 2,
       "version_minor": 0
      },
      "text/plain": [
       "Running Epoch 8 of 30:   0%|          | 0/1 [00:00<?, ?it/s]"
      ]
     },
     "metadata": {},
     "output_type": "display_data"
    },
    {
     "data": {
      "application/vnd.jupyter.widget-view+json": {
       "model_id": "f870f7e6523f4148b3e940056d155dbf",
       "version_major": 2,
       "version_minor": 0
      },
      "text/plain": [
       "Running Epoch 9 of 30:   0%|          | 0/1 [00:00<?, ?it/s]"
      ]
     },
     "metadata": {},
     "output_type": "display_data"
    },
    {
     "data": {
      "application/vnd.jupyter.widget-view+json": {
       "model_id": "e9d5389f2233456788cf111127e46de9",
       "version_major": 2,
       "version_minor": 0
      },
      "text/plain": [
       "Running Epoch 10 of 30:   0%|          | 0/1 [00:00<?, ?it/s]"
      ]
     },
     "metadata": {},
     "output_type": "display_data"
    },
    {
     "data": {
      "application/vnd.jupyter.widget-view+json": {
       "model_id": "ad0ce6a91e6b4f1287605b5dfa9c4e5e",
       "version_major": 2,
       "version_minor": 0
      },
      "text/plain": [
       "Running Epoch 11 of 30:   0%|          | 0/1 [00:00<?, ?it/s]"
      ]
     },
     "metadata": {},
     "output_type": "display_data"
    },
    {
     "data": {
      "application/vnd.jupyter.widget-view+json": {
       "model_id": "bb3d587823104d72b3e6d9ffa18a0b30",
       "version_major": 2,
       "version_minor": 0
      },
      "text/plain": [
       "Running Epoch 12 of 30:   0%|          | 0/1 [00:00<?, ?it/s]"
      ]
     },
     "metadata": {},
     "output_type": "display_data"
    },
    {
     "data": {
      "application/vnd.jupyter.widget-view+json": {
       "model_id": "d957e23fb1a04ffb85a1d57802adc3bc",
       "version_major": 2,
       "version_minor": 0
      },
      "text/plain": [
       "Running Epoch 13 of 30:   0%|          | 0/1 [00:00<?, ?it/s]"
      ]
     },
     "metadata": {},
     "output_type": "display_data"
    },
    {
     "data": {
      "application/vnd.jupyter.widget-view+json": {
       "model_id": "b5f73f8798a540cf97e1b3a4c5879d6b",
       "version_major": 2,
       "version_minor": 0
      },
      "text/plain": [
       "Running Epoch 14 of 30:   0%|          | 0/1 [00:00<?, ?it/s]"
      ]
     },
     "metadata": {},
     "output_type": "display_data"
    },
    {
     "data": {
      "application/vnd.jupyter.widget-view+json": {
       "model_id": "03c551ee1bf7485099d85b375e76ccc1",
       "version_major": 2,
       "version_minor": 0
      },
      "text/plain": [
       "Running Epoch 15 of 30:   0%|          | 0/1 [00:00<?, ?it/s]"
      ]
     },
     "metadata": {},
     "output_type": "display_data"
    },
    {
     "data": {
      "application/vnd.jupyter.widget-view+json": {
       "model_id": "31c629b73ed24ac48724cfae48748e80",
       "version_major": 2,
       "version_minor": 0
      },
      "text/plain": [
       "Running Epoch 16 of 30:   0%|          | 0/1 [00:00<?, ?it/s]"
      ]
     },
     "metadata": {},
     "output_type": "display_data"
    },
    {
     "data": {
      "application/vnd.jupyter.widget-view+json": {
       "model_id": "4d9d229c6aec4ecdab7ae20dc05c5e4c",
       "version_major": 2,
       "version_minor": 0
      },
      "text/plain": [
       "Running Epoch 17 of 30:   0%|          | 0/1 [00:00<?, ?it/s]"
      ]
     },
     "metadata": {},
     "output_type": "display_data"
    },
    {
     "data": {
      "application/vnd.jupyter.widget-view+json": {
       "model_id": "6f60243d67e5425cac9b62dc8661bfe4",
       "version_major": 2,
       "version_minor": 0
      },
      "text/plain": [
       "Running Epoch 18 of 30:   0%|          | 0/1 [00:00<?, ?it/s]"
      ]
     },
     "metadata": {},
     "output_type": "display_data"
    },
    {
     "data": {
      "application/vnd.jupyter.widget-view+json": {
       "model_id": "0e87c7fe735f4acea1f042c3783b9245",
       "version_major": 2,
       "version_minor": 0
      },
      "text/plain": [
       "Running Epoch 19 of 30:   0%|          | 0/1 [00:00<?, ?it/s]"
      ]
     },
     "metadata": {},
     "output_type": "display_data"
    },
    {
     "data": {
      "application/vnd.jupyter.widget-view+json": {
       "model_id": "f3b0dd9c497843918756fb6bb9f7d6c5",
       "version_major": 2,
       "version_minor": 0
      },
      "text/plain": [
       "Running Epoch 20 of 30:   0%|          | 0/1 [00:00<?, ?it/s]"
      ]
     },
     "metadata": {},
     "output_type": "display_data"
    },
    {
     "data": {
      "application/vnd.jupyter.widget-view+json": {
       "model_id": "9dafcb088d5648889b5b0eb0f30abd08",
       "version_major": 2,
       "version_minor": 0
      },
      "text/plain": [
       "Running Epoch 21 of 30:   0%|          | 0/1 [00:00<?, ?it/s]"
      ]
     },
     "metadata": {},
     "output_type": "display_data"
    },
    {
     "data": {
      "application/vnd.jupyter.widget-view+json": {
       "model_id": "fbb5dc74b32d4651aa3d1fa14769a71d",
       "version_major": 2,
       "version_minor": 0
      },
      "text/plain": [
       "Running Epoch 22 of 30:   0%|          | 0/1 [00:00<?, ?it/s]"
      ]
     },
     "metadata": {},
     "output_type": "display_data"
    },
    {
     "data": {
      "application/vnd.jupyter.widget-view+json": {
       "model_id": "500614ca5298486b816ba3c1a8a2e67f",
       "version_major": 2,
       "version_minor": 0
      },
      "text/plain": [
       "Running Epoch 23 of 30:   0%|          | 0/1 [00:00<?, ?it/s]"
      ]
     },
     "metadata": {},
     "output_type": "display_data"
    },
    {
     "data": {
      "application/vnd.jupyter.widget-view+json": {
       "model_id": "a74338fd06a348328c0028a6b1cd00ff",
       "version_major": 2,
       "version_minor": 0
      },
      "text/plain": [
       "Running Epoch 24 of 30:   0%|          | 0/1 [00:00<?, ?it/s]"
      ]
     },
     "metadata": {},
     "output_type": "display_data"
    },
    {
     "data": {
      "application/vnd.jupyter.widget-view+json": {
       "model_id": "77699d5f53bc41adba98e26a3e3c63f6",
       "version_major": 2,
       "version_minor": 0
      },
      "text/plain": [
       "Running Epoch 25 of 30:   0%|          | 0/1 [00:00<?, ?it/s]"
      ]
     },
     "metadata": {},
     "output_type": "display_data"
    },
    {
     "data": {
      "application/vnd.jupyter.widget-view+json": {
       "model_id": "fde58bcd183a44479d913a302c62ead1",
       "version_major": 2,
       "version_minor": 0
      },
      "text/plain": [
       "Running Epoch 26 of 30:   0%|          | 0/1 [00:00<?, ?it/s]"
      ]
     },
     "metadata": {},
     "output_type": "display_data"
    },
    {
     "data": {
      "application/vnd.jupyter.widget-view+json": {
       "model_id": "80f4fbe5f00045aeb326aa27ab45947f",
       "version_major": 2,
       "version_minor": 0
      },
      "text/plain": [
       "Running Epoch 27 of 30:   0%|          | 0/1 [00:00<?, ?it/s]"
      ]
     },
     "metadata": {},
     "output_type": "display_data"
    },
    {
     "data": {
      "application/vnd.jupyter.widget-view+json": {
       "model_id": "35ad5ecd37ec4e3fa04e1672d8d391bb",
       "version_major": 2,
       "version_minor": 0
      },
      "text/plain": [
       "Running Epoch 28 of 30:   0%|          | 0/1 [00:00<?, ?it/s]"
      ]
     },
     "metadata": {},
     "output_type": "display_data"
    },
    {
     "data": {
      "application/vnd.jupyter.widget-view+json": {
       "model_id": "51841e3502c941c6a67c486dd4420753",
       "version_major": 2,
       "version_minor": 0
      },
      "text/plain": [
       "Running Epoch 29 of 30:   0%|          | 0/1 [00:00<?, ?it/s]"
      ]
     },
     "metadata": {},
     "output_type": "display_data"
    },
    {
     "data": {
      "application/vnd.jupyter.widget-view+json": {
       "model_id": "eeac0c985d3544e3b9e4042d1a6fe093",
       "version_major": 2,
       "version_minor": 0
      },
      "text/plain": [
       "Running Epoch 30 of 30:   0%|          | 0/1 [00:00<?, ?it/s]"
      ]
     },
     "metadata": {},
     "output_type": "display_data"
    },
    {
     "data": {
      "text/plain": [
       "(30, 0.2630932913937916)"
      ]
     },
     "execution_count": 18,
     "metadata": {},
     "output_type": "execute_result"
    }
   ],
   "source": [
    "model.train_model(train_data,eval_data = test_data,acc=accuracy_score,verbose=True)"
   ]
  },
  {
   "cell_type": "code",
   "execution_count": 19,
   "id": "9659aaae-a126-468c-abb6-8e83dfa5f7c0",
   "metadata": {},
   "outputs": [
    {
     "data": {
      "application/vnd.jupyter.widget-view+json": {
       "model_id": "2976bb3b34d0455688f80b20a08ad5ff",
       "version_major": 2,
       "version_minor": 0
      },
      "text/plain": [
       "  0%|          | 0/1 [00:00<?, ?it/s]"
      ]
     },
     "metadata": {},
     "output_type": "display_data"
    },
    {
     "data": {
      "application/vnd.jupyter.widget-view+json": {
       "model_id": "48197ba9c5e4441db9647da98c22e672",
       "version_major": 2,
       "version_minor": 0
      },
      "text/plain": [
       "Running Evaluation:   0%|          | 0/1 [00:00<?, ?it/s]"
      ]
     },
     "metadata": {},
     "output_type": "display_data"
    },
    {
     "name": "stderr",
     "output_type": "stream",
     "text": [
      "/home/voldemort/anaconda3/envs/llm_env/lib/python3.10/site-packages/simpletransformers/ner/ner_model.py:1303: FutureWarning: `torch.cuda.amp.autocast(args...)` is deprecated. Please use `torch.amp.autocast('cuda', args...)` instead.\n",
      "  with amp.autocast():\n",
      "/home/voldemort/anaconda3/envs/llm_env/lib/python3.10/site-packages/seqeval/metrics/sequence_labeling.py:171: UserWarning: Others seems not to be NE tag.\n",
      "  warnings.warn('{} seems not to be NE tag.'.format(chunk))\n",
      "/home/voldemort/anaconda3/envs/llm_env/lib/python3.10/site-packages/seqeval/metrics/sequence_labeling.py:171: UserWarning: MedicalCondition seems not to be NE tag.\n",
      "  warnings.warn('{} seems not to be NE tag.'.format(chunk))\n",
      "/home/voldemort/anaconda3/envs/llm_env/lib/python3.10/site-packages/seqeval/metrics/sequence_labeling.py:171: UserWarning: Pathogen seems not to be NE tag.\n",
      "  warnings.warn('{} seems not to be NE tag.'.format(chunk))\n",
      "/home/voldemort/anaconda3/envs/llm_env/lib/python3.10/site-packages/seqeval/metrics/sequence_labeling.py:171: UserWarning: Medicine seems not to be NE tag.\n",
      "  warnings.warn('{} seems not to be NE tag.'.format(chunk))\n"
     ]
    }
   ],
   "source": [
    "result, model_outputs, preds_list = model.eval_model(test_data)"
   ]
  },
  {
   "cell_type": "code",
   "execution_count": 20,
   "id": "1496656a-7b25-4298-aeaa-8179288d1c38",
   "metadata": {},
   "outputs": [
    {
     "data": {
      "text/plain": [
       "{'eval_loss': 0.39668184518814087,\n",
       " 'precision': 0.8,\n",
       " 'recall': 0.6511627906976745,\n",
       " 'f1_score': 0.7179487179487181}"
      ]
     },
     "execution_count": 20,
     "metadata": {},
     "output_type": "execute_result"
    }
   ],
   "source": [
    "result"
   ]
  },
  {
   "cell_type": "code",
   "execution_count": 21,
   "id": "10873bfc-63bc-4ba1-bcad-6687dab18b8b",
   "metadata": {},
   "outputs": [],
   "source": [
    "test_input = \"\"\"\n",
    "While bismuth compounds (Pepto-Bismol) decreased the number of bowel movements in those with travelers' \n",
    "diarrhea, they do not decrease the length of illness.[91] Anti-motility agents like loperamide are also effective \n",
    "at reducing the number of stools but not the duration of disease.[8] \n",
    "These agents should be used only if bloody diarrhea is not present.[92]\\n\\nDiosmectite, a natural \n",
    "aluminomagnesium silicate clay, is effective in alleviating symptoms of acute diarrhea in children,[93] \n",
    "and also has some effects in chronic functional diarrhea, radiation-induced diarrhea, and \n",
    "chemotherapy-induced diarrhea.[45] Another absorbent agent used for the treatment of mild diarrhea is kaopectate. \n",
    "Racecadotril an antisecretory medication may be used to treat diarrhea in children and adults.[86] It has better tolerability \n",
    "than loperamide, as it causes less constipation and flatulence.[94]\n",
    "\"\"\""
   ]
  },
  {
   "cell_type": "code",
   "execution_count": 22,
   "id": "e7f85f54-f397-42b4-b76d-d4ace33daa32",
   "metadata": {},
   "outputs": [
    {
     "data": {
      "application/vnd.jupyter.widget-view+json": {
       "model_id": "5d93200a1dc54d598cf074788303c5be",
       "version_major": 2,
       "version_minor": 0
      },
      "text/plain": [
       "  0%|          | 0/1 [00:00<?, ?it/s]"
      ]
     },
     "metadata": {},
     "output_type": "display_data"
    },
    {
     "data": {
      "application/vnd.jupyter.widget-view+json": {
       "model_id": "553e5c01965644f4840738ffb6bb258a",
       "version_major": 2,
       "version_minor": 0
      },
      "text/plain": [
       "Running Prediction:   0%|          | 0/1 [00:00<?, ?it/s]"
      ]
     },
     "metadata": {},
     "output_type": "display_data"
    },
    {
     "name": "stderr",
     "output_type": "stream",
     "text": [
      "/home/voldemort/anaconda3/envs/llm_env/lib/python3.10/site-packages/simpletransformers/ner/ner_model.py:1643: FutureWarning: `torch.cuda.amp.autocast(args...)` is deprecated. Please use `torch.amp.autocast('cuda', args...)` instead.\n",
      "  with amp.autocast():\n"
     ]
    }
   ],
   "source": [
    "prediction, model_output = model.predict([test_input])"
   ]
  },
  {
   "cell_type": "code",
   "execution_count": 47,
   "id": "32c65209-ccac-48c3-ac53-888964ad35b7",
   "metadata": {},
   "outputs": [
    {
     "data": {
      "text/plain": [
       "'while bismuth compounds pepto bismol decreased the number of bowel movements in those with travelers diarrhea [MEDICALCONDITION] they do not decrease the length of illness anti motility agents like loperamide [MEDICINE] are also effective at reducing the number of stools but not the duration of disease these agents should be used only if bloody diarrhea [MEDICALCONDITION] is not present diosmectite [MEDICINE] a natural aluminomagnesium [MEDICINE] silicate [MEDICALCONDITION] clay is effective in alleviating symptoms of acute diarrhea [MEDICALCONDITION] in children'"
      ]
     },
     "execution_count": 47,
     "metadata": {},
     "output_type": "execute_result"
    }
   ],
   "source": [
    "final_ouput = \"\"\n",
    "for word_tag_pair in prediction[0]:\n",
    "    tag = list(word_tag_pair.values())[0]\n",
    "    word = list(word_tag_pair.keys())[0]\n",
    "    \n",
    "    if tag!=\"Others\":\n",
    "        final_ouput+=f\" {preprocess_text(word)} [{tag.upper()}]\"\n",
    "    else:\n",
    "        final_ouput+=f\" {preprocess_text(word)}\"\n",
    "final_ouput = final_ouput.strip()\n",
    "final_ouput"
   ]
  }
 ],
 "metadata": {
  "kernelspec": {
   "display_name": "llm_env",
   "language": "python",
   "name": "llm_env"
  },
  "language_info": {
   "codemirror_mode": {
    "name": "ipython",
    "version": 3
   },
   "file_extension": ".py",
   "mimetype": "text/x-python",
   "name": "python",
   "nbconvert_exporter": "python",
   "pygments_lexer": "ipython3",
   "version": "3.10.14"
  }
 },
 "nbformat": 4,
 "nbformat_minor": 5
}
