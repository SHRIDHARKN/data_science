{
 "cells": [
  {
   "cell_type": "code",
   "execution_count": 1,
   "metadata": {},
   "outputs": [],
   "source": [
    "import spacy\n",
    "import json\n",
    "import random\n",
    "from spacy.training.example import Example"
   ]
  },
  {
   "cell_type": "code",
   "execution_count": 2,
   "metadata": {},
   "outputs": [],
   "source": [
    "def load_json_data(file):\n",
    "    with open(file, \"r\", encoding=\"utf-8\") as f:\n",
    "        data = json.load(f)\n",
    "    return (data)"
   ]
  },
  {
   "cell_type": "code",
   "execution_count": 3,
   "metadata": {},
   "outputs": [],
   "source": [
    "def save_json_data(file, data):\n",
    "    with open (file, \"w\", encoding=\"utf-8\") as f:\n",
    "        json.dump(data, f, indent=4)"
   ]
  },
  {
   "cell_type": "code",
   "execution_count": 4,
   "metadata": {},
   "outputs": [],
   "source": [
    "def train_spacy(data, iterations):\n",
    "    TRAIN_DATA = data\n",
    "    ner_model = spacy.blank(\"en\")\n",
    "    \n",
    "    if \"ner\" not in ner_model.pipe_names:\n",
    "        ner = ner_model.add_pipe(\"ner\", last=True)\n",
    "    \n",
    "    # Add labels to the NER component\n",
    "    for _, annotations in TRAIN_DATA:\n",
    "        for ent in annotations.get(\"entities\"):\n",
    "            ner.add_label(ent[2])\n",
    "    \n",
    "    # Disable other pipes for training only NER\n",
    "    other_pipes = [pipe for pipe in ner_model.pipe_names if pipe != \"ner\"]\n",
    "    with ner_model.disable_pipes(*other_pipes):\n",
    "        optimizer = ner_model.begin_training()\n",
    "        for itn in range(iterations):\n",
    "            print(\"Starting iteration \" + str(itn))\n",
    "            random.shuffle(TRAIN_DATA)\n",
    "            losses = {}\n",
    "            for text, annotations in TRAIN_DATA:\n",
    "                # Create Example object\n",
    "                doc = ner_model.make_doc(text)\n",
    "                example = Example.from_dict(doc, annotations)\n",
    "                \n",
    "                # Update the model with the Example object\n",
    "                ner_model.update(\n",
    "                    [example],  # List of Example objects\n",
    "                    drop=0.2,\n",
    "                    sgd=optimizer,\n",
    "                    losses=losses\n",
    "                )\n",
    "            print(f\"loss @ {itn}\",losses.get(\"ner\"))\n",
    "    return ner_model"
   ]
  },
  {
   "cell_type": "code",
   "execution_count": 5,
   "metadata": {},
   "outputs": [
    {
     "name": "stdout",
     "output_type": "stream",
     "text": [
      "Starting iteration 0\n",
      "loss @ 0 1173.0989255151123\n",
      "Starting iteration 1\n",
      "loss @ 1 243.65640006619478\n",
      "Starting iteration 2\n",
      "loss @ 2 139.91759563502958\n",
      "Starting iteration 3\n",
      "loss @ 3 126.27410132768671\n",
      "Starting iteration 4\n",
      "loss @ 4 127.82585205081172\n",
      "Starting iteration 5\n",
      "loss @ 5 108.42290607387334\n",
      "Starting iteration 6\n",
      "loss @ 6 81.35821965079461\n",
      "Starting iteration 7\n",
      "loss @ 7 62.02512983493153\n",
      "Starting iteration 8\n",
      "loss @ 8 65.44746564939062\n",
      "Starting iteration 9\n",
      "loss @ 9 82.96372085565211\n"
     ]
    }
   ],
   "source": [
    "# load the data\n",
    "TRAIN_DATA = load_json_data(\"data/hp_training_data.json\")\n",
    "# train ner model\n",
    "num_epochs = 10\n",
    "ner_model = train_spacy(TRAIN_DATA, num_epochs)\n",
    "# save ner model\n",
    "ner_model.to_disk(\"hp_ner_model\")"
   ]
  },
  {
   "cell_type": "code",
   "execution_count": 6,
   "metadata": {},
   "outputs": [],
   "source": [
    "# load the trained hp ner model\n",
    "ner_hp_model = spacy.load('hp_ner_model')"
   ]
  },
  {
   "cell_type": "code",
   "execution_count": 7,
   "metadata": {},
   "outputs": [
    {
     "data": {
      "text/plain": [
       "\"At the start-of-term banquet, Harry had gotten the idea that Professor Snape disliked him. By the end of the first Potions lesson, he knew he'd been wrong. Snape didn't dislike Harry -- he hated him.\""
      ]
     },
     "execution_count": 7,
     "metadata": {},
     "output_type": "execute_result"
    }
   ],
   "source": [
    "TRAIN_DATA[0][0]"
   ]
  },
  {
   "cell_type": "code",
   "execution_count": 8,
   "metadata": {},
   "outputs": [],
   "source": [
    "doc = ner_hp_model(TRAIN_DATA[0][0])"
   ]
  },
  {
   "cell_type": "code",
   "execution_count": 9,
   "metadata": {},
   "outputs": [
    {
     "name": "stdout",
     "output_type": "stream",
     "text": [
      "PERSON - Harry\n",
      "PERSON - Professor Snape\n",
      "PERSON - Snape\n",
      "PERSON - Harry\n"
     ]
    }
   ],
   "source": [
    "for ent in doc.ents:\n",
    "    print(f'{ent.label_.upper()} - {ent.text}')"
   ]
  }
 ],
 "metadata": {
  "kernelspec": {
   "display_name": "nlp_env",
   "language": "python",
   "name": "nlp-env"
  },
  "language_info": {
   "codemirror_mode": {
    "name": "ipython",
    "version": 3
   },
   "file_extension": ".py",
   "mimetype": "text/x-python",
   "name": "python",
   "nbconvert_exporter": "python",
   "pygments_lexer": "ipython3",
   "version": "3.11.10"
  }
 },
 "nbformat": 4,
 "nbformat_minor": 2
}
