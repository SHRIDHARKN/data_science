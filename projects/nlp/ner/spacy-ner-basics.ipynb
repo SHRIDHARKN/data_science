{
 "cells": [
  {
   "cell_type": "markdown",
   "metadata": {},
   "source": [
    "`pip install spacy==3.7.5`<br>\n",
    "`python -m spacy download en_core_web_lg`<br>"
   ]
  },
  {
   "cell_type": "code",
   "execution_count": 1,
   "metadata": {},
   "outputs": [],
   "source": [
    "import spacy"
   ]
  },
  {
   "cell_type": "code",
   "execution_count": 2,
   "metadata": {},
   "outputs": [],
   "source": [
    "test = \"\"\"\n",
    "Mr. Dursley was the director of a firm called Grunnings, which made drills. \n",
    "He was a big, beefy man with hardly any neck, although he did have a very large mustache. \n",
    "Mrs. Dursley was thin and blonde and had nearly twice the usual amount of neck, which came \n",
    "in very useful as she spent so much of her time craning over garden fences, spying on the \n",
    "neighbors. The Dursleys had a small son called Dudley and in their opinion there was no \n",
    "finer boy anywhere.\"\"\""
   ]
  },
  {
   "cell_type": "code",
   "execution_count": 3,
   "metadata": {},
   "outputs": [],
   "source": [
    "# load a pretrained ner model\n",
    "ner_model = spacy.load(\"en_core_web_lg\")"
   ]
  },
  {
   "cell_type": "code",
   "execution_count": 4,
   "metadata": {},
   "outputs": [
    {
     "name": "stdout",
     "output_type": "stream",
     "text": [
      "Dursley PERSON\n",
      "Grunnings ORG\n",
      "Dursley PERSON\n",
      "Dursleys ORG\n",
      "Dudley PERSON\n"
     ]
    }
   ],
   "source": [
    "doc = ner_model(test)\n",
    "for ent in doc.ents:\n",
    "    print (ent.text, ent.label_)"
   ]
  },
  {
   "cell_type": "code",
   "execution_count": 5,
   "metadata": {},
   "outputs": [
    {
     "data": {
      "text/plain": [
       "(Dursley, Grunnings, Dursley, Dursleys, Dudley)"
      ]
     },
     "execution_count": 5,
     "metadata": {},
     "output_type": "execute_result"
    }
   ],
   "source": [
    "doc.ents"
   ]
  }
 ],
 "metadata": {
  "kernelspec": {
   "display_name": "dl",
   "language": "python",
   "name": "deep_learning"
  },
  "language_info": {
   "codemirror_mode": {
    "name": "ipython",
    "version": 3
   },
   "file_extension": ".py",
   "mimetype": "text/x-python",
   "name": "python",
   "nbconvert_exporter": "python",
   "pygments_lexer": "ipython3",
   "version": "3.10.13"
  }
 },
 "nbformat": 4,
 "nbformat_minor": 2
}
