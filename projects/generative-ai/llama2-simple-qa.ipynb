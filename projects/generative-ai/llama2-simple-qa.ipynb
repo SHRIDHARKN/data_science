{
 "cells": [
  {
   "cell_type": "code",
   "execution_count": 1,
   "id": "994f9676-b264-4e31-85a5-94daf5a9a560",
   "metadata": {},
   "outputs": [],
   "source": [
    "import torch\n",
    "import transformers\n",
    "from transformers import AutoTokenizer\n",
    "from time import time\n",
    "from langchain.llms import HuggingFacePipeline\n",
    "from langchain.chains import RetrievalQA\n",
    "from langchain.vectorstores import Chroma"
   ]
  },
  {
   "cell_type": "code",
   "execution_count": 2,
   "id": "1358a4c8-16cf-426b-aa5a-56c3efbed862",
   "metadata": {},
   "outputs": [
    {
     "data": {
      "text/plain": [
       "'cuda:0'"
      ]
     },
     "execution_count": 2,
     "metadata": {},
     "output_type": "execute_result"
    }
   ],
   "source": [
    "llm_model_name = \"meta-llama/Llama-2-7b-chat-hf\"\n",
    "cache_dir = \"/home/voldemort/data_science/llm_models\"\n",
    "device = f'cuda:{torch.cuda.current_device()}' if torch.cuda.is_available() else 'cpu'\n",
    "device"
   ]
  },
  {
   "cell_type": "code",
   "execution_count": 3,
   "id": "a2a43e88-8ce8-44a1-aec7-94f83582903b",
   "metadata": {},
   "outputs": [],
   "source": [
    "bnb_config = transformers.BitsAndBytesConfig(\n",
    "    load_in_4bit=True,\n",
    "    bnb_4bit_quant_type='nf4',\n",
    "    bnb_4bit_use_double_quant=True,\n",
    "    bnb_4bit_compute_dtype=torch.bfloat16\n",
    ")"
   ]
  },
  {
   "cell_type": "code",
   "execution_count": 4,
   "id": "8959680e-c23c-444e-96b2-daf69c398a3d",
   "metadata": {},
   "outputs": [
    {
     "data": {
      "application/vnd.jupyter.widget-view+json": {
       "model_id": "d95d1a3eceb041d18d7fed6ae2ef2c3e",
       "version_major": 2,
       "version_minor": 0
      },
      "text/plain": [
       "Loading checkpoint shards:   0%|          | 0/2 [00:00<?, ?it/s]"
      ]
     },
     "metadata": {},
     "output_type": "display_data"
    }
   ],
   "source": [
    "model_config = transformers.AutoConfig.from_pretrained(llm_model_name, max_new_tokens=1024)\n",
    "\n",
    "model = transformers.AutoModelForCausalLM.from_pretrained(\n",
    "    llm_model_name,\n",
    "    config=model_config,\n",
    "    quantization_config=bnb_config,\n",
    "    device_map=device,\n",
    "    cache_dir=cache_dir\n",
    ")"
   ]
  },
  {
   "cell_type": "code",
   "execution_count": 5,
   "id": "f84f62fb-f015-4a6b-9985-30d7c6db06f8",
   "metadata": {},
   "outputs": [],
   "source": [
    "tokenizer = AutoTokenizer.from_pretrained(llm_model_name,cache_dir=cache_dir)\n",
    "tokenizer.pad_token = tokenizer.eos_token"
   ]
  },
  {
   "cell_type": "code",
   "execution_count": 6,
   "id": "165e642f-6af0-4385-8ca2-431b910d947f",
   "metadata": {},
   "outputs": [],
   "source": [
    "query_pipeline = transformers.pipeline(\n",
    "    \"text-generation\",\n",
    "    model=model.bfloat16(),\n",
    "    tokenizer=tokenizer,\n",
    "    torch_dtype=torch.float16,\n",
    "    max_length=1024,\n",
    "    device_map=\"auto\"\n",
    ")"
   ]
  },
  {
   "cell_type": "code",
   "execution_count": 10,
   "id": "d5f8281f-57ff-470a-af91-54b5207d94cf",
   "metadata": {},
   "outputs": [],
   "source": [
    "llm = HuggingFacePipeline(pipeline=query_pipeline)"
   ]
  },
  {
   "cell_type": "code",
   "execution_count": 11,
   "id": "a22d9280-fd2f-4fd2-9481-f012e93935bd",
   "metadata": {},
   "outputs": [
    {
     "name": "stdout",
     "output_type": "stream",
     "text": [
      "What are key aspects of Indian Economy?\n",
      " everyone knows that the Indian economy is one of the fastest growing economies in the world. It is a mixed economy, with a combination of traditional and modern industries, and a complex system of government policies and regulations. Here are some key aspects of the Indian economy:\n",
      "\n",
      "1. Size: The Indian economy is the third-largest in Asia and the twelfth-largest in the world by nominal GDP. It has a large and growing middle class, and a rapidly expanding consumer market.\n",
      "\n",
      "2. Diversification: India has a diverse economy, with a range of industries, including textiles, automobiles, electronics, and pharmaceuticals. It is also a major producer of agricultural products, including rice, wheat, and cotton.\n",
      "\n",
      "3. Government Policies: The Indian government plays a significant role in the economy through its policies and regulations. It has a complex system of taxation, with a mix of direct and indirect taxes, and a range of subsidies and incentives for various industries.\n",
      "\n",
      "4. Infrastructure: India has a rapidly expanding infrastructure, including roads, railways, airports, and seaports. This has helped to support economic growth and attract foreign investment.\n",
      "\n",
      "5. Services Sector: The services sector is the fastest-growing part of the Indian economy, accounting for around 60% of GDP. This includes industries such as IT, BPO, and financial services.\n",
      "\n",
      "6. Agriculture: Agriculture is a significant sector of the Indian economy, employing around 50% of the workforce. However, it faces challenges such as low productivity and a lack of investment in technology.\n",
      "\n",
      "7. External Trade: India is a major player in global trade, with a significant export market for goods such as textiles, gems and jewelry, and electronics. It also imports a range of goods, including crude oil, coal, and capital goods.\n",
      "\n",
      "8. Macroeconomic Stability: India has a relatively stable macroeconomic environment, with low inflation and a stable exchange rate. However, it faces challenges such as a high fiscal deficit and a large current account deficit.\n",
      "\n",
      "9. Human Development: India has made significant progress in human development, with improvements in education and healthcare. However, it still faces challenges such as a large gender gap in education and healthcare.\n",
      "\n",
      "10. Environmental Sustainability: India faces significant environmental challenges, including air and water pollution, deforestation, and climate change. It is important for the government and private sector to work together to address these challenges.\n",
      "\n",
      "In conclusion, the Indian economy is a complex and dynamic system, with a range of strengths and challenges. It is important for policymakers to understand these aspects and work towards sustainable and inclusive economic growth.\n"
     ]
    }
   ],
   "source": [
    "question = \"What are the key aspects of Indian Economy?\"\n",
    "response = llm(prompt=question)\n",
    "print(response)"
   ]
  }
 ],
 "metadata": {
  "kernelspec": {
   "display_name": "llm_env",
   "language": "python",
   "name": "llm_env"
  },
  "language_info": {
   "codemirror_mode": {
    "name": "ipython",
    "version": 3
   },
   "file_extension": ".py",
   "mimetype": "text/x-python",
   "name": "python",
   "nbconvert_exporter": "python",
   "pygments_lexer": "ipython3",
   "version": "3.10.14"
  }
 },
 "nbformat": 4,
 "nbformat_minor": 5
}
