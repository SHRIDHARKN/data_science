{
 "cells": [
  {
   "cell_type": "code",
   "execution_count": 15,
   "id": "475352ac-a177-421e-afad-f56a9bf25e16",
   "metadata": {},
   "outputs": [],
   "source": [
    "import torch\n",
    "import transformers\n",
    "from transformers import AutoTokenizer\n",
    "from langchain.document_loaders import DirectoryLoader\n",
    "from langchain.text_splitter import RecursiveCharacterTextSplitter\n",
    "from langchain.embeddings import SentenceTransformerEmbeddings\n",
    "from langchain.vectorstores import Chroma\n",
    "from langchain.llms import HuggingFacePipeline\n",
    "from langchain.chains.question_answering import load_qa_chain\n",
    "import warnings\n",
    "warnings.filterwarnings(\"ignore\") "
   ]
  },
  {
   "cell_type": "code",
   "execution_count": 2,
   "id": "d295ca5c-ff29-4c7d-aeba-6f00e95a0023",
   "metadata": {},
   "outputs": [
    {
     "data": {
      "text/plain": [
       "2"
      ]
     },
     "execution_count": 2,
     "metadata": {},
     "output_type": "execute_result"
    }
   ],
   "source": [
    "data_path = r\"/home/voldemort/data_science/data/rag/docs/economy\"\n",
    "\n",
    "def load_docs(data_path):\n",
    "    loader = DirectoryLoader(data_path)\n",
    "    documents = loader.load()\n",
    "    return documents\n",
    "\n",
    "documents = load_docs(data_path)\n",
    "len(documents)"
   ]
  },
  {
   "cell_type": "code",
   "execution_count": 3,
   "id": "b1698456-5fe1-4701-bc76-8452953a2b03",
   "metadata": {},
   "outputs": [
    {
     "data": {
      "text/plain": [
       "6"
      ]
     },
     "execution_count": 3,
     "metadata": {},
     "output_type": "execute_result"
    }
   ],
   "source": [
    "def split_docs(documents,chunk_size=512,chunk_overlap=0):\n",
    "    text_splitter = RecursiveCharacterTextSplitter(chunk_size=chunk_size, chunk_overlap=chunk_overlap)\n",
    "    docs = text_splitter.split_documents(documents)\n",
    "    return docs\n",
    "\n",
    "docs = split_docs(documents)\n",
    "len(docs)"
   ]
  },
  {
   "cell_type": "code",
   "execution_count": 64,
   "id": "34af73d0-22e2-4f11-a191-797992611081",
   "metadata": {},
   "outputs": [
    {
     "name": "stdout",
     "output_type": "stream",
     "text": [
      "Key Economic Indicators of India (As of September 2024)\n",
      "\n",
      "Note: These figures are estimates and subject to change. Please refer to official government sources for the most accurate and up-to-date data.\n",
      "\n",
      "Macroeconomic Indicators\n",
      "\n",
      "GDP: Approximately $3.95 trillion (nominal) and $14.59 trillion (PPP)\n",
      "\n",
      "GDP Growth Rate: Around 7% (estimated for FY2024)\n",
      "\n",
      "\n",
      "\n",
      "Inflation: Around 5-6% (estimated)\n",
      "\n",
      "Unemployment Rate: Approximately 6.7% (estimated)\n",
      "\n",
      "Sectoral Composition\n",
      "\n",
      "Agriculture: Approximately 15% of GDP\n"
     ]
    }
   ],
   "source": [
    "print(docs[0].page_content)"
   ]
  },
  {
   "cell_type": "code",
   "execution_count": 5,
   "id": "0d79df02-fcaf-4d85-89b4-bda1fecf04ae",
   "metadata": {},
   "outputs": [
    {
     "name": "stderr",
     "output_type": "stream",
     "text": [
      "No sentence-transformers model found with name google/flan-t5-large. Creating a new one with MEAN pooling.\n"
     ]
    }
   ],
   "source": [
    "llm_model_embed_name = \"google/flan-t5-large\"\n",
    "embeddings = SentenceTransformerEmbeddings(model_name=llm_model_embed_name)"
   ]
  },
  {
   "cell_type": "code",
   "execution_count": 6,
   "id": "e771883e-441c-4f4b-8dbe-7b09622d1a1d",
   "metadata": {},
   "outputs": [],
   "source": [
    "index  = Chroma.from_documents(docs, embeddings)"
   ]
  },
  {
   "cell_type": "code",
   "execution_count": 11,
   "id": "07d238f6-e234-41f1-b531-68398c0a0ea2",
   "metadata": {},
   "outputs": [
    {
     "data": {
      "application/vnd.jupyter.widget-view+json": {
       "model_id": "5b46d600a7a34a7f8faa631e3e14ad15",
       "version_major": 2,
       "version_minor": 0
      },
      "text/plain": [
       "Loading checkpoint shards:   0%|          | 0/2 [00:00<?, ?it/s]"
      ]
     },
     "metadata": {},
     "output_type": "display_data"
    }
   ],
   "source": [
    "llm_model_name = \"meta-llama/Llama-2-7b-chat-hf\"\n",
    "cache_dir = \"/home/voldemort/data_science/llm_models\"\n",
    "device = f'cuda:{torch.cuda.current_device()}' if torch.cuda.is_available() else 'cpu'\n",
    "\n",
    "\n",
    "bnb_config = transformers.BitsAndBytesConfig(\n",
    "    load_in_4bit=True,\n",
    "    bnb_4bit_quant_type='nf4',\n",
    "    bnb_4bit_use_double_quant=True,\n",
    "    bnb_4bit_compute_dtype=torch.bfloat16\n",
    ")\n",
    "\n",
    "model_config = transformers.AutoConfig.from_pretrained(llm_model_name, max_new_tokens=1024)\n",
    "\n",
    "model = transformers.AutoModelForCausalLM.from_pretrained(\n",
    "    llm_model_name,\n",
    "    config=model_config,\n",
    "    quantization_config=bnb_config,\n",
    "    device_map=device,\n",
    "    cache_dir=cache_dir\n",
    ")"
   ]
  },
  {
   "cell_type": "code",
   "execution_count": 16,
   "id": "cae8b456-9c4f-454e-9262-13d5042ad681",
   "metadata": {},
   "outputs": [],
   "source": [
    "tokenizer = AutoTokenizer.from_pretrained(llm_model_name,cache_dir=cache_dir)\n",
    "tokenizer.pad_token = tokenizer.eos_token"
   ]
  },
  {
   "cell_type": "code",
   "execution_count": 17,
   "id": "694c70dd-2597-4cc5-86da-12903620c848",
   "metadata": {},
   "outputs": [],
   "source": [
    "pipe  = transformers.pipeline(\"text-generation\",model=model,tokenizer=tokenizer,max_length=1024,temperature=0.1)"
   ]
  },
  {
   "cell_type": "code",
   "execution_count": 18,
   "id": "22c43a6a-cc69-40b9-96cc-c89473044ed1",
   "metadata": {},
   "outputs": [],
   "source": [
    "llm = HuggingFacePipeline(pipeline=pipe)"
   ]
  },
  {
   "cell_type": "code",
   "execution_count": 19,
   "id": "ec77c8ac-5cc1-4035-9317-1b92189cfebb",
   "metadata": {},
   "outputs": [],
   "source": [
    "chain = load_qa_chain(llm, chain_type=\"stuff\")"
   ]
  },
  {
   "cell_type": "code",
   "execution_count": 20,
   "id": "d966b2cd-52bd-4de2-bfe1-254440425168",
   "metadata": {},
   "outputs": [],
   "source": [
    "def get_similiar_docs(query, k=5, score=False):\n",
    "  if score:\n",
    "    similar_docs = index.similarity_search_with_score(query, k=k)\n",
    "  else:\n",
    "    similar_docs = index.similarity_search(query, k=k)\n",
    "  return similar_docs\n",
    "    \n",
    "def get_answer(query):\n",
    "  similar_docs = get_similiar_docs(query)\n",
    "  answer = chain.run(input_documents=similar_docs, question=query)\n",
    "  return answer"
   ]
  },
  {
   "cell_type": "code",
   "execution_count": 47,
   "id": "bd372b0b-db6a-440d-a44a-dbc8d5aaa778",
   "metadata": {},
   "outputs": [],
   "source": [
    "query = \"How much is India's Economy ?\"\n",
    "answer = get_answer(query)"
   ]
  },
  {
   "cell_type": "code",
   "execution_count": 50,
   "id": "46793feb-1017-4167-bc7c-cc5ebc378800",
   "metadata": {},
   "outputs": [
    {
     "name": "stdout",
     "output_type": "stream",
     "text": [
      " According to the given information, India's economy is approximately $3.95 trillion (nominal) and $14.59 trillion (PPP) in terms of GDP.\n",
      "\n",
      "\n"
     ]
    }
   ],
   "source": [
    "print(answer.split(\"Helpful Answer:\")[1].split(\"Unhelpful Answer:\")[0])"
   ]
  },
  {
   "cell_type": "code",
   "execution_count": 51,
   "id": "955d40d2-0295-4618-9b35-43385f6c9dbb",
   "metadata": {},
   "outputs": [],
   "source": [
    "query = \"What are the contributions of various sectors to Indian Economy ?\"\n",
    "answer = get_answer(query)"
   ]
  },
  {
   "cell_type": "code",
   "execution_count": 52,
   "id": "8557c0ca-c071-4e66-9dd6-aa75fb2ede6d",
   "metadata": {},
   "outputs": [
    {
     "name": "stdout",
     "output_type": "stream",
     "text": [
      " According to the given information, the major sectors contributing to the Indian economy are:\n",
      "\n",
      "Agriculture: Approximately 15% of GDP\n",
      "\n",
      "Industry: Approximately 21% of GDP\n",
      "\n",
      "Services: Approximately 77.8% of GDP\n",
      "\n",
      "Therefore, the major contributors to the Indian economy are agriculture, industry, and services. However, please note that these figures are estimates and subject to change, and the Indian economy is a complex and dynamic system. For more in-depth analysis, I recommend consulting official government sources like the Reserve Bank of India (RBI), the Ministry of Statistics and Program Implementation (MoSPI), and the World Bank.\n"
     ]
    }
   ],
   "source": [
    "print(answer.split(\"Helpful Answer:\")[1].split(\"Unhelpful Answer:\")[0])"
   ]
  },
  {
   "cell_type": "code",
   "execution_count": 62,
   "id": "05ffa164-19f8-447a-bc4a-62cc61e08a50",
   "metadata": {},
   "outputs": [],
   "source": [
    "query = \"What is the ratio of India's GDP to USA's GDP?\"\n",
    "answer = get_answer(query)"
   ]
  },
  {
   "cell_type": "code",
   "execution_count": 63,
   "id": "165483a6-e732-4e21-bfe8-20bafc0b652f",
   "metadata": {},
   "outputs": [
    {
     "name": "stdout",
     "output_type": "stream",
     "text": [
      " According to the given data, India's GDP (nominal) is approximately $3.95 trillion, while USA's GDP (nominal) is approximately $26.3 trillion. Therefore, India's GDP is approximately 15% of USA's GDP.\n",
      "\n",
      "\n"
     ]
    }
   ],
   "source": [
    "print(answer.split(\"Helpful Answer:\")[1].split(\"Unhelpful Answer:\")[0])"
   ]
  }
 ],
 "metadata": {
  "kernelspec": {
   "display_name": "llm_env",
   "language": "python",
   "name": "llm_env"
  },
  "language_info": {
   "codemirror_mode": {
    "name": "ipython",
    "version": 3
   },
   "file_extension": ".py",
   "mimetype": "text/x-python",
   "name": "python",
   "nbconvert_exporter": "python",
   "pygments_lexer": "ipython3",
   "version": "3.10.14"
  }
 },
 "nbformat": 4,
 "nbformat_minor": 5
}
