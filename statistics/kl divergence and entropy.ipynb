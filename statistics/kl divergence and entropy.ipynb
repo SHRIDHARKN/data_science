{
 "cells": [
  {
   "cell_type": "code",
   "execution_count": 1,
   "id": "7a4736fa",
   "metadata": {
    "ExecuteTime": {
     "end_time": "2023-09-02T17:32:43.019238Z",
     "start_time": "2023-09-02T17:32:42.895044Z"
    }
   },
   "outputs": [],
   "source": [
    "import numpy as np\n",
    "from scipy.special import kl_div"
   ]
  },
  {
   "cell_type": "code",
   "execution_count": 2,
   "id": "29c7e901",
   "metadata": {
    "ExecuteTime": {
     "end_time": "2023-09-02T17:32:51.124623Z",
     "start_time": "2023-09-02T17:32:51.107623Z"
    }
   },
   "outputs": [],
   "source": [
    "P = np.array([0.6,0.2,0.15,0.05])\n",
    "Q = np.array([0.3,0.4,0.2,0.1])"
   ]
  },
  {
   "cell_type": "code",
   "execution_count": 3,
   "id": "6c13c0c2",
   "metadata": {
    "ExecuteTime": {
     "end_time": "2023-09-02T17:33:00.871145Z",
     "start_time": "2023-09-02T17:33:00.863153Z"
    }
   },
   "outputs": [
    {
     "data": {
      "text/plain": [
       "1.0627375681569962"
      ]
     },
     "execution_count": 3,
     "metadata": {},
     "output_type": "execute_result"
    }
   ],
   "source": [
    "# entropy\n",
    "entropy = -np.sum(P*np.log(P))\n",
    "entropy"
   ]
  },
  {
   "cell_type": "code",
   "execution_count": 4,
   "id": "7ab4a00c",
   "metadata": {
    "ExecuteTime": {
     "end_time": "2023-09-02T17:33:13.398847Z",
     "start_time": "2023-09-02T17:33:13.388850Z"
    }
   },
   "outputs": [
    {
     "data": {
      "text/plain": [
       "1.2621867704852099"
      ]
     },
     "execution_count": 4,
     "metadata": {},
     "output_type": "execute_result"
    }
   ],
   "source": [
    "# cross entropy\n",
    "cross_entropy = -np.sum(P*np.log(Q))\n",
    "cross_entropy"
   ]
  },
  {
   "cell_type": "code",
   "execution_count": 5,
   "id": "c9f2d3f3",
   "metadata": {
    "ExecuteTime": {
     "end_time": "2023-09-02T17:33:22.950422Z",
     "start_time": "2023-09-02T17:33:22.936261Z"
    }
   },
   "outputs": [
    {
     "data": {
      "text/plain": [
       "0.19944920232821373"
      ]
     },
     "execution_count": 5,
     "metadata": {},
     "output_type": "execute_result"
    }
   ],
   "source": [
    "kl_div_cal = cross_entropy-entropy\n",
    "kl_div_cal"
   ]
  },
  {
   "cell_type": "code",
   "execution_count": 6,
   "id": "04357163",
   "metadata": {
    "ExecuteTime": {
     "end_time": "2023-09-02T17:33:31.217588Z",
     "start_time": "2023-09-02T17:33:31.209599Z"
    }
   },
   "outputs": [
    {
     "data": {
      "text/plain": [
       "0.19944920232821378"
      ]
     },
     "execution_count": 6,
     "metadata": {},
     "output_type": "execute_result"
    }
   ],
   "source": [
    "np.sum(kl_div(P,Q))"
   ]
  }
 ],
 "metadata": {
  "kernelspec": {
   "display_name": "Python 3 (ipykernel)",
   "language": "python",
   "name": "python3"
  },
  "language_info": {
   "codemirror_mode": {
    "name": "ipython",
    "version": 3
   },
   "file_extension": ".py",
   "mimetype": "text/x-python",
   "name": "python",
   "nbconvert_exporter": "python",
   "pygments_lexer": "ipython3",
   "version": "3.9.7"
  },
  "toc": {
   "base_numbering": 1,
   "nav_menu": {},
   "number_sections": true,
   "sideBar": true,
   "skip_h1_title": false,
   "title_cell": "Table of Contents",
   "title_sidebar": "Contents",
   "toc_cell": false,
   "toc_position": {},
   "toc_section_display": true,
   "toc_window_display": false
  },
  "varInspector": {
   "cols": {
    "lenName": 16,
    "lenType": 16,
    "lenVar": 40
   },
   "kernels_config": {
    "python": {
     "delete_cmd_postfix": "",
     "delete_cmd_prefix": "del ",
     "library": "var_list.py",
     "varRefreshCmd": "print(var_dic_list())"
    },
    "r": {
     "delete_cmd_postfix": ") ",
     "delete_cmd_prefix": "rm(",
     "library": "var_list.r",
     "varRefreshCmd": "cat(var_dic_list()) "
    }
   },
   "types_to_exclude": [
    "module",
    "function",
    "builtin_function_or_method",
    "instance",
    "_Feature"
   ],
   "window_display": false
  }
 },
 "nbformat": 4,
 "nbformat_minor": 5
}
