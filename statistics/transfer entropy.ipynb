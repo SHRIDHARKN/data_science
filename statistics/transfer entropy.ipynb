{
 "cells": [
  {
   "cell_type": "markdown",
   "id": "0b2a6108-ccae-4bcd-bede-0fb8275f274d",
   "metadata": {},
   "source": [
    "#### Transfer entropy\n",
    "Transfer entropy is commonly used with time series data because it's a measure of the influence of one variable on another over time. It helps determine how much historical data points of one variable influence the future values of another variable. This is particularly useful for analyzing cause-and-effect relationships, information flow, or dependencies in time-ordered data."
   ]
  },
  {
   "cell_type": "code",
   "execution_count": 1,
   "id": "72ebab32-cf01-43ea-9d60-fad84b4e467d",
   "metadata": {},
   "outputs": [],
   "source": [
    "# import libs\n",
    "import numpy as np\n",
    "from scipy.stats import entropy\n",
    "import pandas as pd"
   ]
  },
  {
   "cell_type": "code",
   "execution_count": 2,
   "id": "6f1fdca0-4d86-45d3-8260-819f96c988fe",
   "metadata": {},
   "outputs": [],
   "source": [
    "# code for transfer entropy\n",
    "def transfer_entropy(data, features, target):\n",
    "    te_scores = {}\n",
    "    \n",
    "    for feature in features:\n",
    "        for lag in range(1, len(data)):\n",
    "            x_t = data[feature].shift(-lag).dropna().values\n",
    "            x_t_past = data[feature].shift(lag).dropna().values\n",
    "            y_t = data[target][lag:].values\n",
    "            \n",
    "            h_x_t_given_x_t_past = entropy(x_t, x_t_past)\n",
    "            h_x_t_given_x_t_past_y_t = entropy(x_t, [x_t_past, y_t])\n",
    "            \n",
    "            te = h_x_t_given_x_t_past - h_x_t_given_x_t_past_y_t\n",
    "            \n",
    "            if feature not in te_scores:\n",
    "                te_scores[feature] = []\n",
    "            te_scores[feature].append((lag, te))\n",
    "    \n",
    "    return te_scores"
   ]
  },
  {
   "cell_type": "code",
   "execution_count": 3,
   "id": "94903360-27ac-4148-9b59-0e9a5a92e415",
   "metadata": {},
   "outputs": [
    {
     "data": {
      "text/html": [
       "<div>\n",
       "<style scoped>\n",
       "    .dataframe tbody tr th:only-of-type {\n",
       "        vertical-align: middle;\n",
       "    }\n",
       "\n",
       "    .dataframe tbody tr th {\n",
       "        vertical-align: top;\n",
       "    }\n",
       "\n",
       "    .dataframe thead th {\n",
       "        text-align: right;\n",
       "    }\n",
       "</style>\n",
       "<table border=\"1\" class=\"dataframe\">\n",
       "  <thead>\n",
       "    <tr style=\"text-align: right;\">\n",
       "      <th></th>\n",
       "      <th>Temperature</th>\n",
       "      <th>Humidity</th>\n",
       "      <th>IceCreamSales</th>\n",
       "    </tr>\n",
       "  </thead>\n",
       "  <tbody>\n",
       "    <tr>\n",
       "      <th>0</th>\n",
       "      <td>25</td>\n",
       "      <td>60</td>\n",
       "      <td>100</td>\n",
       "    </tr>\n",
       "    <tr>\n",
       "      <th>1</th>\n",
       "      <td>26</td>\n",
       "      <td>65</td>\n",
       "      <td>105</td>\n",
       "    </tr>\n",
       "    <tr>\n",
       "      <th>2</th>\n",
       "      <td>27</td>\n",
       "      <td>70</td>\n",
       "      <td>110</td>\n",
       "    </tr>\n",
       "    <tr>\n",
       "      <th>3</th>\n",
       "      <td>28</td>\n",
       "      <td>75</td>\n",
       "      <td>115</td>\n",
       "    </tr>\n",
       "    <tr>\n",
       "      <th>4</th>\n",
       "      <td>29</td>\n",
       "      <td>80</td>\n",
       "      <td>120</td>\n",
       "    </tr>\n",
       "  </tbody>\n",
       "</table>\n",
       "</div>"
      ],
      "text/plain": [
       "   Temperature  Humidity  IceCreamSales\n",
       "0           25        60            100\n",
       "1           26        65            105\n",
       "2           27        70            110\n",
       "3           28        75            115\n",
       "4           29        80            120"
      ]
     },
     "execution_count": 3,
     "metadata": {},
     "output_type": "execute_result"
    }
   ],
   "source": [
    "data = pd.DataFrame({\n",
    "    'Temperature': [25, 26, 27, 28, 29],\n",
    "    'Humidity': [60, 65, 70, 75, 80],\n",
    "    'IceCreamSales': [100, 105, 110, 115, 120]\n",
    "})\n",
    "\n",
    "data.head()"
   ]
  },
  {
   "cell_type": "code",
   "execution_count": 4,
   "id": "98508278-79e3-4d1d-8a84-716b68d656ec",
   "metadata": {},
   "outputs": [],
   "source": [
    "features = ['Temperature','Humidity']\n",
    "target = 'IceCreamSales'\n",
    "te_scores = transfer_entropy(data, features, target)"
   ]
  },
  {
   "cell_type": "code",
   "execution_count": 5,
   "id": "624ac07b-a052-4789-af64-b6d0a70cc4e2",
   "metadata": {},
   "outputs": [
    {
     "name": "stdout",
     "output_type": "stream",
     "text": [
      "Transfer Entropy from Temperature to IceCreamSales:\n",
      "  Lag 1: [0.24169125 0.23135538 0.22035268 0.20870648]\n",
      "  Lag 2: [0.12174889 0.10091367 0.07923652]\n",
      "  Lag 3: [-0.24452304 -0.29005591]\n",
      "  Lag 4: [-1.94709992]\n",
      "Transfer Entropy from Humidity to IceCreamSales:\n",
      "  Lag 1: [0.34236505 0.33506716 0.32523235 0.31303423]\n",
      "  Lag 2: [0.26710497 0.24357868 0.21695486]\n",
      "  Lag 3: [-0.01856092 -0.08050453]\n",
      "  Lag 4: [-1.5040774]\n"
     ]
    }
   ],
   "source": [
    "for feature, scores in te_scores.items():\n",
    "    print(f\"Transfer Entropy from {feature} to {target}:\")\n",
    "    for lag, te in scores:\n",
    "        print(f\"  Lag {lag}: {te}\")"
   ]
  },
  {
   "cell_type": "markdown",
   "id": "5b7568f6-b406-498a-ac2b-9fe21cfd9d74",
   "metadata": {},
   "source": [
    "The results you've obtained represent the Transfer Entropy values for different time lags when trying to predict \"IceCreamSales\" from \"Temperature.\" Each \"Lag\" corresponds to a different time shift between the two variables. Let's interpret the results:\n",
    "\n",
    "1. **Lag 1:**\n",
    "   - The Transfer Entropy values are positive, indicating that the past \"Temperature\" values (lag 1) help predict future \"IceCreamSales.\" The higher the value, the more information is transferred from \"Temperature\" to \"IceCreamSales.\"\n",
    "   - It suggests that there's a moderate influence of yesterday's temperature on today's ice cream sales.\n",
    "   - The values decrease as the lag increases, which is expected because the influence of past temperature decreases as it gets further from the current day.\n",
    "\n",
    "2. **Lag 2:**\n",
    "   - Transfer Entropy values are still positive but lower than at lag 1. This means that the temperature from two days ago has a smaller influence on today's ice cream sales.\n",
    "   - It suggests a decreasing but still moderate influence from the past.\n",
    "\n",
    "3. **Lag 3:**\n",
    "   - Transfer Entropy values are negative. This means that knowing the temperature three days ago doesn't help predict ice cream sales today. In fact, it may even lead to reduced predictability. This is because at lag 3, you're looking too far into the past for relevant information.\n",
    "\n",
    "4. **Lag 4:**\n",
    "   - Transfer Entropy is highly negative. This suggests that there's almost no transfer of information between temperature four days ago and ice cream sales today. At this lag, the information from temperature is almost unhelpful in predicting ice cream sales.\n",
    "\n",
    "In summary, these results show that there is a time-dependent relationship between \"Temperature\" and \"IceCreamSales.\" Temperature from yesterday has a moderate positive influence, but as you look further into the past, this influence decreases and can even become negative, indicating a lack of influence. These findings can be valuable for understanding how temperature affects ice cream sales and at what time scale this influence is most significant."
   ]
  }
 ],
 "metadata": {
  "kernelspec": {
   "display_name": "Python 3 (ipykernel)",
   "language": "python",
   "name": "python3"
  },
  "language_info": {
   "codemirror_mode": {
    "name": "ipython",
    "version": 3
   },
   "file_extension": ".py",
   "mimetype": "text/x-python",
   "name": "python",
   "nbconvert_exporter": "python",
   "pygments_lexer": "ipython3",
   "version": "3.9.7"
  }
 },
 "nbformat": 4,
 "nbformat_minor": 5
}
