{
 "cells": [
  {
   "cell_type": "code",
   "execution_count": 1,
   "id": "95bb255c",
   "metadata": {
    "ExecuteTime": {
     "end_time": "2024-01-10T11:09:19.191532Z",
     "start_time": "2024-01-10T11:09:15.183163Z"
    }
   },
   "outputs": [],
   "source": [
    "import tensorflow as tf\n",
    "from tensorflow.keras.preprocessing import image_dataset_from_directory\n",
    "from tensorflow.keras.preprocessing.image import ImageDataGenerator\n",
    "from tensorflow.keras.models import Model, load_model, Sequential\n",
    "from tensorflow.keras.layers import Input, Conv2D, MaxPooling2D, UpSampling2D, concatenate, \\\n",
    "                                    Conv2DTranspose, BatchNormalization, Dropout, Flatten, \\\n",
    "                                    Embedding, multiply, Add, LeakyReLU, Dense, Reshape, \\\n",
    "                                    Activation, Concatenate\n",
    "from tensorflow.keras.callbacks import ModelCheckpoint\n",
    "from tensorflow.keras.optimizers import Adam\n",
    "from tensorflow.keras import backend as K\n",
    "from tensorflow.keras.preprocessing.image import load_img, img_to_array\n",
    "\n",
    "import pandas as pd\n",
    "import os\n",
    "import joblib\n",
    "from PIL import Image\n",
    "import matplotlib.pyplot as plt\n",
    "import numpy as np\n",
    "import cv2\n",
    "from tqdm.notebook import tqdm"
   ]
  },
  {
   "cell_type": "code",
   "execution_count": 2,
   "id": "38a45cb4",
   "metadata": {
    "ExecuteTime": {
     "end_time": "2024-01-10T11:09:19.206531Z",
     "start_time": "2024-01-10T11:09:19.192534Z"
    }
   },
   "outputs": [],
   "source": [
    "reset_model_training = False\n",
    "proj_path = os.getcwd()\n",
    "mdl_chkpt_path = os.path.join(proj_path,\"mdl_chkpt\")\n",
    "mdl_progress_fold = os.path.join(proj_path,\"progress\")\n",
    "\n",
    "if reset_model_training:\n",
    "    model_train_details = {\n",
    "    \"epoch_dict\" : {\"initial_epoch\":0},\n",
    "    \"past_history\" : {},\n",
    "    \"last_checkpoint\":None    \n",
    "    }\n",
    "    joblib.dump(model_train_details,\"model_train_details\")\n",
    "    \n",
    "    if \"mdl_chkpt\" not in os.listdir(proj_path):\n",
    "        os.mkdir(mdl_chkpt_path)\n",
    "    \n",
    "    if \"progress\" not in os.listdir(proj_path):\n",
    "        os.mkdir(mdl_progress_fold)\n",
    "    \n",
    "    \n",
    "    mdl_chk_files = os.listdir(mdl_chkpt_path)\n",
    "    prog_files = os.listdir(mdl_progress_fold)\n",
    "    \n",
    "    print(f\"deleting contents of {mdl_chkpt_path}\")\n",
    "    print(f\"deleting contents of {mdl_progress_fold}\")\n",
    "    \n",
    "    for f in mdl_chk_files:\n",
    "        os.remove(os.path.join(mdl_chkpt_path,f))\n",
    "    \n",
    "    for f in prog_files:\n",
    "        os.remove(os.path.join(mdl_progress_fold,f))"
   ]
  },
  {
   "cell_type": "code",
   "execution_count": 3,
   "id": "125fbd43",
   "metadata": {
    "ExecuteTime": {
     "end_time": "2024-01-10T11:09:19.407566Z",
     "start_time": "2024-01-10T11:09:19.207537Z"
    }
   },
   "outputs": [
    {
     "data": {
      "text/plain": [
       "((60000, 28, 28), (60000,))"
      ]
     },
     "execution_count": 3,
     "metadata": {},
     "output_type": "execute_result"
    }
   ],
   "source": [
    "(x_train, y_train), (_, _) = tf.keras.datasets.mnist.load_data()\n",
    "x_train.shape,y_train.shape"
   ]
  },
  {
   "cell_type": "code",
   "execution_count": 4,
   "id": "0f25e51a",
   "metadata": {
    "ExecuteTime": {
     "end_time": "2024-01-10T11:09:19.502021Z",
     "start_time": "2024-01-10T11:09:19.408572Z"
    }
   },
   "outputs": [
    {
     "data": {
      "text/plain": [
       "((60000, 28, 28, 1), (60000,))"
      ]
     },
     "execution_count": 4,
     "metadata": {},
     "output_type": "execute_result"
    }
   ],
   "source": [
    "x_train = x_train.astype('float32') / 255.0\n",
    "x_train = np.expand_dims(x_train, axis=-1)\n",
    "x_train.shape,y_train.shape"
   ]
  },
  {
   "cell_type": "code",
   "execution_count": 5,
   "id": "18d9e340",
   "metadata": {
    "ExecuteTime": {
     "end_time": "2024-01-10T11:09:19.518015Z",
     "start_time": "2024-01-10T11:09:19.503030Z"
    }
   },
   "outputs": [],
   "source": [
    "def build_generator(num_classes=10, latent_dim = 100):\n",
    "    \n",
    "    noise = Input(shape=(latent_dim,))\n",
    "    label = Input(shape=(1,), dtype='int32')\n",
    "    label_embedding = (Embedding(num_classes, latent_dim)(label))\n",
    "    model_input = Add()([noise, label_embedding])\n",
    "    \n",
    "    x = Dense(7 * 7 * 128)(model_input)\n",
    "    x = Reshape((7, 7, 128))(x)\n",
    "    x = Conv2DTranspose(128, kernel_size=4, strides=2, padding='same')(x)\n",
    "    x = BatchNormalization()(x)\n",
    "    x = Activation('relu')(x)\n",
    "    x = Conv2DTranspose(64, kernel_size=4, strides=2, padding='same')(x)\n",
    "    x = BatchNormalization()(x)\n",
    "    x = Activation('relu')(x)\n",
    "    x = Conv2DTranspose(1, kernel_size=7, strides=1, padding='same')(x)\n",
    "    \n",
    "    model_output = Activation('sigmoid')(x)                                        \n",
    "    model = Model(inputs=[noise,label], outputs=[model_output],name=\"generator\")\n",
    "    \n",
    "    return model"
   ]
  },
  {
   "cell_type": "code",
   "execution_count": 6,
   "id": "514ab379",
   "metadata": {
    "ExecuteTime": {
     "end_time": "2024-01-10T11:09:19.533523Z",
     "start_time": "2024-01-10T11:09:19.519025Z"
    }
   },
   "outputs": [],
   "source": [
    "def build_discriminator(img_shape=(28,28,1), n_classes=10):\n",
    "    img = Input(shape=img_shape)\n",
    "    x = Conv2D(64, kernel_size=3, strides=2, padding='same')(img)\n",
    "    x = LeakyReLU(alpha=0.2)(x)\n",
    "    x = Conv2D(128, kernel_size=3, strides=2, padding='same')(x)\n",
    "    x = LeakyReLU(alpha=0.2)(x)\n",
    "    x = Flatten()(x)\n",
    "    x = Dense(1024)(x)\n",
    "    x = LeakyReLU(alpha=0.2)(x)\n",
    "    model_output = Dense(1, activation='softmax')(x)\n",
    "    \n",
    "    model = Model(inputs=img, outputs=model_output,name=\"discriminator\")\n",
    "    \n",
    "    return model"
   ]
  },
  {
   "cell_type": "code",
   "execution_count": 7,
   "id": "bc49d499",
   "metadata": {
    "ExecuteTime": {
     "end_time": "2024-01-10T11:09:21.329225Z",
     "start_time": "2024-01-10T11:09:19.534532Z"
    }
   },
   "outputs": [],
   "source": [
    "gen_model = build_generator()\n",
    "disc_model = build_discriminator()"
   ]
  },
  {
   "cell_type": "code",
   "execution_count": 8,
   "id": "4f4e60bc",
   "metadata": {
    "ExecuteTime": {
     "end_time": "2024-01-10T11:09:21.344739Z",
     "start_time": "2024-01-10T11:09:21.330226Z"
    }
   },
   "outputs": [],
   "source": [
    "class GAN(tf.keras.Model):\n",
    "    def __init__(self, discriminator, generator):\n",
    "        super(GAN, self).__init__()\n",
    "        self.discriminator = discriminator\n",
    "        self.generator = generator\n",
    "        self.gen_optimizer = tf.keras.optimizers.Adam()\n",
    "        self.disc_optimizer = tf.keras.optimizers.Adam()\n",
    "        self.checkpoint = tf.train.Checkpoint( generator=self.generator,\n",
    "                                               discriminator=self.discriminator,\n",
    "                                               gen_optimizer=self.gen_optimizer,\n",
    "                                               disc_optimizer=self.disc_optimizer)\n",
    "\n",
    "    def compile(self, gen_optimizer, disc_optimizer):\n",
    "        self.gen_optimizer = gen_optimizer\n",
    "        self.disc_optimizer = disc_optimizer\n",
    "\n",
    "    def save_checkpoint(self, checkpoint_dir):\n",
    "        self.checkpoint.save(file_prefix=checkpoint_dir)\n",
    "\n",
    "    def load_checkpoint(self, checkpoint_dir):\n",
    "        self.checkpoint.restore(tf.train.latest_checkpoint(checkpoint_dir))\n",
    "\n",
    "    @staticmethod\n",
    "    def generator_loss(fake_out_disc_pred):\n",
    "        return tf.reduce_mean(tf.keras.losses.binary_crossentropy(\n",
    "                                       tf.ones_like(fake_out_disc_pred), fake_out_disc_pred))\n",
    "\n",
    "    @staticmethod\n",
    "    def discriminator_loss(real_out_disc_pred, fake_out_disc_pred):\n",
    "        real_loss = tf.reduce_mean(\n",
    "            tf.keras.losses.binary_crossentropy(tf.ones_like(real_out_disc_pred), \n",
    "                                                     real_out_disc_pred))\n",
    "        fake_loss = tf.reduce_mean(\n",
    "            tf.keras.losses.binary_crossentropy(tf.zeros_like(fake_out_disc_pred), \n",
    "                                                     fake_out_disc_pred))\n",
    "        total_loss = real_loss + fake_loss\n",
    "        return total_loss\n",
    "    \n",
    "    @tf.function\n",
    "    def train_step(self, noise,label, real_images):\n",
    "        \n",
    "        with tf.GradientTape() as gen_tape, tf.GradientTape() as disc_tape:\n",
    "            \n",
    "            generated_images = self.generator([noise,label], training=True)\n",
    "\n",
    "            real_out_disc_pred = self.discriminator(real_images, training=True)\n",
    "            fake_out_disc_pred = self.discriminator(generated_images, training=True)\n",
    "            \n",
    "            gen_loss = self.generator_loss(fake_out_disc_pred)\n",
    "            disc_loss = self.discriminator_loss(real_out_disc_pred, fake_out_disc_pred)\n",
    "\n",
    "        gradients_of_generator = gen_tape.gradient(gen_loss, self.generator.trainable_variables)\n",
    "        gradients_of_discriminator = disc_tape.gradient(disc_loss, self.discriminator.trainable_variables)\n",
    "\n",
    "        self.gen_optimizer.apply_gradients(zip(gradients_of_generator, self.generator.trainable_variables))\n",
    "        self.disc_optimizer.apply_gradients(zip(gradients_of_discriminator, self.discriminator.trainable_variables))\n",
    "\n",
    "        return gen_loss, disc_loss"
   ]
  },
  {
   "cell_type": "code",
   "execution_count": 9,
   "id": "895bb8f9",
   "metadata": {
    "ExecuteTime": {
     "end_time": "2024-01-10T11:09:21.376739Z",
     "start_time": "2024-01-10T11:09:21.347738Z"
    }
   },
   "outputs": [
    {
     "name": "stdout",
     "output_type": "stream",
     "text": [
      "loading last checkpoint\n"
     ]
    }
   ],
   "source": [
    "model_train_details = joblib.load(\"model_train_details\")\n",
    "init_epoch = model_train_details.get(\"epoch_dict\").get(\"initial_epoch\") \n",
    "past_hist = model_train_details.get(\"past_history\")\n",
    "last_chkpt = model_train_details.get(\"last_checkpoint\")\n",
    "past_gen_loss = model_train_details.get(\"past_history\").get(\"generator_loss\",[])\n",
    "past_disc_loss = model_train_details.get(\"past_history\").get(\"discriminator_loss\",[])\n",
    "\n",
    "gan = GAN(discriminator=disc_model, generator=gen_model)\n",
    "gen_optimizer = tf.keras.optimizers.Adam(learning_rate=0.0002, beta_1=0.5)\n",
    "disc_optimizer = tf.keras.optimizers.Adam(learning_rate=0.0002, beta_1=0.5)\n",
    "gan.compile(gen_optimizer, disc_optimizer)\n",
    "\n",
    "if init_epoch>0 and last_chkpt is not None:\n",
    "    print(\"loading last checkpoint\")\n",
    "    gan.load_checkpoint(os.path.join(mdl_chkpt_path,last_chkpt))\n",
    "        "
   ]
  },
  {
   "cell_type": "code",
   "execution_count": 10,
   "id": "858c2bc0",
   "metadata": {
    "ExecuteTime": {
     "end_time": "2024-01-10T11:09:21.392737Z",
     "start_time": "2024-01-10T11:09:21.377738Z"
    }
   },
   "outputs": [
    {
     "data": {
      "text/plain": [
       "((32, 28, 28, 1), (32,))"
      ]
     },
     "execution_count": 10,
     "metadata": {},
     "output_type": "execute_result"
    }
   ],
   "source": [
    "x_train[:32].shape,y_train[:32].shape"
   ]
  },
  {
   "cell_type": "code",
   "execution_count": 11,
   "id": "8c5d0558",
   "metadata": {
    "ExecuteTime": {
     "end_time": "2024-01-10T11:09:21.408737Z",
     "start_time": "2024-01-10T11:09:21.393738Z"
    }
   },
   "outputs": [],
   "source": [
    "batch_size = 64\n",
    "epochs = 20\n",
    "total_num_data = x_train.shape[0]\n",
    "num_batches = total_num_data//batch_size"
   ]
  },
  {
   "cell_type": "code",
   "execution_count": 12,
   "id": "20dd67ba",
   "metadata": {
    "ExecuteTime": {
     "end_time": "2024-01-10T11:12:45.195829Z",
     "start_time": "2024-01-10T11:09:21.409738Z"
    }
   },
   "outputs": [
    {
     "data": {
      "application/vnd.jupyter.widget-view+json": {
       "model_id": "14f470f41b5a4da99762469248da5e8e",
       "version_major": 2,
       "version_minor": 0
      },
      "text/plain": [
       "  0%|          | 0/20 [00:00<?, ?it/s]"
      ]
     },
     "metadata": {},
     "output_type": "display_data"
    },
    {
     "name": "stdout",
     "output_type": "stream",
     "text": [
      "epoch 31 : generator loss: 1.429593563079834, discriminator loss: 0.9072022438049316\n",
      "epoch 32 : generator loss: 1.3994578123092651, discriminator loss: 0.8336672186851501\n",
      "epoch 33 : generator loss: 1.0005652904510498, discriminator loss: 0.9110848903656006\n",
      "epoch 34 : generator loss: 1.0310792922973633, discriminator loss: 0.9352817535400391\n",
      "epoch 35 : generator loss: 2.0017752647399902, discriminator loss: 0.781467080116272\n",
      "epoch 36 : generator loss: 1.753026008605957, discriminator loss: 0.7681113481521606\n",
      "epoch 37 : generator loss: 1.2165037393569946, discriminator loss: 0.7245205044746399\n",
      "epoch 38 : generator loss: 1.8500410318374634, discriminator loss: 0.6802171468734741\n",
      "epoch 39 : generator loss: 1.7557791471481323, discriminator loss: 0.6436911225318909\n",
      "epoch 40 : generator loss: 1.4934712648391724, discriminator loss: 0.6828000545501709\n",
      "epoch 41 : generator loss: 1.9257713556289673, discriminator loss: 0.6510758399963379\n",
      "epoch 42 : generator loss: 2.1633048057556152, discriminator loss: 0.6620007753372192\n",
      "epoch 43 : generator loss: 1.9174926280975342, discriminator loss: 0.5821508765220642\n",
      "epoch 44 : generator loss: 2.6519861221313477, discriminator loss: 0.6287738084793091\n",
      "epoch 45 : generator loss: 1.3450586795806885, discriminator loss: 0.7174685001373291\n",
      "epoch 46 : generator loss: 2.0361275672912598, discriminator loss: 0.6051763296127319\n",
      "epoch 47 : generator loss: 1.34959876537323, discriminator loss: 0.7482099533081055\n",
      "epoch 48 : generator loss: 1.914737343788147, discriminator loss: 0.4921378493309021\n",
      "epoch 49 : generator loss: 1.6785187721252441, discriminator loss: 0.6566814184188843\n",
      "epoch 50 : generator loss: 1.2240760326385498, discriminator loss: 0.7435168027877808\n"
     ]
    }
   ],
   "source": [
    "for epoch in tqdm(range(init_epoch,init_epoch+epochs)):\n",
    "    for i in range(num_batches):\n",
    "        noise = tf.random.normal(shape=(batch_size, 100))\n",
    "        real_images = x_train[i * batch_size : (i + 1) * batch_size]\n",
    "        labels = y_train[:batch_size]\n",
    "        \n",
    "        gen_loss, disc_loss = gan.train_step(noise, labels, real_images)\n",
    "        gen_loss = gen_loss.numpy()\n",
    "        disc_loss = disc_loss.numpy()\n",
    "        \n",
    "    print(f\"epoch {epoch+1} : generator loss: {gen_loss}, discriminator loss: {disc_loss}\")\n",
    "    \n",
    "    last_chpt_file = os.path.join(mdl_chkpt_path,f\"mdl_chkpt_{epoch+1}.h5\")\n",
    "    past_gen_loss.append(gen_loss)\n",
    "    past_disc_loss.append(disc_loss)\n",
    "    \n",
    "    past_hist = {\n",
    "        \"epoch\":epoch+1,\n",
    "        \"generator_loss\":past_gen_loss,\n",
    "        \"discriminator_loss\":past_disc_loss\n",
    "    }\n",
    "\n",
    "    model_train_details = {\n",
    "                            \"epoch_dict\" : {\"initial_epoch\":epoch+1},\n",
    "                            \"past_history\" : past_hist,\n",
    "                            \"last_checkpoint\" : last_chpt_file\n",
    "                            }\n",
    "\n",
    "    joblib.dump(model_train_details,\"model_train_details\")\n",
    "    if epoch==init_epoch+epochs-1:\n",
    "        gan.save_checkpoint(last_chpt_file)"
   ]
  },
  {
   "cell_type": "code",
   "execution_count": 13,
   "id": "5e0596c8",
   "metadata": {
    "ExecuteTime": {
     "end_time": "2024-01-10T11:12:45.353377Z",
     "start_time": "2024-01-10T11:12:45.212831Z"
    }
   },
   "outputs": [
    {
     "data": {
      "image/png": "[encoded data removed]",
      "text/plain": [
       "<Figure size 1200x400 with 1 Axes>"
      ]
     },
     "metadata": {},
     "output_type": "display_data"
    }
   ],
   "source": [
    "plt.figure(figsize=(12,4))\n",
    "plt.plot(model_train_details.get(\"past_history\").get(\"generator_loss\"),color=\"blue\",\n",
    "            linewidth=2)\n",
    "plt.plot(model_train_details.get(\"past_history\").get(\"discriminator_loss\"),color=\"orange\",\n",
    "            linewidth=2)\n",
    "\n",
    "plt.legend([\"generator_loss\",\"discriminator_loss\"])\n",
    "plt.grid(True);"
   ]
  },
  {
   "cell_type": "code",
   "execution_count": 14,
   "id": "8d0b6e51",
   "metadata": {
    "ExecuteTime": {
     "end_time": "2024-01-10T11:12:45.854960Z",
     "start_time": "2024-01-10T11:12:45.354375Z"
    }
   },
   "outputs": [
    {
     "data": {
      "image/png": "[encoded data removed]",
      "text/plain": [
       "<Figure size 1000x500 with 10 Axes>"
      ]
     },
     "metadata": {},
     "output_type": "display_data"
    }
   ],
   "source": [
    "plt.figure(figsize=(10,5))\n",
    "for k in range(1,11):\n",
    "    \n",
    "    noi = tf.random.normal(shape=(1,100))\n",
    "    lab = tf.convert_to_tensor([y_train[k]])\n",
    "    pred = gen_model([ noi, lab ])[0]\n",
    "    \n",
    "    plt.subplot(2,5,k)\n",
    "    plt.imshow(pred,cmap=\"gray\")\n",
    "    plt.axis(\"off\");\n",
    "    \n",
    "plt.savefig(f\"progress/pred_{epoch}\")    "
   ]
  }
 ],
 "metadata": {
  "kernelspec": {
   "display_name": "Python 3 (ipykernel)",
   "language": "python",
   "name": "python3"
  },
  "language_info": {
   "codemirror_mode": {
    "name": "ipython",
    "version": 3
   },
   "file_extension": ".py",
   "mimetype": "text/x-python",
   "name": "python",
   "nbconvert_exporter": "python",
   "pygments_lexer": "ipython3",
   "version": "3.11.3"
  },
  "toc": {
   "base_numbering": 1,
   "nav_menu": {},
   "number_sections": true,
   "sideBar": true,
   "skip_h1_title": false,
   "title_cell": "Table of Contents",
   "title_sidebar": "Contents",
   "toc_cell": false,
   "toc_position": {},
   "toc_section_display": true,
   "toc_window_display": false
  },
  "varInspector": {
   "cols": {
    "lenName": 16,
    "lenType": 16,
    "lenVar": 40
   },
   "kernels_config": {
    "python": {
     "delete_cmd_postfix": "",
     "delete_cmd_prefix": "del ",
     "library": "var_list.py",
     "varRefreshCmd": "print(var_dic_list())"
    },
    "r": {
     "delete_cmd_postfix": ") ",
     "delete_cmd_prefix": "rm(",
     "library": "var_list.r",
     "varRefreshCmd": "cat(var_dic_list()) "
    }
   },
   "types_to_exclude": [
    "module",
    "function",
    "builtin_function_or_method",
    "instance",
    "_Feature"
   ],
   "window_display": false
  }
 },
 "nbformat": 4,
 "nbformat_minor": 5
}
