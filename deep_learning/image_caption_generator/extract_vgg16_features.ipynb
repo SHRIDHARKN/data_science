{
 "cells": [
  {
   "cell_type": "code",
   "execution_count": 6,
   "metadata": {},
   "outputs": [],
   "source": [
    "import warnings\n",
    "warnings.simplefilter(\"ignore\")\n",
    "import os\n",
    "from keras.applications.vgg16 import VGG16,preprocess_input\n",
    "from keras.models import Model\n",
    "from keras.utils import load_img, img_to_array\n",
    "import joblib\n",
    "from tqdm import tqdm\n",
    "tqdm.pandas()"
   ]
  },
  {
   "cell_type": "code",
   "execution_count": 2,
   "metadata": {},
   "outputs": [],
   "source": [
    "project_path = \"\"\n",
    "data_path = os.path.join(project_path,\"data\")\n",
    "imgs_folder = os.path.join(data_path,\"images\")\n",
    "captions_folder = os.path.join(data_path,\"captions\")\n",
    "models_folder = os.path.join(project_path,\"models\")"
   ]
  },
  {
   "cell_type": "code",
   "execution_count": 3,
   "metadata": {},
   "outputs": [],
   "source": [
    "# load the images and extract their vgg features\n",
    "vgg_model = VGG16()\n",
    "img_encoder_model = Model(inputs=vgg_model.inputs, outputs=vgg_model.layers[-2].output)"
   ]
  },
  {
   "cell_type": "code",
   "execution_count": 4,
   "metadata": {},
   "outputs": [],
   "source": [
    "def get_vgg16_features(model,image,verbose=0):\n",
    "    \"\"\"\n",
    "    vgg16 preprocess_input will convert the input images from RGB to BGR, \n",
    "    then will zero-center each color channel with respect to the ImageNet dataset,\n",
    "    without scaling   \n",
    "    \"\"\"\n",
    "    image = preprocess_input(image)\n",
    "    features = model.predict(image, verbose=0)\n",
    "    return features"
   ]
  },
  {
   "cell_type": "code",
   "execution_count": 5,
   "metadata": {},
   "outputs": [
    {
     "name": "stderr",
     "output_type": "stream",
     "text": [
      "100%|██████████| 8091/8091 [22:56<00:00,  5.88it/s]\n"
     ]
    }
   ],
   "source": [
    "# predict using the model built above\n",
    "img_feature_extract = {}\n",
    "\n",
    "for img_name in tqdm(os.listdir(imgs_folder)):\n",
    "  \n",
    "    img_path = os.path.join(imgs_folder,img_name)\n",
    "    image = load_img(img_path, target_size=(224, 224))\n",
    "    image = img_to_array(image)\n",
    "    image = image.reshape((1, image.shape[0], image.shape[1], image.shape[2]))\n",
    "    feature = get_vgg16_features(model=img_encoder_model,image=image,verbose=0)\n",
    "    image_name = img_name.split('.')[0]\n",
    "    img_feature_extract[image_name] = feature"
   ]
  },
  {
   "cell_type": "code",
   "execution_count": 8,
   "metadata": {},
   "outputs": [
    {
     "data": {
      "text/plain": [
       "['data/features/vgg16_img_feature_extracts']"
      ]
     },
     "execution_count": 8,
     "metadata": {},
     "output_type": "execute_result"
    }
   ],
   "source": [
    "joblib.dump(img_feature_extract,\"data/features/vgg16_img_feature_extracts\")"
   ]
  }
 ],
 "metadata": {
  "kernelspec": {
   "display_name": "deep_learning",
   "language": "python",
   "name": "python3"
  },
  "language_info": {
   "codemirror_mode": {
    "name": "ipython",
    "version": 3
   },
   "file_extension": ".py",
   "mimetype": "text/x-python",
   "name": "python",
   "nbconvert_exporter": "python",
   "pygments_lexer": "ipython3",
   "version": "3.11.3"
  },
  "orig_nbformat": 4
 },
 "nbformat": 4,
 "nbformat_minor": 2
}
