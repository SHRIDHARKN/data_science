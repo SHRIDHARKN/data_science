{
 "cells": [
  {
   "cell_type": "code",
   "execution_count": 1,
   "id": "018fee8e-7189-4d14-8c94-92db4b634e08",
   "metadata": {},
   "outputs": [],
   "source": [
    "import os\n",
    "import torch\n",
    "import torch.nn as nn\n",
    "import bitsandbytes as bnb\n",
    "from transformers import AutoTokenizer, AutoConfig, AutoModelForCausalLM,BitsAndBytesConfig\n",
    "import warnings\n",
    "warnings.simplefilter(\"ignore\")"
   ]
  },
  {
   "cell_type": "code",
   "execution_count": 2,
   "id": "5a876bce-46ae-479a-a7b8-3fea0e055287",
   "metadata": {},
   "outputs": [],
   "source": [
    "llm_model_name = \"openai-community/gpt2\"\n",
    "proj_fold = os.getcwd()\n",
    "cache_dir = os.path.join(proj_fold,\"llm_models\")"
   ]
  },
  {
   "cell_type": "code",
   "execution_count": 3,
   "id": "b4240364-ec94-4c39-9781-0c3decf913fa",
   "metadata": {},
   "outputs": [
    {
     "data": {
      "text/plain": [
       "True"
      ]
     },
     "execution_count": 3,
     "metadata": {},
     "output_type": "execute_result"
    }
   ],
   "source": [
    "torch.cuda.is_available()"
   ]
  },
  {
   "cell_type": "code",
   "execution_count": 4,
   "id": "705b9824-6529-4a6b-9a6b-0a5f8cd77e3f",
   "metadata": {},
   "outputs": [],
   "source": [
    "tokenizer = AutoTokenizer.from_pretrained(llm_model_name,cache_dir = cache_dir)"
   ]
  },
  {
   "cell_type": "code",
   "execution_count": 5,
   "id": "1c8350ee-62c1-495a-983a-8fade2fdb894",
   "metadata": {},
   "outputs": [],
   "source": [
    "quant_4bit_config = BitsAndBytesConfig(load_in_4bit=True)\n",
    "quant_8bit_config = BitsAndBytesConfig(load_in_8bit=True)"
   ]
  },
  {
   "cell_type": "code",
   "execution_count": 6,
   "id": "738dae18-9f89-44ac-8cb0-92464bc78be7",
   "metadata": {},
   "outputs": [
    {
     "name": "stderr",
     "output_type": "stream",
     "text": [
      "Some weights of GPT2LMHeadModel were not initialized from the model checkpoint at openai-community/gpt2 and are newly initialized: ['lm_head.weight']\n",
      "You should probably TRAIN this model on a down-stream task to be able to use it for predictions and inference.\n",
      "Some weights of GPT2LMHeadModel were not initialized from the model checkpoint at openai-community/gpt2 and are newly initialized: ['lm_head.weight']\n",
      "You should probably TRAIN this model on a down-stream task to be able to use it for predictions and inference.\n",
      "Some weights of GPT2LMHeadModel were not initialized from the model checkpoint at openai-community/gpt2 and are newly initialized: ['lm_head.weight']\n",
      "You should probably TRAIN this model on a down-stream task to be able to use it for predictions and inference.\n"
     ]
    }
   ],
   "source": [
    "model_wq = AutoModelForCausalLM.from_pretrained(llm_model_name, device_map={\"\": 0}, cache_dir=cache_dir)\n",
    "model_4bq = AutoModelForCausalLM.from_pretrained(llm_model_name, quantization_config=quant_4bit_config, device_map={\"\": 0}, cache_dir=cache_dir)\n",
    "model_8bq = AutoModelForCausalLM.from_pretrained(llm_model_name, quantization_config=quant_8bit_config, device_map={\"\": 0}, cache_dir=cache_dir)"
   ]
  },
  {
   "cell_type": "code",
   "execution_count": 7,
   "id": "a58e2ee3-9cf5-44c6-bee4-c6a37391c579",
   "metadata": {},
   "outputs": [],
   "source": [
    "mem_fp_wq = model_wq.get_memory_footprint() / (1024 * 1024 * 1024)  # in GB\n",
    "mem_fp_4bq = model_4bq.get_memory_footprint() / (1024 * 1024 * 1024)  # in GB\n",
    "mem_fp_8bq = model_8bq.get_memory_footprint() / (1024 * 1024 * 1024)  # in GB"
   ]
  },
  {
   "cell_type": "code",
   "execution_count": 8,
   "id": "02369b33-290c-4638-82bf-9b47337c87b0",
   "metadata": {},
   "outputs": [
    {
     "name": "stdout",
     "output_type": "stream",
     "text": [
      "Memory Footprint (Unquantized): 0.48 GB\n",
      "Memory Footprint (8-bit Quantized): 0.16 GB\n",
      "Memory Footprint (4-bit Quantized): 0.12 GB\n"
     ]
    }
   ],
   "source": [
    "print(\"Memory Footprint (Unquantized): {:.2f} GB\".format(mem_fp_wq))\n",
    "print(\"Memory Footprint (8-bit Quantized): {:.2f} GB\".format(mem_fp_8bq))\n",
    "print(\"Memory Footprint (4-bit Quantized): {:.2f} GB\".format(mem_fp_4bq))"
   ]
  }
 ],
 "metadata": {
  "kernelspec": {
   "display_name": "Python 3 (ipykernel)",
   "language": "python",
   "name": "python3"
  },
  "language_info": {
   "codemirror_mode": {
    "name": "ipython",
    "version": 3
   },
   "file_extension": ".py",
   "mimetype": "text/x-python",
   "name": "python",
   "nbconvert_exporter": "python",
   "pygments_lexer": "ipython3",
   "version": "3.10.14"
  }
 },
 "nbformat": 4,
 "nbformat_minor": 5
}
