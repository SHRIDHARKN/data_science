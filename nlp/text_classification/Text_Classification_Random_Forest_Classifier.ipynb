{
 "cells": [
  {
   "cell_type": "code",
   "execution_count": 1,
   "id": "e823ac6b",
   "metadata": {
    "ExecuteTime": {
     "end_time": "2022-07-27T13:28:57.569760Z",
     "start_time": "2022-07-27T13:28:54.903153Z"
    }
   },
   "outputs": [],
   "source": [
    "import pandas as pd\n",
    "import numpy as np\n",
    "import re\n",
    "\n",
    "from tqdm.notebook import tqdm\n",
    "tqdm.pandas()\n",
    "\n",
    "from sklearn.feature_extraction.text import TfidfVectorizer\n",
    "from sklearn.model_selection import train_test_split,RandomizedSearchCV\n",
    "from sklearn.ensemble import RandomForestClassifier\n",
    "from sklearn.metrics import classification_report\n",
    "\n",
    "import nltk \n",
    "#nltk.download('words')\n",
    "from nltk.corpus import stopwords\n",
    "from nltk.tokenize import word_tokenize\n",
    "from nltk.stem import WordNetLemmatizer\n",
    "lemmatizer = WordNetLemmatizer()\n",
    "\n",
    "import seaborn as sns\n",
    "import matplotlib.pyplot as plt\n",
    "\n",
    "import warnings\n",
    "warnings.simplefilter('ignore')"
   ]
  },
  {
   "cell_type": "code",
   "execution_count": 2,
   "id": "dba38c49",
   "metadata": {
    "ExecuteTime": {
     "end_time": "2022-07-27T13:28:57.597284Z",
     "start_time": "2022-07-27T13:28:57.572212Z"
    }
   },
   "outputs": [],
   "source": [
    "def remove_unnecessary_spaces_characters(sentence):\n",
    "    sentence = sentence.replace(\"\\\\n\\\\n\",\" \")\n",
    "    sentence = sentence.replace(\"b'\\''\",\" \")\n",
    "    sentence = re.sub(' +',' ',sentence)\n",
    "    sentence = re.sub(r'\\W+',' ',sentence)\n",
    "    return sentence\n",
    "\n",
    "def remove_stop_words(sentence):\n",
    "    word_tokens = word_tokenize(sentence)\n",
    "    filtered_sentence = [w for w in word_tokens if not w.lower() in stop_words_list]\n",
    "    return filtered_sentence\n",
    "\n",
    "def remove_non_vocab_words(sentence):\n",
    "    #sentence = nltk.wordpunct_tokenize(sentence)\n",
    "    res = [x for x in sentence if x in vocab_words]\n",
    "    return res\n",
    "\n",
    "def lemmatize_words(sentence):\n",
    "    res = [lemmatizer.lemmatize(x,'v') for x in sentence]\n",
    "    return res\n",
    "\n",
    "def remove_single_letters(sentence):\n",
    "    \n",
    "    sentence = [x for x in sentence if len(x)>2]\n",
    "    return sentence\n",
    "\n",
    "def join_words_back(word_list):\n",
    "    \n",
    "    try:\n",
    "        return ' '.join(word for word in word_list)\n",
    "    except:\n",
    "        return ' '"
   ]
  },
  {
   "cell_type": "code",
   "execution_count": 3,
   "id": "63460e62",
   "metadata": {
    "ExecuteTime": {
     "end_time": "2022-07-27T13:28:57.709933Z",
     "start_time": "2022-07-27T13:28:57.601508Z"
    }
   },
   "outputs": [
    {
     "data": {
      "text/html": [
       "<div>\n",
       "<style scoped>\n",
       "    .dataframe tbody tr th:only-of-type {\n",
       "        vertical-align: middle;\n",
       "    }\n",
       "\n",
       "    .dataframe tbody tr th {\n",
       "        vertical-align: top;\n",
       "    }\n",
       "\n",
       "    .dataframe thead th {\n",
       "        text-align: right;\n",
       "    }\n",
       "</style>\n",
       "<table border=\"1\" class=\"dataframe\">\n",
       "  <thead>\n",
       "    <tr style=\"text-align: right;\">\n",
       "      <th></th>\n",
       "      <th>news</th>\n",
       "      <th>type</th>\n",
       "    </tr>\n",
       "  </thead>\n",
       "  <tbody>\n",
       "    <tr>\n",
       "      <th>0</th>\n",
       "      <td>b'US consumer confidence up\\n\\nConsumers\\' con...</td>\n",
       "      <td>business</td>\n",
       "    </tr>\n",
       "    <tr>\n",
       "      <th>1</th>\n",
       "      <td>b'The \\'ticking budget\\' facing the US\\n\\nThe ...</td>\n",
       "      <td>business</td>\n",
       "    </tr>\n",
       "    <tr>\n",
       "      <th>2</th>\n",
       "      <td>b\"Mitsubishi in Peugeot link talks\\n\\nTrouble-...</td>\n",
       "      <td>business</td>\n",
       "    </tr>\n",
       "    <tr>\n",
       "      <th>3</th>\n",
       "      <td>b'BMW reveals new models pipeline\\n\\nBMW is pr...</td>\n",
       "      <td>business</td>\n",
       "    </tr>\n",
       "    <tr>\n",
       "      <th>4</th>\n",
       "      <td>b'World leaders gather to face uncertainty\\n\\n...</td>\n",
       "      <td>business</td>\n",
       "    </tr>\n",
       "  </tbody>\n",
       "</table>\n",
       "</div>"
      ],
      "text/plain": [
       "                                                news      type\n",
       "0  b'US consumer confidence up\\n\\nConsumers\\' con...  business\n",
       "1  b'The \\'ticking budget\\' facing the US\\n\\nThe ...  business\n",
       "2  b\"Mitsubishi in Peugeot link talks\\n\\nTrouble-...  business\n",
       "3  b'BMW reveals new models pipeline\\n\\nBMW is pr...  business\n",
       "4  b'World leaders gather to face uncertainty\\n\\n...  business"
      ]
     },
     "execution_count": 3,
     "metadata": {},
     "output_type": "execute_result"
    }
   ],
   "source": [
    "file_path = \"D:\\\\Data\\\\NLP\\\\news_headlines\\\\\"\n",
    "\n",
    "df =  pd.read_csv(file_path+\"bbc_news.csv\")\n",
    "df.head()"
   ]
  },
  {
   "cell_type": "code",
   "execution_count": 4,
   "id": "651cd5c1",
   "metadata": {
    "ExecuteTime": {
     "end_time": "2022-07-27T13:28:57.839607Z",
     "start_time": "2022-07-27T13:28:57.711785Z"
    }
   },
   "outputs": [],
   "source": [
    "vocab_words = set(nltk.corpus.words.words())\n",
    "stop_words_list = stopwords.words('english')\n",
    "text_column_name = 'news'\n",
    "processed_text_column_name = 'processed_news'"
   ]
  },
  {
   "cell_type": "code",
   "execution_count": 5,
   "id": "b426eb7a",
   "metadata": {
    "ExecuteTime": {
     "end_time": "2022-07-27T13:29:07.071580Z",
     "start_time": "2022-07-27T13:28:57.842114Z"
    }
   },
   "outputs": [],
   "source": [
    "df[processed_text_column_name] = df[text_column_name].apply(lambda x : x.lower())\n",
    "df[processed_text_column_name] = df[processed_text_column_name].apply(remove_unnecessary_spaces_characters)\n",
    "df[processed_text_column_name] = df[processed_text_column_name].apply(remove_stop_words)\n",
    "df[processed_text_column_name] = df[processed_text_column_name].apply(remove_non_vocab_words)\n",
    "df[processed_text_column_name] = df[processed_text_column_name].apply(lemmatize_words)\n",
    "df[processed_text_column_name] = df[processed_text_column_name].apply(remove_single_letters)\n",
    "df[processed_text_column_name] = df[processed_text_column_name].apply(join_words_back)"
   ]
  },
  {
   "cell_type": "code",
   "execution_count": 6,
   "id": "51e70f67",
   "metadata": {
    "ExecuteTime": {
     "end_time": "2022-07-27T13:29:07.086738Z",
     "start_time": "2022-07-27T13:29:07.073344Z"
    }
   },
   "outputs": [],
   "source": [
    "X = df[processed_text_column_name]\n",
    "Y = df['type'].values\n",
    "x_train,x_test,y_train,y_test = train_test_split(X,Y,stratify=Y,test_size=0.3)"
   ]
  },
  {
   "cell_type": "code",
   "execution_count": 7,
   "id": "a73281a0",
   "metadata": {
    "ExecuteTime": {
     "end_time": "2022-07-27T13:29:07.134311Z",
     "start_time": "2022-07-27T13:29:07.089390Z"
    }
   },
   "outputs": [],
   "source": [
    "vectorizer = TfidfVectorizer(stop_words='english',max_features=100)"
   ]
  },
  {
   "cell_type": "code",
   "execution_count": 8,
   "id": "0819ebdd",
   "metadata": {
    "ExecuteTime": {
     "end_time": "2022-07-27T13:29:07.495659Z",
     "start_time": "2022-07-27T13:29:07.137051Z"
    }
   },
   "outputs": [],
   "source": [
    "x_train = vectorizer.fit_transform(x_train)\n",
    "x_test = vectorizer.transform(x_test)"
   ]
  },
  {
   "cell_type": "code",
   "execution_count": 9,
   "id": "37e0c12d",
   "metadata": {
    "ExecuteTime": {
     "end_time": "2022-07-27T13:29:07.511082Z",
     "start_time": "2022-07-27T13:29:07.499307Z"
    }
   },
   "outputs": [],
   "source": [
    "n_estimators = np.arange(5,300,50)\n",
    "max_features = ['auto', 'sqrt',None]\n",
    "max_depth = np.arange(10,30)\n",
    "min_samples_split = np.arange(2,10,2)\n",
    "min_samples_leaf = np.arange(1,10,2)\n",
    "bootstrap = [True, False]\n",
    "\n",
    "random_forest_parameters = {\n",
    "               'n_estimators': n_estimators,\n",
    "               'max_features': max_features,\n",
    "               'max_depth': max_depth,\n",
    "               'min_samples_split': min_samples_split,\n",
    "               'min_samples_leaf': min_samples_leaf,\n",
    "               'bootstrap': bootstrap\n",
    "              }"
   ]
  },
  {
   "cell_type": "code",
   "execution_count": 10,
   "id": "951944c9",
   "metadata": {
    "ExecuteTime": {
     "end_time": "2022-07-27T13:29:50.142638Z",
     "start_time": "2022-07-27T13:29:07.512700Z"
    }
   },
   "outputs": [
    {
     "data": {
      "text/html": [
       "<style>#sk-container-id-1 {color: black;background-color: white;}#sk-container-id-1 pre{padding: 0;}#sk-container-id-1 div.sk-toggleable {background-color: white;}#sk-container-id-1 label.sk-toggleable__label {cursor: pointer;display: block;width: 100%;margin-bottom: 0;padding: 0.3em;box-sizing: border-box;text-align: center;}#sk-container-id-1 label.sk-toggleable__label-arrow:before {content: \"▸\";float: left;margin-right: 0.25em;color: #696969;}#sk-container-id-1 label.sk-toggleable__label-arrow:hover:before {color: black;}#sk-container-id-1 div.sk-estimator:hover label.sk-toggleable__label-arrow:before {color: black;}#sk-container-id-1 div.sk-toggleable__content {max-height: 0;max-width: 0;overflow: hidden;text-align: left;background-color: #f0f8ff;}#sk-container-id-1 div.sk-toggleable__content pre {margin: 0.2em;color: black;border-radius: 0.25em;background-color: #f0f8ff;}#sk-container-id-1 input.sk-toggleable__control:checked~div.sk-toggleable__content {max-height: 200px;max-width: 100%;overflow: auto;}#sk-container-id-1 input.sk-toggleable__control:checked~label.sk-toggleable__label-arrow:before {content: \"▾\";}#sk-container-id-1 div.sk-estimator input.sk-toggleable__control:checked~label.sk-toggleable__label {background-color: #d4ebff;}#sk-container-id-1 div.sk-label input.sk-toggleable__control:checked~label.sk-toggleable__label {background-color: #d4ebff;}#sk-container-id-1 input.sk-hidden--visually {border: 0;clip: rect(1px 1px 1px 1px);clip: rect(1px, 1px, 1px, 1px);height: 1px;margin: -1px;overflow: hidden;padding: 0;position: absolute;width: 1px;}#sk-container-id-1 div.sk-estimator {font-family: monospace;background-color: #f0f8ff;border: 1px dotted black;border-radius: 0.25em;box-sizing: border-box;margin-bottom: 0.5em;}#sk-container-id-1 div.sk-estimator:hover {background-color: #d4ebff;}#sk-container-id-1 div.sk-parallel-item::after {content: \"\";width: 100%;border-bottom: 1px solid gray;flex-grow: 1;}#sk-container-id-1 div.sk-label:hover label.sk-toggleable__label {background-color: #d4ebff;}#sk-container-id-1 div.sk-serial::before {content: \"\";position: absolute;border-left: 1px solid gray;box-sizing: border-box;top: 0;bottom: 0;left: 50%;z-index: 0;}#sk-container-id-1 div.sk-serial {display: flex;flex-direction: column;align-items: center;background-color: white;padding-right: 0.2em;padding-left: 0.2em;position: relative;}#sk-container-id-1 div.sk-item {position: relative;z-index: 1;}#sk-container-id-1 div.sk-parallel {display: flex;align-items: stretch;justify-content: center;background-color: white;position: relative;}#sk-container-id-1 div.sk-item::before, #sk-container-id-1 div.sk-parallel-item::before {content: \"\";position: absolute;border-left: 1px solid gray;box-sizing: border-box;top: 0;bottom: 0;left: 50%;z-index: -1;}#sk-container-id-1 div.sk-parallel-item {display: flex;flex-direction: column;z-index: 1;position: relative;background-color: white;}#sk-container-id-1 div.sk-parallel-item:first-child::after {align-self: flex-end;width: 50%;}#sk-container-id-1 div.sk-parallel-item:last-child::after {align-self: flex-start;width: 50%;}#sk-container-id-1 div.sk-parallel-item:only-child::after {width: 0;}#sk-container-id-1 div.sk-dashed-wrapped {border: 1px dashed gray;margin: 0 0.4em 0.5em 0.4em;box-sizing: border-box;padding-bottom: 0.4em;background-color: white;}#sk-container-id-1 div.sk-label label {font-family: monospace;font-weight: bold;display: inline-block;line-height: 1.2em;}#sk-container-id-1 div.sk-label-container {text-align: center;}#sk-container-id-1 div.sk-container {/* jupyter's `normalize.less` sets `[hidden] { display: none; }` but bootstrap.min.css set `[hidden] { display: none !important; }` so we also need the `!important` here to be able to override the default hidden behavior on the sphinx rendered scikit-learn.org. See: https://github.com/scikit-learn/scikit-learn/issues/21755 */display: inline-block !important;position: relative;}#sk-container-id-1 div.sk-text-repr-fallback {display: none;}</style><div id=\"sk-container-id-1\" class=\"sk-top-container\"><div class=\"sk-text-repr-fallback\"><pre>RandomizedSearchCV(estimator=RandomForestClassifier(random_state=42),\n",
       "                   param_distributions={&#x27;bootstrap&#x27;: [True, False],\n",
       "                                        &#x27;max_depth&#x27;: array([10, 11, 12, 13, 14, 15, 16, 17, 18, 19, 20, 21, 22, 23, 24, 25, 26,\n",
       "       27, 28, 29]),\n",
       "                                        &#x27;max_features&#x27;: [&#x27;auto&#x27;, &#x27;sqrt&#x27;, None],\n",
       "                                        &#x27;min_samples_leaf&#x27;: array([1, 3, 5, 7, 9]),\n",
       "                                        &#x27;min_samples_split&#x27;: array([2, 4, 6, 8]),\n",
       "                                        &#x27;n_estimators&#x27;: array([  5,  55, 105, 155, 205, 255])},\n",
       "                   random_state=42, scoring=&#x27;f1_macro&#x27;)</pre><b>In a Jupyter environment, please rerun this cell to show the HTML representation or trust the notebook. <br />On GitHub, the HTML representation is unable to render, please try loading this page with nbviewer.org.</b></div><div class=\"sk-container\" hidden><div class=\"sk-item sk-dashed-wrapped\"><div class=\"sk-label-container\"><div class=\"sk-label sk-toggleable\"><input class=\"sk-toggleable__control sk-hidden--visually\" id=\"sk-estimator-id-1\" type=\"checkbox\" ><label for=\"sk-estimator-id-1\" class=\"sk-toggleable__label sk-toggleable__label-arrow\">RandomizedSearchCV</label><div class=\"sk-toggleable__content\"><pre>RandomizedSearchCV(estimator=RandomForestClassifier(random_state=42),\n",
       "                   param_distributions={&#x27;bootstrap&#x27;: [True, False],\n",
       "                                        &#x27;max_depth&#x27;: array([10, 11, 12, 13, 14, 15, 16, 17, 18, 19, 20, 21, 22, 23, 24, 25, 26,\n",
       "       27, 28, 29]),\n",
       "                                        &#x27;max_features&#x27;: [&#x27;auto&#x27;, &#x27;sqrt&#x27;, None],\n",
       "                                        &#x27;min_samples_leaf&#x27;: array([1, 3, 5, 7, 9]),\n",
       "                                        &#x27;min_samples_split&#x27;: array([2, 4, 6, 8]),\n",
       "                                        &#x27;n_estimators&#x27;: array([  5,  55, 105, 155, 205, 255])},\n",
       "                   random_state=42, scoring=&#x27;f1_macro&#x27;)</pre></div></div></div><div class=\"sk-parallel\"><div class=\"sk-parallel-item\"><div class=\"sk-item\"><div class=\"sk-label-container\"><div class=\"sk-label sk-toggleable\"><input class=\"sk-toggleable__control sk-hidden--visually\" id=\"sk-estimator-id-2\" type=\"checkbox\" ><label for=\"sk-estimator-id-2\" class=\"sk-toggleable__label sk-toggleable__label-arrow\">estimator: RandomForestClassifier</label><div class=\"sk-toggleable__content\"><pre>RandomForestClassifier(random_state=42)</pre></div></div></div><div class=\"sk-serial\"><div class=\"sk-item\"><div class=\"sk-estimator sk-toggleable\"><input class=\"sk-toggleable__control sk-hidden--visually\" id=\"sk-estimator-id-3\" type=\"checkbox\" ><label for=\"sk-estimator-id-3\" class=\"sk-toggleable__label sk-toggleable__label-arrow\">RandomForestClassifier</label><div class=\"sk-toggleable__content\"><pre>RandomForestClassifier(random_state=42)</pre></div></div></div></div></div></div></div></div></div></div>"
      ],
      "text/plain": [
       "RandomizedSearchCV(estimator=RandomForestClassifier(random_state=42),\n",
       "                   param_distributions={'bootstrap': [True, False],\n",
       "                                        'max_depth': array([10, 11, 12, 13, 14, 15, 16, 17, 18, 19, 20, 21, 22, 23, 24, 25, 26,\n",
       "       27, 28, 29]),\n",
       "                                        'max_features': ['auto', 'sqrt', None],\n",
       "                                        'min_samples_leaf': array([1, 3, 5, 7, 9]),\n",
       "                                        'min_samples_split': array([2, 4, 6, 8]),\n",
       "                                        'n_estimators': array([  5,  55, 105, 155, 205, 255])},\n",
       "                   random_state=42, scoring='f1_macro')"
      ]
     },
     "execution_count": 10,
     "metadata": {},
     "output_type": "execute_result"
    }
   ],
   "source": [
    "clf = RandomForestClassifier(random_state=42)\n",
    "clf_hyp = RandomizedSearchCV(estimator = clf,param_distributions = random_forest_parameters,\\\n",
    "                             random_state=42,scoring='f1_macro')\n",
    "\n",
    "clf_hyp.fit(x_train,y_train)  "
   ]
  },
  {
   "cell_type": "code",
   "execution_count": 11,
   "id": "f475ff37",
   "metadata": {
    "ExecuteTime": {
     "end_time": "2022-07-27T13:29:51.586849Z",
     "start_time": "2022-07-27T13:29:50.143741Z"
    }
   },
   "outputs": [],
   "source": [
    "clf = RandomForestClassifier(random_state=42,**clf_hyp.best_params_)\n",
    "clf.fit(x_train,y_train)  \n",
    "y_pred = clf.predict(x_test)"
   ]
  },
  {
   "cell_type": "code",
   "execution_count": 12,
   "id": "52b4c015",
   "metadata": {
    "ExecuteTime": {
     "end_time": "2022-07-27T13:29:51.617272Z",
     "start_time": "2022-07-27T13:29:51.588890Z"
    }
   },
   "outputs": [
    {
     "name": "stdout",
     "output_type": "stream",
     "text": [
      "               precision    recall  f1-score   support\n",
      "\n",
      "     business       0.89      0.92      0.91       153\n",
      "entertainment       0.96      0.78      0.86       116\n",
      "     politics       0.93      0.92      0.92       125\n",
      "        sport       0.88      0.95      0.91       154\n",
      "         tech       0.89      0.92      0.90       120\n",
      "\n",
      "     accuracy                           0.90       668\n",
      "    macro avg       0.91      0.90      0.90       668\n",
      " weighted avg       0.91      0.90      0.90       668\n",
      "\n"
     ]
    }
   ],
   "source": [
    "print(classification_report(y_test,y_pred))"
   ]
  },
  {
   "cell_type": "code",
   "execution_count": 13,
   "id": "e65ed605",
   "metadata": {
    "ExecuteTime": {
     "end_time": "2022-07-27T13:29:51.818605Z",
     "start_time": "2022-07-27T13:29:51.619311Z"
    }
   },
   "outputs": [
    {
     "data": {
      "image/png": "[encoded data removed]",
      "text/plain": [
       "<Figure size 432x288 with 1 Axes>"
      ]
     },
     "metadata": {
      "needs_background": "light"
     },
     "output_type": "display_data"
    }
   ],
   "source": [
    "sns.heatmap(pd.crosstab(y_test,y_pred),annot=True, cmap=\"Pastel1_r\" ,\\\n",
    "            fmt='d',linecolor='white',\\\n",
    "            cbar=False,linewidths=3)\n",
    "plt.xlabel(\"Predicted\")\n",
    "plt.ylabel(\"Actual\")\n",
    "plt.xticks(rotation=45,fontsize=13)\n",
    "plt.yticks(rotation=45,fontsize=13)\n",
    "plt.title(\"Confusion Matrix\",fontsize=16);"
   ]
  }
 ],
 "metadata": {
  "kernelspec": {
   "display_name": "Python 3 (ipykernel)",
   "language": "python",
   "name": "python3"
  },
  "language_info": {
   "codemirror_mode": {
    "name": "ipython",
    "version": 3
   },
   "file_extension": ".py",
   "mimetype": "text/x-python",
   "name": "python",
   "nbconvert_exporter": "python",
   "pygments_lexer": "ipython3",
   "version": "3.9.7"
  },
  "toc": {
   "base_numbering": 1,
   "nav_menu": {},
   "number_sections": true,
   "sideBar": true,
   "skip_h1_title": false,
   "title_cell": "Table of Contents",
   "title_sidebar": "Contents",
   "toc_cell": false,
   "toc_position": {},
   "toc_section_display": true,
   "toc_window_display": false
  },
  "varInspector": {
   "cols": {
    "lenName": 16,
    "lenType": 16,
    "lenVar": 40
   },
   "kernels_config": {
    "python": {
     "delete_cmd_postfix": "",
     "delete_cmd_prefix": "del ",
     "library": "var_list.py",
     "varRefreshCmd": "print(var_dic_list())"
    },
    "r": {
     "delete_cmd_postfix": ") ",
     "delete_cmd_prefix": "rm(",
     "library": "var_list.r",
     "varRefreshCmd": "cat(var_dic_list()) "
    }
   },
   "types_to_exclude": [
    "module",
    "function",
    "builtin_function_or_method",
    "instance",
    "_Feature"
   ],
   "window_display": false
  }
 },
 "nbformat": 4,
 "nbformat_minor": 5
}
