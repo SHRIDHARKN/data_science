{
  "nbformat": 4,
  "nbformat_minor": 0,
  "metadata": {
    "colab": {
      "provenance": [],
      "collapsed_sections": []
    },
    "kernelspec": {
      "name": "python3",
      "display_name": "Python 3"
    },
    "language_info": {
      "name": "python"
    },
    "widgets": {
      "application/vnd.jupyter.widget-state+json": {
        "5fe4b34383fc451bb59538b7b5dea15e": {
          "model_module": "@jupyter-widgets/controls",
          "model_name": "HBoxModel",
          "model_module_version": "1.5.0",
          "state": {
            "_dom_classes": [],
            "_model_module": "@jupyter-widgets/controls",
            "_model_module_version": "1.5.0",
            "_model_name": "HBoxModel",
            "_view_count": null,
            "_view_module": "@jupyter-widgets/controls",
            "_view_module_version": "1.5.0",
            "_view_name": "HBoxView",
            "box_style": "",
            "children": [
              "IPY_MODEL_3bac0f3e7498464885de8ffedea2cfa4",
              "IPY_MODEL_96deaf9c30ef45d9be3305af68de0fd9",
              "IPY_MODEL_e3546266197c4525ae669a19d09e573c"
            ],
            "layout": "IPY_MODEL_785bfc727be34b79abeed22f62a54f8a"
          }
        },
        "3bac0f3e7498464885de8ffedea2cfa4": {
          "model_module": "@jupyter-widgets/controls",
          "model_name": "HTMLModel",
          "model_module_version": "1.5.0",
          "state": {
            "_dom_classes": [],
            "_model_module": "@jupyter-widgets/controls",
            "_model_module_version": "1.5.0",
            "_model_name": "HTMLModel",
            "_view_count": null,
            "_view_module": "@jupyter-widgets/controls",
            "_view_module_version": "1.5.0",
            "_view_name": "HTMLView",
            "description": "",
            "description_tooltip": null,
            "layout": "IPY_MODEL_55930628187c423bae600299611e31a6",
            "placeholder": "​",
            "style": "IPY_MODEL_de8ceb1eee3d4c2cbe8a258d160d7cf3",
            "value": ""
          }
        },
        "96deaf9c30ef45d9be3305af68de0fd9": {
          "model_module": "@jupyter-widgets/controls",
          "model_name": "FloatProgressModel",
          "model_module_version": "1.5.0",
          "state": {
            "_dom_classes": [],
            "_model_module": "@jupyter-widgets/controls",
            "_model_module_version": "1.5.0",
            "_model_name": "FloatProgressModel",
            "_view_count": null,
            "_view_module": "@jupyter-widgets/controls",
            "_view_module_version": "1.5.0",
            "_view_name": "ProgressView",
            "bar_style": "success",
            "description": "",
            "description_tooltip": null,
            "layout": "IPY_MODEL_5d945c60dc094d35bd0c562650322ebd",
            "max": 1,
            "min": 0,
            "orientation": "horizontal",
            "style": "IPY_MODEL_c4c4f324ac5e4ae2b5ac3827a476d6c5",
            "value": 0
          }
        },
        "e3546266197c4525ae669a19d09e573c": {
          "model_module": "@jupyter-widgets/controls",
          "model_name": "HTMLModel",
          "model_module_version": "1.5.0",
          "state": {
            "_dom_classes": [],
            "_model_module": "@jupyter-widgets/controls",
            "_model_module_version": "1.5.0",
            "_model_name": "HTMLModel",
            "_view_count": null,
            "_view_module": "@jupyter-widgets/controls",
            "_view_module_version": "1.5.0",
            "_view_name": "HTMLView",
            "description": "",
            "description_tooltip": null,
            "layout": "IPY_MODEL_7bb0083fce91494c898c4a4d2a765803",
            "placeholder": "​",
            "style": "IPY_MODEL_705dfbb45d084907aaabc850291c767e",
            "value": " 0/0 [00:00&lt;?, ?it/s]"
          }
        },
        "785bfc727be34b79abeed22f62a54f8a": {
          "model_module": "@jupyter-widgets/base",
          "model_name": "LayoutModel",
          "model_module_version": "1.2.0",
          "state": {
            "_model_module": "@jupyter-widgets/base",
            "_model_module_version": "1.2.0",
            "_model_name": "LayoutModel",
            "_view_count": null,
            "_view_module": "@jupyter-widgets/base",
            "_view_module_version": "1.2.0",
            "_view_name": "LayoutView",
            "align_content": null,
            "align_items": null,
            "align_self": null,
            "border": null,
            "bottom": null,
            "display": null,
            "flex": null,
            "flex_flow": null,
            "grid_area": null,
            "grid_auto_columns": null,
            "grid_auto_flow": null,
            "grid_auto_rows": null,
            "grid_column": null,
            "grid_gap": null,
            "grid_row": null,
            "grid_template_areas": null,
            "grid_template_columns": null,
            "grid_template_rows": null,
            "height": null,
            "justify_content": null,
            "justify_items": null,
            "left": null,
            "margin": null,
            "max_height": null,
            "max_width": null,
            "min_height": null,
            "min_width": null,
            "object_fit": null,
            "object_position": null,
            "order": null,
            "overflow": null,
            "overflow_x": null,
            "overflow_y": null,
            "padding": null,
            "right": null,
            "top": null,
            "visibility": null,
            "width": null
          }
        },
        "55930628187c423bae600299611e31a6": {
          "model_module": "@jupyter-widgets/base",
          "model_name": "LayoutModel",
          "model_module_version": "1.2.0",
          "state": {
            "_model_module": "@jupyter-widgets/base",
            "_model_module_version": "1.2.0",
            "_model_name": "LayoutModel",
            "_view_count": null,
            "_view_module": "@jupyter-widgets/base",
            "_view_module_version": "1.2.0",
            "_view_name": "LayoutView",
            "align_content": null,
            "align_items": null,
            "align_self": null,
            "border": null,
            "bottom": null,
            "display": null,
            "flex": null,
            "flex_flow": null,
            "grid_area": null,
            "grid_auto_columns": null,
            "grid_auto_flow": null,
            "grid_auto_rows": null,
            "grid_column": null,
            "grid_gap": null,
            "grid_row": null,
            "grid_template_areas": null,
            "grid_template_columns": null,
            "grid_template_rows": null,
            "height": null,
            "justify_content": null,
            "justify_items": null,
            "left": null,
            "margin": null,
            "max_height": null,
            "max_width": null,
            "min_height": null,
            "min_width": null,
            "object_fit": null,
            "object_position": null,
            "order": null,
            "overflow": null,
            "overflow_x": null,
            "overflow_y": null,
            "padding": null,
            "right": null,
            "top": null,
            "visibility": null,
            "width": null
          }
        },
        "de8ceb1eee3d4c2cbe8a258d160d7cf3": {
          "model_module": "@jupyter-widgets/controls",
          "model_name": "DescriptionStyleModel",
          "model_module_version": "1.5.0",
          "state": {
            "_model_module": "@jupyter-widgets/controls",
            "_model_module_version": "1.5.0",
            "_model_name": "DescriptionStyleModel",
            "_view_count": null,
            "_view_module": "@jupyter-widgets/base",
            "_view_module_version": "1.2.0",
            "_view_name": "StyleView",
            "description_width": ""
          }
        },
        "5d945c60dc094d35bd0c562650322ebd": {
          "model_module": "@jupyter-widgets/base",
          "model_name": "LayoutModel",
          "model_module_version": "1.2.0",
          "state": {
            "_model_module": "@jupyter-widgets/base",
            "_model_module_version": "1.2.0",
            "_model_name": "LayoutModel",
            "_view_count": null,
            "_view_module": "@jupyter-widgets/base",
            "_view_module_version": "1.2.0",
            "_view_name": "LayoutView",
            "align_content": null,
            "align_items": null,
            "align_self": null,
            "border": null,
            "bottom": null,
            "display": null,
            "flex": null,
            "flex_flow": null,
            "grid_area": null,
            "grid_auto_columns": null,
            "grid_auto_flow": null,
            "grid_auto_rows": null,
            "grid_column": null,
            "grid_gap": null,
            "grid_row": null,
            "grid_template_areas": null,
            "grid_template_columns": null,
            "grid_template_rows": null,
            "height": null,
            "justify_content": null,
            "justify_items": null,
            "left": null,
            "margin": null,
            "max_height": null,
            "max_width": null,
            "min_height": null,
            "min_width": null,
            "object_fit": null,
            "object_position": null,
            "order": null,
            "overflow": null,
            "overflow_x": null,
            "overflow_y": null,
            "padding": null,
            "right": null,
            "top": null,
            "visibility": null,
            "width": "20px"
          }
        },
        "c4c4f324ac5e4ae2b5ac3827a476d6c5": {
          "model_module": "@jupyter-widgets/controls",
          "model_name": "ProgressStyleModel",
          "model_module_version": "1.5.0",
          "state": {
            "_model_module": "@jupyter-widgets/controls",
            "_model_module_version": "1.5.0",
            "_model_name": "ProgressStyleModel",
            "_view_count": null,
            "_view_module": "@jupyter-widgets/base",
            "_view_module_version": "1.2.0",
            "_view_name": "StyleView",
            "bar_color": null,
            "description_width": ""
          }
        },
        "7bb0083fce91494c898c4a4d2a765803": {
          "model_module": "@jupyter-widgets/base",
          "model_name": "LayoutModel",
          "model_module_version": "1.2.0",
          "state": {
            "_model_module": "@jupyter-widgets/base",
            "_model_module_version": "1.2.0",
            "_model_name": "LayoutModel",
            "_view_count": null,
            "_view_module": "@jupyter-widgets/base",
            "_view_module_version": "1.2.0",
            "_view_name": "LayoutView",
            "align_content": null,
            "align_items": null,
            "align_self": null,
            "border": null,
            "bottom": null,
            "display": null,
            "flex": null,
            "flex_flow": null,
            "grid_area": null,
            "grid_auto_columns": null,
            "grid_auto_flow": null,
            "grid_auto_rows": null,
            "grid_column": null,
            "grid_gap": null,
            "grid_row": null,
            "grid_template_areas": null,
            "grid_template_columns": null,
            "grid_template_rows": null,
            "height": null,
            "justify_content": null,
            "justify_items": null,
            "left": null,
            "margin": null,
            "max_height": null,
            "max_width": null,
            "min_height": null,
            "min_width": null,
            "object_fit": null,
            "object_position": null,
            "order": null,
            "overflow": null,
            "overflow_x": null,
            "overflow_y": null,
            "padding": null,
            "right": null,
            "top": null,
            "visibility": null,
            "width": null
          }
        },
        "705dfbb45d084907aaabc850291c767e": {
          "model_module": "@jupyter-widgets/controls",
          "model_name": "DescriptionStyleModel",
          "model_module_version": "1.5.0",
          "state": {
            "_model_module": "@jupyter-widgets/controls",
            "_model_module_version": "1.5.0",
            "_model_name": "DescriptionStyleModel",
            "_view_count": null,
            "_view_module": "@jupyter-widgets/base",
            "_view_module_version": "1.2.0",
            "_view_name": "StyleView",
            "description_width": ""
          }
        }
      }
    },
    "accelerator": "GPU"
  },
  "cells": [
    {
      "cell_type": "code",
      "execution_count": 1,
      "metadata": {
        "colab": {
          "base_uri": "https://localhost:8080/"
        },
        "id": "dSSPKwJd1FMd",
        "outputId": "af582283-20e0-47b4-d284-cdae9a11af9d"
      },
      "outputs": [
        {
          "output_type": "stream",
          "name": "stdout",
          "text": [
            "Looking in indexes: https://pypi.org/simple, https://us-python.pkg.dev/colab-wheels/public/simple/\n",
            "Requirement already satisfied: transformers in /usr/local/lib/python3.7/dist-packages (4.23.1)\n",
            "Requirement already satisfied: requests in /usr/local/lib/python3.7/dist-packages (from transformers) (2.23.0)\n",
            "Requirement already satisfied: tqdm>=4.27 in /usr/local/lib/python3.7/dist-packages (from transformers) (4.64.1)\n",
            "Requirement already satisfied: pyyaml>=5.1 in /usr/local/lib/python3.7/dist-packages (from transformers) (6.0)\n",
            "Requirement already satisfied: filelock in /usr/local/lib/python3.7/dist-packages (from transformers) (3.8.0)\n",
            "Requirement already satisfied: regex!=2019.12.17 in /usr/local/lib/python3.7/dist-packages (from transformers) (2022.6.2)\n",
            "Requirement already satisfied: importlib-metadata in /usr/local/lib/python3.7/dist-packages (from transformers) (4.13.0)\n",
            "Requirement already satisfied: tokenizers!=0.11.3,<0.14,>=0.11.1 in /usr/local/lib/python3.7/dist-packages (from transformers) (0.13.1)\n",
            "Requirement already satisfied: numpy>=1.17 in /usr/local/lib/python3.7/dist-packages (from transformers) (1.21.6)\n",
            "Requirement already satisfied: huggingface-hub<1.0,>=0.10.0 in /usr/local/lib/python3.7/dist-packages (from transformers) (0.10.1)\n",
            "Requirement already satisfied: packaging>=20.0 in /usr/local/lib/python3.7/dist-packages (from transformers) (21.3)\n",
            "Requirement already satisfied: typing-extensions>=3.7.4.3 in /usr/local/lib/python3.7/dist-packages (from huggingface-hub<1.0,>=0.10.0->transformers) (4.1.1)\n",
            "Requirement already satisfied: pyparsing!=3.0.5,>=2.0.2 in /usr/local/lib/python3.7/dist-packages (from packaging>=20.0->transformers) (3.0.9)\n",
            "Requirement already satisfied: zipp>=0.5 in /usr/local/lib/python3.7/dist-packages (from importlib-metadata->transformers) (3.9.0)\n",
            "Requirement already satisfied: chardet<4,>=3.0.2 in /usr/local/lib/python3.7/dist-packages (from requests->transformers) (3.0.4)\n",
            "Requirement already satisfied: urllib3!=1.25.0,!=1.25.1,<1.26,>=1.21.1 in /usr/local/lib/python3.7/dist-packages (from requests->transformers) (1.24.3)\n",
            "Requirement already satisfied: certifi>=2017.4.17 in /usr/local/lib/python3.7/dist-packages (from requests->transformers) (2022.9.24)\n",
            "Requirement already satisfied: idna<3,>=2.5 in /usr/local/lib/python3.7/dist-packages (from requests->transformers) (2.10)\n"
          ]
        }
      ],
      "source": [
        "!pip install transformers"
      ]
    },
    {
      "cell_type": "code",
      "source": [
        "import numpy as np\n",
        "import pandas as pd\n",
        "from sklearn.model_selection import train_test_split\n",
        "from sklearn.linear_model import LogisticRegression\n",
        "from sklearn.ensemble import RandomForestClassifier\n",
        "from sklearn.model_selection import GridSearchCV\n",
        "from sklearn.model_selection import cross_val_score\n",
        "import transformers as ppb\n",
        "import torch\n",
        "\n",
        "from sklearn.metrics import confusion_matrix,classification_report,roc_curve,roc_auc_score\n",
        "from sklearn.metrics import precision_recall_curve,f1_score\n",
        "import matplotlib.pyplot as plt\n",
        "import seaborn as sns\n",
        "\n",
        "\n",
        "from tqdm import tqdm\n",
        "tqdm.pandas()\n",
        "\n",
        "import warnings\n",
        "warnings.filterwarnings('ignore')"
      ],
      "metadata": {
        "id": "_gdGygUS1LgI",
        "colab": {
          "base_uri": "https://localhost:8080/",
          "height": 104,
          "referenced_widgets": [
            "5fe4b34383fc451bb59538b7b5dea15e",
            "3bac0f3e7498464885de8ffedea2cfa4",
            "96deaf9c30ef45d9be3305af68de0fd9",
            "e3546266197c4525ae669a19d09e573c",
            "785bfc727be34b79abeed22f62a54f8a",
            "55930628187c423bae600299611e31a6",
            "de8ceb1eee3d4c2cbe8a258d160d7cf3",
            "5d945c60dc094d35bd0c562650322ebd",
            "c4c4f324ac5e4ae2b5ac3827a476d6c5",
            "7bb0083fce91494c898c4a4d2a765803",
            "705dfbb45d084907aaabc850291c767e"
          ]
        },
        "outputId": "b69090a7-4e66-498b-a3b3-02b8b574cb93"
      },
      "execution_count": 2,
      "outputs": [
        {
          "output_type": "stream",
          "name": "stderr",
          "text": [
            "The cache for model files in Transformers v4.22.0 has been updated. Migrating your old cache. This is a one-time only operation. You can interrupt this and resume the migration later on by calling `transformers.utils.move_cache()`.\n"
          ]
        },
        {
          "output_type": "stream",
          "name": "stdout",
          "text": [
            "Moving 0 files to the new cache system\n"
          ]
        },
        {
          "output_type": "display_data",
          "data": {
            "text/plain": [
              "0it [00:00, ?it/s]"
            ],
            "application/vnd.jupyter.widget-view+json": {
              "version_major": 2,
              "version_minor": 0,
              "model_id": "5fe4b34383fc451bb59538b7b5dea15e"
            }
          },
          "metadata": {}
        }
      ]
    },
    {
      "cell_type": "code",
      "source": [
        "df = pd.read_csv('https://github.com/clairett/pytorch-sentiment-classification/raw/master/data/SST2/train.tsv', delimiter='\\t', header=None)"
      ],
      "metadata": {
        "id": "Il-RItgn1Lib"
      },
      "execution_count": 3,
      "outputs": []
    },
    {
      "cell_type": "code",
      "source": [
        "df.columns = ['text','labels']"
      ],
      "metadata": {
        "id": "1-9-c9JGpw9z"
      },
      "execution_count": 4,
      "outputs": []
    },
    {
      "cell_type": "code",
      "source": [
        "df = df.iloc[:4000]\n",
        "df.head()"
      ],
      "metadata": {
        "id": "zln9d-ps1cUh",
        "colab": {
          "base_uri": "https://localhost:8080/",
          "height": 206
        },
        "outputId": "1920800c-fb52-4795-8b7e-bed846d8589c"
      },
      "execution_count": 5,
      "outputs": [
        {
          "output_type": "execute_result",
          "data": {
            "text/plain": [
              "                                                text  labels\n",
              "0  a stirring , funny and finally transporting re...       1\n",
              "1  apparently reassembled from the cutting room f...       0\n",
              "2  they presume their audience wo n't sit still f...       0\n",
              "3  this is a visually stunning rumination on love...       1\n",
              "4  jonathan parker 's bartleby should have been t...       1"
            ],
            "text/html": [
              "\n",
              "  <div id=\"df-9545778e-9e91-4759-a9dc-4a5e1c855691\">\n",
              "    <div class=\"colab-df-container\">\n",
              "      <div>\n",
              "<style scoped>\n",
              "    .dataframe tbody tr th:only-of-type {\n",
              "        vertical-align: middle;\n",
              "    }\n",
              "\n",
              "    .dataframe tbody tr th {\n",
              "        vertical-align: top;\n",
              "    }\n",
              "\n",
              "    .dataframe thead th {\n",
              "        text-align: right;\n",
              "    }\n",
              "</style>\n",
              "<table border=\"1\" class=\"dataframe\">\n",
              "  <thead>\n",
              "    <tr style=\"text-align: right;\">\n",
              "      <th></th>\n",
              "      <th>text</th>\n",
              "      <th>labels</th>\n",
              "    </tr>\n",
              "  </thead>\n",
              "  <tbody>\n",
              "    <tr>\n",
              "      <th>0</th>\n",
              "      <td>a stirring , funny and finally transporting re...</td>\n",
              "      <td>1</td>\n",
              "    </tr>\n",
              "    <tr>\n",
              "      <th>1</th>\n",
              "      <td>apparently reassembled from the cutting room f...</td>\n",
              "      <td>0</td>\n",
              "    </tr>\n",
              "    <tr>\n",
              "      <th>2</th>\n",
              "      <td>they presume their audience wo n't sit still f...</td>\n",
              "      <td>0</td>\n",
              "    </tr>\n",
              "    <tr>\n",
              "      <th>3</th>\n",
              "      <td>this is a visually stunning rumination on love...</td>\n",
              "      <td>1</td>\n",
              "    </tr>\n",
              "    <tr>\n",
              "      <th>4</th>\n",
              "      <td>jonathan parker 's bartleby should have been t...</td>\n",
              "      <td>1</td>\n",
              "    </tr>\n",
              "  </tbody>\n",
              "</table>\n",
              "</div>\n",
              "      <button class=\"colab-df-convert\" onclick=\"convertToInteractive('df-9545778e-9e91-4759-a9dc-4a5e1c855691')\"\n",
              "              title=\"Convert this dataframe to an interactive table.\"\n",
              "              style=\"display:none;\">\n",
              "        \n",
              "  <svg xmlns=\"http://www.w3.org/2000/svg\" height=\"24px\"viewBox=\"0 0 24 24\"\n",
              "       width=\"24px\">\n",
              "    <path d=\"M0 0h24v24H0V0z\" fill=\"none\"/>\n",
              "    <path d=\"M18.56 5.44l.94 2.06.94-2.06 2.06-.94-2.06-.94-.94-2.06-.94 2.06-2.06.94zm-11 1L8.5 8.5l.94-2.06 2.06-.94-2.06-.94L8.5 2.5l-.94 2.06-2.06.94zm10 10l.94 2.06.94-2.06 2.06-.94-2.06-.94-.94-2.06-.94 2.06-2.06.94z\"/><path d=\"M17.41 7.96l-1.37-1.37c-.4-.4-.92-.59-1.43-.59-.52 0-1.04.2-1.43.59L10.3 9.45l-7.72 7.72c-.78.78-.78 2.05 0 2.83L4 21.41c.39.39.9.59 1.41.59.51 0 1.02-.2 1.41-.59l7.78-7.78 2.81-2.81c.8-.78.8-2.07 0-2.86zM5.41 20L4 18.59l7.72-7.72 1.47 1.35L5.41 20z\"/>\n",
              "  </svg>\n",
              "      </button>\n",
              "      \n",
              "  <style>\n",
              "    .colab-df-container {\n",
              "      display:flex;\n",
              "      flex-wrap:wrap;\n",
              "      gap: 12px;\n",
              "    }\n",
              "\n",
              "    .colab-df-convert {\n",
              "      background-color: #E8F0FE;\n",
              "      border: none;\n",
              "      border-radius: 50%;\n",
              "      cursor: pointer;\n",
              "      display: none;\n",
              "      fill: #1967D2;\n",
              "      height: 32px;\n",
              "      padding: 0 0 0 0;\n",
              "      width: 32px;\n",
              "    }\n",
              "\n",
              "    .colab-df-convert:hover {\n",
              "      background-color: #E2EBFA;\n",
              "      box-shadow: 0px 1px 2px rgba(60, 64, 67, 0.3), 0px 1px 3px 1px rgba(60, 64, 67, 0.15);\n",
              "      fill: #174EA6;\n",
              "    }\n",
              "\n",
              "    [theme=dark] .colab-df-convert {\n",
              "      background-color: #3B4455;\n",
              "      fill: #D2E3FC;\n",
              "    }\n",
              "\n",
              "    [theme=dark] .colab-df-convert:hover {\n",
              "      background-color: #434B5C;\n",
              "      box-shadow: 0px 1px 3px 1px rgba(0, 0, 0, 0.15);\n",
              "      filter: drop-shadow(0px 1px 2px rgba(0, 0, 0, 0.3));\n",
              "      fill: #FFFFFF;\n",
              "    }\n",
              "  </style>\n",
              "\n",
              "      <script>\n",
              "        const buttonEl =\n",
              "          document.querySelector('#df-9545778e-9e91-4759-a9dc-4a5e1c855691 button.colab-df-convert');\n",
              "        buttonEl.style.display =\n",
              "          google.colab.kernel.accessAllowed ? 'block' : 'none';\n",
              "\n",
              "        async function convertToInteractive(key) {\n",
              "          const element = document.querySelector('#df-9545778e-9e91-4759-a9dc-4a5e1c855691');\n",
              "          const dataTable =\n",
              "            await google.colab.kernel.invokeFunction('convertToInteractive',\n",
              "                                                     [key], {});\n",
              "          if (!dataTable) return;\n",
              "\n",
              "          const docLinkHtml = 'Like what you see? Visit the ' +\n",
              "            '<a target=\"_blank\" href=https://colab.research.google.com/notebooks/data_table.ipynb>data table notebook</a>'\n",
              "            + ' to learn more about interactive tables.';\n",
              "          element.innerHTML = '';\n",
              "          dataTable['output_type'] = 'display_data';\n",
              "          await google.colab.output.renderOutput(dataTable, element);\n",
              "          const docLink = document.createElement('div');\n",
              "          docLink.innerHTML = docLinkHtml;\n",
              "          element.appendChild(docLink);\n",
              "        }\n",
              "      </script>\n",
              "    </div>\n",
              "  </div>\n",
              "  "
            ]
          },
          "metadata": {},
          "execution_count": 5
        }
      ]
    },
    {
      "cell_type": "code",
      "source": [
        "# For DistilBERT:\n",
        "model_class, tokenizer_class, pretrained_weights = (ppb.DistilBertModel, ppb.DistilBertTokenizer, 'distilbert-base-uncased')"
      ],
      "metadata": {
        "id": "wWt3VOqTp4oF"
      },
      "execution_count": 6,
      "outputs": []
    },
    {
      "cell_type": "code",
      "source": [
        "# Load pretrained model/tokenizer\n",
        "tokenizer = tokenizer_class.from_pretrained(pretrained_weights)\n",
        "model = model_class.from_pretrained(pretrained_weights)"
      ],
      "metadata": {
        "colab": {
          "base_uri": "https://localhost:8080/"
        },
        "id": "PiS1pv3I1Llu",
        "outputId": "48885fa4-c7c9-4964-b2db-2935455ad099"
      },
      "execution_count": 7,
      "outputs": [
        {
          "output_type": "stream",
          "name": "stderr",
          "text": [
            "Some weights of the model checkpoint at distilbert-base-uncased were not used when initializing DistilBertModel: ['vocab_layer_norm.bias', 'vocab_projector.weight', 'vocab_transform.weight', 'vocab_transform.bias', 'vocab_layer_norm.weight', 'vocab_projector.bias']\n",
            "- This IS expected if you are initializing DistilBertModel from the checkpoint of a model trained on another task or with another architecture (e.g. initializing a BertForSequenceClassification model from a BertForPreTraining model).\n",
            "- This IS NOT expected if you are initializing DistilBertModel from the checkpoint of a model that you expect to be exactly identical (initializing a BertForSequenceClassification model from a BertForSequenceClassification model).\n"
          ]
        }
      ]
    },
    {
      "cell_type": "code",
      "source": [
        "tokenized = df['text'].progress_apply((lambda x: tokenizer.encode(x, add_special_tokens=True)))"
      ],
      "metadata": {
        "colab": {
          "base_uri": "https://localhost:8080/"
        },
        "id": "qko4446YqFIT",
        "outputId": "f9e1857e-0676-488b-f6a2-95fc1d2adf0b"
      },
      "execution_count": 8,
      "outputs": [
        {
          "output_type": "stream",
          "name": "stderr",
          "text": [
            "100%|██████████| 4000/4000 [00:02<00:00, 1583.01it/s]\n"
          ]
        }
      ]
    },
    {
      "cell_type": "code",
      "source": [
        "tokenized[:5]"
      ],
      "metadata": {
        "colab": {
          "base_uri": "https://localhost:8080/"
        },
        "id": "7xSCGHHoqaX0",
        "outputId": "339a8c50-cab5-49ae-e155-67a57c01c3fd"
      },
      "execution_count": 9,
      "outputs": [
        {
          "output_type": "execute_result",
          "data": {
            "text/plain": [
              "0    [101, 1037, 18385, 1010, 6057, 1998, 2633, 182...\n",
              "1    [101, 4593, 2128, 27241, 23931, 2013, 1996, 62...\n",
              "2    [101, 2027, 3653, 23545, 2037, 4378, 24185, 10...\n",
              "3    [101, 2023, 2003, 1037, 17453, 14726, 19379, 1...\n",
              "4    [101, 5655, 6262, 1005, 1055, 12075, 2571, 376...\n",
              "Name: text, dtype: object"
            ]
          },
          "metadata": {},
          "execution_count": 9
        }
      ]
    },
    {
      "cell_type": "code",
      "source": [
        "max_len = 0\n",
        "for tokenized_array_i in tokenized:\n",
        "    if len(tokenized_array_i)> max_len:\n",
        "        max_len=len(tokenized_array_i)\n",
        "max_len"
      ],
      "metadata": {
        "colab": {
          "base_uri": "https://localhost:8080/"
        },
        "id": "o091ldSBqpB9",
        "outputId": "e9a06c4c-d1ab-4e2c-afdc-9fef1e6fbd20"
      },
      "execution_count": 10,
      "outputs": [
        {
          "output_type": "execute_result",
          "data": {
            "text/plain": [
              "66"
            ]
          },
          "metadata": {},
          "execution_count": 10
        }
      ]
    },
    {
      "cell_type": "code",
      "source": [
        "len(tokenized[0]),len(tokenized[0]+[0]*(max_len-len(tokenized[0])))"
      ],
      "metadata": {
        "colab": {
          "base_uri": "https://localhost:8080/"
        },
        "id": "lKUvvK_MrBs-",
        "outputId": "ac643b51-3a8d-43e0-b375-0b5e62db8cc3"
      },
      "execution_count": 11,
      "outputs": [
        {
          "output_type": "execute_result",
          "data": {
            "text/plain": [
              "(20, 66)"
            ]
          },
          "metadata": {},
          "execution_count": 11
        }
      ]
    },
    {
      "cell_type": "code",
      "source": [
        "padded = np.array([i + [0]*(max_len-len(i)) for i in tokenized.values])"
      ],
      "metadata": {
        "id": "SA1VSR8fq9kK"
      },
      "execution_count": 12,
      "outputs": []
    },
    {
      "cell_type": "code",
      "source": [
        "np.array(padded).shape"
      ],
      "metadata": {
        "colab": {
          "base_uri": "https://localhost:8080/"
        },
        "id": "pH-tFT5T2Cv-",
        "outputId": "f6885e20-860a-4efe-fef6-f87396f17cb0"
      },
      "execution_count": 13,
      "outputs": [
        {
          "output_type": "execute_result",
          "data": {
            "text/plain": [
              "(4000, 66)"
            ]
          },
          "metadata": {},
          "execution_count": 13
        }
      ]
    },
    {
      "cell_type": "code",
      "source": [
        "attention_mask = np.where(padded != 0, 1, 0)\n",
        "attention_mask.shape"
      ],
      "metadata": {
        "colab": {
          "base_uri": "https://localhost:8080/"
        },
        "id": "qfpgj5BLrsOi",
        "outputId": "be4c008f-a724-48de-9899-311c1a7e3418"
      },
      "execution_count": 14,
      "outputs": [
        {
          "output_type": "execute_result",
          "data": {
            "text/plain": [
              "(4000, 66)"
            ]
          },
          "metadata": {},
          "execution_count": 14
        }
      ]
    },
    {
      "cell_type": "code",
      "source": [
        "padded_torch = torch.tensor(padded)  \n",
        "attention_mask_torch = torch.tensor(attention_mask)"
      ],
      "metadata": {
        "id": "bGXNAKmut3AT"
      },
      "execution_count": 15,
      "outputs": []
    },
    {
      "cell_type": "code",
      "source": [
        "padded_torch[0].shape"
      ],
      "metadata": {
        "colab": {
          "base_uri": "https://localhost:8080/"
        },
        "id": "8EawRulIt-7i",
        "outputId": "6535c0e3-b283-45f5-c33e-465e62b487d1"
      },
      "execution_count": 16,
      "outputs": [
        {
          "output_type": "execute_result",
          "data": {
            "text/plain": [
              "torch.Size([66])"
            ]
          },
          "metadata": {},
          "execution_count": 16
        }
      ]
    },
    {
      "cell_type": "code",
      "source": [
        "with torch.no_grad():\n",
        "    last_hidden_states_torched = model(padded_torch, attention_mask=attention_mask_torch)"
      ],
      "metadata": {
        "id": "ipA-TXpbuJTQ"
      },
      "execution_count": 17,
      "outputs": []
    },
    {
      "cell_type": "code",
      "source": [
        "last_hidden_states_torched[0].shape"
      ],
      "metadata": {
        "colab": {
          "base_uri": "https://localhost:8080/"
        },
        "id": "uqovv28jvpJj",
        "outputId": "6022da1e-141f-4160-c15d-7475e99e1b72"
      },
      "execution_count": 18,
      "outputs": [
        {
          "output_type": "execute_result",
          "data": {
            "text/plain": [
              "torch.Size([4000, 66, 768])"
            ]
          },
          "metadata": {},
          "execution_count": 18
        }
      ]
    },
    {
      "cell_type": "code",
      "source": [
        "last_hidden_states_torched[0][0].shape"
      ],
      "metadata": {
        "colab": {
          "base_uri": "https://localhost:8080/"
        },
        "id": "ZFDU0haNxIk3",
        "outputId": "a8ddb194-1d0b-49f1-d285-754863afd980"
      },
      "execution_count": 19,
      "outputs": [
        {
          "output_type": "execute_result",
          "data": {
            "text/plain": [
              "torch.Size([66, 768])"
            ]
          },
          "metadata": {},
          "execution_count": 19
        }
      ]
    },
    {
      "cell_type": "code",
      "source": [
        "features = last_hidden_states_torched[0][:,0,:].numpy()"
      ],
      "metadata": {
        "id": "ddB4qMde2PwX"
      },
      "execution_count": 20,
      "outputs": []
    },
    {
      "cell_type": "code",
      "source": [
        "features[:5]"
      ],
      "metadata": {
        "colab": {
          "base_uri": "https://localhost:8080/"
        },
        "id": "VIJ39Wcfyy0E",
        "outputId": "14294ed1-3724-46e8-8ddf-f9dfefac339e"
      },
      "execution_count": 21,
      "outputs": [
        {
          "output_type": "execute_result",
          "data": {
            "text/plain": [
              "array([[-0.21593429, -0.14028913,  0.00831074, ..., -0.13694832,\n",
              "         0.5867007 ,  0.2011271 ],\n",
              "       [-0.17262723, -0.14476165,  0.00223429, ..., -0.17442542,\n",
              "         0.21386448,  0.3719747 ],\n",
              "       [-0.05063359,  0.07203981, -0.02959722, ..., -0.07148949,\n",
              "         0.718524  ,  0.26225471],\n",
              "       [-0.14749788,  0.06445155, -0.00369915, ..., -0.07814704,\n",
              "         0.4238375 ,  0.23188193],\n",
              "       [-0.0654161 ,  0.06376418,  0.02759007, ..., -0.02262597,\n",
              "         0.47929966,  0.39116073]], dtype=float32)"
            ]
          },
          "metadata": {},
          "execution_count": 21
        }
      ]
    },
    {
      "cell_type": "code",
      "source": [
        "df_final = pd.DataFrame(features)"
      ],
      "metadata": {
        "id": "HXRwaz-cy3lh"
      },
      "execution_count": 22,
      "outputs": []
    },
    {
      "cell_type": "code",
      "source": [
        "df_final.columns = [f\"feature_{i+1}\"for i in range(len(df_final.columns))]"
      ],
      "metadata": {
        "id": "LhK0FXKkzD-p"
      },
      "execution_count": 23,
      "outputs": []
    },
    {
      "cell_type": "code",
      "source": [
        "df_final.head()"
      ],
      "metadata": {
        "colab": {
          "base_uri": "https://localhost:8080/",
          "height": 300
        },
        "id": "pVXyGWtYzSW2",
        "outputId": "a9bf79b2-9469-491f-c8e9-4f6a840aaf63"
      },
      "execution_count": 24,
      "outputs": [
        {
          "output_type": "execute_result",
          "data": {
            "text/plain": [
              "   feature_1  feature_2  feature_3  feature_4  feature_5  feature_6  \\\n",
              "0  -0.215934  -0.140289   0.008311  -0.101173  -0.098800  -0.092581   \n",
              "1  -0.172627  -0.144762   0.002234   0.030628   0.120575  -0.088869   \n",
              "2  -0.050634   0.072040  -0.029597  -0.140355  -0.080607  -0.103232   \n",
              "3  -0.147498   0.064452  -0.003699  -0.219294   0.060845  -0.064445   \n",
              "4  -0.065416   0.063764   0.027590  -0.120538  -0.069055  -0.089218   \n",
              "\n",
              "   feature_7  feature_8  feature_9  feature_10  ...  feature_759  feature_760  \\\n",
              "0   0.187413   0.308779  -0.079129   -0.144936  ...     0.007209    -0.291156   \n",
              "1   0.206804   0.255742  -0.114185   -0.007488  ...    -0.075452    -0.115842   \n",
              "2   0.426805   0.245678   0.046981   -0.148649  ...    -0.211884    -0.249635   \n",
              "3   0.004213   0.256717  -0.175174   -0.163916  ...     0.273039    -0.013068   \n",
              "4   0.151275   0.308792  -0.281770    0.076272  ...    -0.042348    -0.263472   \n",
              "\n",
              "   feature_761  feature_762  feature_763  feature_764  feature_765  \\\n",
              "0    -0.136476    -0.077851     0.071078     0.063628     0.084097   \n",
              "1     0.114645     0.047418     0.185320    -0.116279    -0.066597   \n",
              "2    -0.037668    -0.227981    -0.072469     0.078502    -0.011735   \n",
              "3    -0.029533    -0.143953    -0.053300    -0.050167     0.021766   \n",
              "4     0.030694    -0.024583     0.068632     0.141143    -0.075043   \n",
              "\n",
              "   feature_766  feature_767  feature_768  \n",
              "0    -0.136948     0.586701     0.201127  \n",
              "1    -0.174425     0.213864     0.371975  \n",
              "2    -0.071489     0.718524     0.262255  \n",
              "3    -0.078147     0.423838     0.231882  \n",
              "4    -0.022626     0.479300     0.391161  \n",
              "\n",
              "[5 rows x 768 columns]"
            ],
            "text/html": [
              "\n",
              "  <div id=\"df-7b384667-2396-4bba-9817-1f7941087a4d\">\n",
              "    <div class=\"colab-df-container\">\n",
              "      <div>\n",
              "<style scoped>\n",
              "    .dataframe tbody tr th:only-of-type {\n",
              "        vertical-align: middle;\n",
              "    }\n",
              "\n",
              "    .dataframe tbody tr th {\n",
              "        vertical-align: top;\n",
              "    }\n",
              "\n",
              "    .dataframe thead th {\n",
              "        text-align: right;\n",
              "    }\n",
              "</style>\n",
              "<table border=\"1\" class=\"dataframe\">\n",
              "  <thead>\n",
              "    <tr style=\"text-align: right;\">\n",
              "      <th></th>\n",
              "      <th>feature_1</th>\n",
              "      <th>feature_2</th>\n",
              "      <th>feature_3</th>\n",
              "      <th>feature_4</th>\n",
              "      <th>feature_5</th>\n",
              "      <th>feature_6</th>\n",
              "      <th>feature_7</th>\n",
              "      <th>feature_8</th>\n",
              "      <th>feature_9</th>\n",
              "      <th>feature_10</th>\n",
              "      <th>...</th>\n",
              "      <th>feature_759</th>\n",
              "      <th>feature_760</th>\n",
              "      <th>feature_761</th>\n",
              "      <th>feature_762</th>\n",
              "      <th>feature_763</th>\n",
              "      <th>feature_764</th>\n",
              "      <th>feature_765</th>\n",
              "      <th>feature_766</th>\n",
              "      <th>feature_767</th>\n",
              "      <th>feature_768</th>\n",
              "    </tr>\n",
              "  </thead>\n",
              "  <tbody>\n",
              "    <tr>\n",
              "      <th>0</th>\n",
              "      <td>-0.215934</td>\n",
              "      <td>-0.140289</td>\n",
              "      <td>0.008311</td>\n",
              "      <td>-0.101173</td>\n",
              "      <td>-0.098800</td>\n",
              "      <td>-0.092581</td>\n",
              "      <td>0.187413</td>\n",
              "      <td>0.308779</td>\n",
              "      <td>-0.079129</td>\n",
              "      <td>-0.144936</td>\n",
              "      <td>...</td>\n",
              "      <td>0.007209</td>\n",
              "      <td>-0.291156</td>\n",
              "      <td>-0.136476</td>\n",
              "      <td>-0.077851</td>\n",
              "      <td>0.071078</td>\n",
              "      <td>0.063628</td>\n",
              "      <td>0.084097</td>\n",
              "      <td>-0.136948</td>\n",
              "      <td>0.586701</td>\n",
              "      <td>0.201127</td>\n",
              "    </tr>\n",
              "    <tr>\n",
              "      <th>1</th>\n",
              "      <td>-0.172627</td>\n",
              "      <td>-0.144762</td>\n",
              "      <td>0.002234</td>\n",
              "      <td>0.030628</td>\n",
              "      <td>0.120575</td>\n",
              "      <td>-0.088869</td>\n",
              "      <td>0.206804</td>\n",
              "      <td>0.255742</td>\n",
              "      <td>-0.114185</td>\n",
              "      <td>-0.007488</td>\n",
              "      <td>...</td>\n",
              "      <td>-0.075452</td>\n",
              "      <td>-0.115842</td>\n",
              "      <td>0.114645</td>\n",
              "      <td>0.047418</td>\n",
              "      <td>0.185320</td>\n",
              "      <td>-0.116279</td>\n",
              "      <td>-0.066597</td>\n",
              "      <td>-0.174425</td>\n",
              "      <td>0.213864</td>\n",
              "      <td>0.371975</td>\n",
              "    </tr>\n",
              "    <tr>\n",
              "      <th>2</th>\n",
              "      <td>-0.050634</td>\n",
              "      <td>0.072040</td>\n",
              "      <td>-0.029597</td>\n",
              "      <td>-0.140355</td>\n",
              "      <td>-0.080607</td>\n",
              "      <td>-0.103232</td>\n",
              "      <td>0.426805</td>\n",
              "      <td>0.245678</td>\n",
              "      <td>0.046981</td>\n",
              "      <td>-0.148649</td>\n",
              "      <td>...</td>\n",
              "      <td>-0.211884</td>\n",
              "      <td>-0.249635</td>\n",
              "      <td>-0.037668</td>\n",
              "      <td>-0.227981</td>\n",
              "      <td>-0.072469</td>\n",
              "      <td>0.078502</td>\n",
              "      <td>-0.011735</td>\n",
              "      <td>-0.071489</td>\n",
              "      <td>0.718524</td>\n",
              "      <td>0.262255</td>\n",
              "    </tr>\n",
              "    <tr>\n",
              "      <th>3</th>\n",
              "      <td>-0.147498</td>\n",
              "      <td>0.064452</td>\n",
              "      <td>-0.003699</td>\n",
              "      <td>-0.219294</td>\n",
              "      <td>0.060845</td>\n",
              "      <td>-0.064445</td>\n",
              "      <td>0.004213</td>\n",
              "      <td>0.256717</td>\n",
              "      <td>-0.175174</td>\n",
              "      <td>-0.163916</td>\n",
              "      <td>...</td>\n",
              "      <td>0.273039</td>\n",
              "      <td>-0.013068</td>\n",
              "      <td>-0.029533</td>\n",
              "      <td>-0.143953</td>\n",
              "      <td>-0.053300</td>\n",
              "      <td>-0.050167</td>\n",
              "      <td>0.021766</td>\n",
              "      <td>-0.078147</td>\n",
              "      <td>0.423838</td>\n",
              "      <td>0.231882</td>\n",
              "    </tr>\n",
              "    <tr>\n",
              "      <th>4</th>\n",
              "      <td>-0.065416</td>\n",
              "      <td>0.063764</td>\n",
              "      <td>0.027590</td>\n",
              "      <td>-0.120538</td>\n",
              "      <td>-0.069055</td>\n",
              "      <td>-0.089218</td>\n",
              "      <td>0.151275</td>\n",
              "      <td>0.308792</td>\n",
              "      <td>-0.281770</td>\n",
              "      <td>0.076272</td>\n",
              "      <td>...</td>\n",
              "      <td>-0.042348</td>\n",
              "      <td>-0.263472</td>\n",
              "      <td>0.030694</td>\n",
              "      <td>-0.024583</td>\n",
              "      <td>0.068632</td>\n",
              "      <td>0.141143</td>\n",
              "      <td>-0.075043</td>\n",
              "      <td>-0.022626</td>\n",
              "      <td>0.479300</td>\n",
              "      <td>0.391161</td>\n",
              "    </tr>\n",
              "  </tbody>\n",
              "</table>\n",
              "<p>5 rows × 768 columns</p>\n",
              "</div>\n",
              "      <button class=\"colab-df-convert\" onclick=\"convertToInteractive('df-7b384667-2396-4bba-9817-1f7941087a4d')\"\n",
              "              title=\"Convert this dataframe to an interactive table.\"\n",
              "              style=\"display:none;\">\n",
              "        \n",
              "  <svg xmlns=\"http://www.w3.org/2000/svg\" height=\"24px\"viewBox=\"0 0 24 24\"\n",
              "       width=\"24px\">\n",
              "    <path d=\"M0 0h24v24H0V0z\" fill=\"none\"/>\n",
              "    <path d=\"M18.56 5.44l.94 2.06.94-2.06 2.06-.94-2.06-.94-.94-2.06-.94 2.06-2.06.94zm-11 1L8.5 8.5l.94-2.06 2.06-.94-2.06-.94L8.5 2.5l-.94 2.06-2.06.94zm10 10l.94 2.06.94-2.06 2.06-.94-2.06-.94-.94-2.06-.94 2.06-2.06.94z\"/><path d=\"M17.41 7.96l-1.37-1.37c-.4-.4-.92-.59-1.43-.59-.52 0-1.04.2-1.43.59L10.3 9.45l-7.72 7.72c-.78.78-.78 2.05 0 2.83L4 21.41c.39.39.9.59 1.41.59.51 0 1.02-.2 1.41-.59l7.78-7.78 2.81-2.81c.8-.78.8-2.07 0-2.86zM5.41 20L4 18.59l7.72-7.72 1.47 1.35L5.41 20z\"/>\n",
              "  </svg>\n",
              "      </button>\n",
              "      \n",
              "  <style>\n",
              "    .colab-df-container {\n",
              "      display:flex;\n",
              "      flex-wrap:wrap;\n",
              "      gap: 12px;\n",
              "    }\n",
              "\n",
              "    .colab-df-convert {\n",
              "      background-color: #E8F0FE;\n",
              "      border: none;\n",
              "      border-radius: 50%;\n",
              "      cursor: pointer;\n",
              "      display: none;\n",
              "      fill: #1967D2;\n",
              "      height: 32px;\n",
              "      padding: 0 0 0 0;\n",
              "      width: 32px;\n",
              "    }\n",
              "\n",
              "    .colab-df-convert:hover {\n",
              "      background-color: #E2EBFA;\n",
              "      box-shadow: 0px 1px 2px rgba(60, 64, 67, 0.3), 0px 1px 3px 1px rgba(60, 64, 67, 0.15);\n",
              "      fill: #174EA6;\n",
              "    }\n",
              "\n",
              "    [theme=dark] .colab-df-convert {\n",
              "      background-color: #3B4455;\n",
              "      fill: #D2E3FC;\n",
              "    }\n",
              "\n",
              "    [theme=dark] .colab-df-convert:hover {\n",
              "      background-color: #434B5C;\n",
              "      box-shadow: 0px 1px 3px 1px rgba(0, 0, 0, 0.15);\n",
              "      filter: drop-shadow(0px 1px 2px rgba(0, 0, 0, 0.3));\n",
              "      fill: #FFFFFF;\n",
              "    }\n",
              "  </style>\n",
              "\n",
              "      <script>\n",
              "        const buttonEl =\n",
              "          document.querySelector('#df-7b384667-2396-4bba-9817-1f7941087a4d button.colab-df-convert');\n",
              "        buttonEl.style.display =\n",
              "          google.colab.kernel.accessAllowed ? 'block' : 'none';\n",
              "\n",
              "        async function convertToInteractive(key) {\n",
              "          const element = document.querySelector('#df-7b384667-2396-4bba-9817-1f7941087a4d');\n",
              "          const dataTable =\n",
              "            await google.colab.kernel.invokeFunction('convertToInteractive',\n",
              "                                                     [key], {});\n",
              "          if (!dataTable) return;\n",
              "\n",
              "          const docLinkHtml = 'Like what you see? Visit the ' +\n",
              "            '<a target=\"_blank\" href=https://colab.research.google.com/notebooks/data_table.ipynb>data table notebook</a>'\n",
              "            + ' to learn more about interactive tables.';\n",
              "          element.innerHTML = '';\n",
              "          dataTable['output_type'] = 'display_data';\n",
              "          await google.colab.output.renderOutput(dataTable, element);\n",
              "          const docLink = document.createElement('div');\n",
              "          docLink.innerHTML = docLinkHtml;\n",
              "          element.appendChild(docLink);\n",
              "        }\n",
              "      </script>\n",
              "    </div>\n",
              "  </div>\n",
              "  "
            ]
          },
          "metadata": {},
          "execution_count": 24
        }
      ]
    },
    {
      "cell_type": "code",
      "source": [
        "df_final['labels'] = df.labels.tolist()"
      ],
      "metadata": {
        "id": "ZDAYxyIPzbBI"
      },
      "execution_count": 25,
      "outputs": []
    },
    {
      "cell_type": "code",
      "source": [
        "x_train, x_test, y_train, y_test = train_test_split(df_final.drop(\"labels\",axis=1), df_final['labels'],random_state=42)"
      ],
      "metadata": {
        "id": "_UV_UeOJ2VsR"
      },
      "execution_count": 26,
      "outputs": []
    },
    {
      "cell_type": "code",
      "source": [
        "clf = RandomForestClassifier(random_state=42,min_samples_split=100)\n",
        "clf.fit(x_train, y_train)"
      ],
      "metadata": {
        "colab": {
          "base_uri": "https://localhost:8080/"
        },
        "id": "WUQm48YDEtbc",
        "outputId": "adf28d01-f13c-4696-ae32-66a9ec83900d"
      },
      "execution_count": 27,
      "outputs": [
        {
          "output_type": "execute_result",
          "data": {
            "text/plain": [
              "RandomForestClassifier(min_samples_split=100, random_state=42)"
            ]
          },
          "metadata": {},
          "execution_count": 27
        }
      ]
    },
    {
      "cell_type": "code",
      "source": [
        "def get_model_performance(clf,x_train,x_test,y_train,y_test,plot_title=\"\",\n",
        "                          label_font_size=14):\n",
        "    \n",
        "    y_pred = clf.predict(x_test) # get predicted class\n",
        "    y_test_prob = clf.predict_proba(x_test)[:,1] # get positive class probability (test)\n",
        "    y_train_prob = clf.predict_proba(x_train)[:,1] # get positive class probability (train)\n",
        "    print(\"Classification report at 0.5 threshold\")\n",
        "    print(classification_report(y_test,y_pred))\n",
        "\n",
        "    fpr_train, tpr_train, th_train = roc_curve(y_train,y_train_prob) # roc curve details train\n",
        "    fpr_test, tpr_test, th_test = roc_curve(y_test,y_test_prob) # roc curve details test\n",
        "    \n",
        "    prob_th_min = 0\n",
        "    prob_th_max = 1\n",
        "    prob_th_step = 0.05\n",
        "    prob_th_ls = np.arange(prob_th_min,prob_th_max,prob_th_step) # prob thres to iterate over\n",
        "\n",
        "    f1_scores_ls = []\n",
        "\n",
        "    for prob_th in prob_th_ls:\n",
        "        y_pred_i = np.where(y_test_prob>prob_th,1,0)\n",
        "        f1_macro_score_i = f1_score(y_test,y_pred_i,average='macro') # chosing macro as class is imbalanced\n",
        "        f1_scores_ls.append(f1_macro_score_i) # appending f1 scores for each prob thres\n",
        "    \n",
        "    # get optimal prob thres based on f1 scores\n",
        "    optimal_th_f1_score = prob_th_ls[np.argwhere(np.array(f1_scores_ls)==np.max(f1_scores_ls))[0][0]]\n",
        "    \n",
        "    # get precision and recall curve details\n",
        "    precision_, recall_, prob_th = precision_recall_curve(y_test, y_test_prob)\n",
        "    # get optimal prob thres based on PR curve\n",
        "    optimal_prob_pr_th = prob_th[np.argmin(abs(precision_ - recall_))]\n",
        "    \n",
        "    plt.figure(figsize=(8,20))\n",
        "    plt.subplot(611)\n",
        "    # plto of conf matrix at 0.5 thres\n",
        "    sns.heatmap(pd.crosstab(y_test,y_pred),annot=True, cmap='gnuplot' ,fmt='d',linecolor='white',\\\n",
        "                cbar=False,linewidths=1)\n",
        "    plt.xlabel(\"Predicted\",fontsize=label_font_size*0.85)\n",
        "    plt.ylabel(\"Actual\",fontsize=label_font_size*0.85)\n",
        "    plt.title(f\"{plot_title} Confusion Matrix \",fontsize=label_font_size)\n",
        "    print(\"========================================\")\n",
        "    \n",
        "    plt.subplot(612)\n",
        "    # ROC plot \n",
        "    plt.plot(fpr_train,tpr_train,color='blue',linewidth=2)\n",
        "    plt.plot(fpr_test,tpr_test,color='red',linewidth=2)\n",
        "    plt.xlabel(\"Fasle Positive Rate\",fontsize=label_font_size*0.85)\n",
        "    plt.ylabel(\"True Positive Rate\",fontsize=label_font_size*0.85)\n",
        "    plt.legend([\"Train ROC\",\"Test ROC\"])\n",
        "    plt.title(f\"{plot_title} ROC curve AUC Score = {round(roc_auc_score(y_test,y_pred),2)}\",\n",
        "              fontsize=label_font_size)\n",
        "    plt.grid(True)\n",
        "    \n",
        "    plt.subplot(613)\n",
        "    # Precision Recallplot\n",
        "    plt.plot(recall_,precision_,color='red',linewidth=2)\n",
        "    plt.xlabel(\"Recall\",fontsize=label_font_size*0.85)\n",
        "    plt.ylabel(\"Precision\",fontsize=label_font_size*0.85)\n",
        "    plt.title(f\"Optimal probability threshold = {round(optimal_prob_pr_th,2)}\",fontsize=label_font_size)\n",
        "    plt.grid(True)\n",
        "    \n",
        "    \n",
        "    print(\"Classification report at optimal threshold from PR curve\")\n",
        "    y_pred_pr_th = np.where(y_test_prob>optimal_prob_pr_th,1,0)\n",
        "    print(classification_report(y_test,y_pred_pr_th))\n",
        "    print(\"========================================\")\n",
        "    \n",
        "    plt.subplot(614)\n",
        "    # Confusion matrix at optimal thres from PR curve\n",
        "    sns.heatmap(pd.crosstab(y_test,y_pred_pr_th),annot=True, cmap='gnuplot' ,fmt='d',linecolor='white',\\\n",
        "                cbar=False,linewidths=1)\n",
        "    plt.xlabel(\"Predicted\",fontsize=label_font_size*0.85)\n",
        "    plt.ylabel(\"Actual\",fontsize=label_font_size*0.85)\n",
        "    plt.title(f\"{plot_title} Confusion Matrix Optimal Threshold -PR Curve\",fontsize=label_font_size)\n",
        "    \n",
        "    \n",
        "    \n",
        "    plt.subplot(615)\n",
        "    # F1 scores at different probability thres\n",
        "    sns.lineplot(prob_th_ls,f1_scores_ls,color='green',linewidth=2)\n",
        "    plt.xlabel(\"Probability Threshold\",fontsize=label_font_size*0.85)\n",
        "    plt.ylabel(\"F1 Scores\",fontsize=label_font_size*0.85)\n",
        "    plt.title(f\"Optimal proabability threshold = {round(optimal_th_f1_score,2)}\",fontsize=label_font_size)\n",
        "    plt.axvline(optimal_th_f1_score,linestyle='--',color='grey')\n",
        "    plt.grid(True)\n",
        "    \n",
        "    y_pred_f1_th = np.where(y_test_prob>optimal_th_f1_score,1,0)\n",
        "    \n",
        "    plt.subplot(616)\n",
        "    # Conf matrix at optimal prob thres from f1 scores\n",
        "    sns.heatmap(pd.crosstab(y_test,y_pred_f1_th),annot=True, cmap='gnuplot' ,fmt='d',linecolor='white',\\\n",
        "                cbar=False,linewidths=3)\n",
        "    plt.xlabel(\"Predicted\",fontsize=label_font_size*0.85)\n",
        "    plt.ylabel(\"Actual\",fontsize=label_font_size*0.85)\n",
        "    plt.title(f\"{plot_title} Confusion Matrix Optimal Threshold -F1 Scores\",fontsize=label_font_size)\n",
        "    \n",
        "    plt.tight_layout();\n",
        "    \n",
        "    print(\"Classification report at optimal threshold from F1 Scores curve\")\n",
        "    print(classification_report(y_test,y_pred_f1_th))\n",
        "    \n",
        "    print(\"========================================\")"
      ],
      "metadata": {
        "id": "yMKdVjJs0JiP"
      },
      "execution_count": 28,
      "outputs": []
    },
    {
      "cell_type": "code",
      "source": [
        "get_model_performance(clf,x_train,x_test,y_train,y_test,plot_title=\"Random Forest Clf\")"
      ],
      "metadata": {
        "colab": {
          "base_uri": "https://localhost:8080/",
          "height": 1000
        },
        "id": "cYnt02itE2Nt",
        "outputId": "f6931c90-371e-4848-9f86-81d25f192ebf"
      },
      "execution_count": 30,
      "outputs": [
        {
          "output_type": "stream",
          "name": "stdout",
          "text": [
            "Classification report at 0.5 threshold\n",
            "              precision    recall  f1-score   support\n",
            "\n",
            "           0       0.79      0.83      0.81       503\n",
            "           1       0.82      0.77      0.79       497\n",
            "\n",
            "    accuracy                           0.80      1000\n",
            "   macro avg       0.80      0.80      0.80      1000\n",
            "weighted avg       0.80      0.80      0.80      1000\n",
            "\n",
            "========================================\n",
            "Classification report at optimal threshold from PR curve\n",
            "              precision    recall  f1-score   support\n",
            "\n",
            "           0       0.80      0.80      0.80       503\n",
            "           1       0.80      0.79      0.80       497\n",
            "\n",
            "    accuracy                           0.80      1000\n",
            "   macro avg       0.80      0.80      0.80      1000\n",
            "weighted avg       0.80      0.80      0.80      1000\n",
            "\n",
            "========================================\n",
            "Classification report at optimal threshold from F1 Scores curve\n",
            "              precision    recall  f1-score   support\n",
            "\n",
            "           0       0.79      0.83      0.81       503\n",
            "           1       0.82      0.77      0.79       497\n",
            "\n",
            "    accuracy                           0.80      1000\n",
            "   macro avg       0.80      0.80      0.80      1000\n",
            "weighted avg       0.80      0.80      0.80      1000\n",
            "\n",
            "========================================\n"
          ]
        },
        {
          "output_type": "display_data",
          "data": {
            "text/plain": [
              "<Figure size 576x1440 with 6 Axes>"
            ],
            "image/png": "[encoded data removed]"
          },
          "metadata": {
            "needs_background": "light"
          }
        }
      ]
    },
    {
      "cell_type": "code",
      "source": [
        "clf = LogisticRegression(random_state=42)\n",
        "clf.fit(x_train, y_train)\n",
        "get_model_performance(clf,x_train,\n",
        "                      x_test,y_train,y_test,plot_title=\"Logistic Regression\")"
      ],
      "metadata": {
        "colab": {
          "base_uri": "https://localhost:8080/",
          "height": 1000
        },
        "id": "xdVowbB3FkNB",
        "outputId": "b9f1fcd6-93ca-4b75-987b-ac7bd1f095af"
      },
      "execution_count": 31,
      "outputs": [
        {
          "output_type": "stream",
          "name": "stdout",
          "text": [
            "Classification report at 0.5 threshold\n",
            "              precision    recall  f1-score   support\n",
            "\n",
            "           0       0.86      0.85      0.86       503\n",
            "           1       0.85      0.86      0.85       497\n",
            "\n",
            "    accuracy                           0.85      1000\n",
            "   macro avg       0.85      0.86      0.85      1000\n",
            "weighted avg       0.86      0.85      0.86      1000\n",
            "\n",
            "========================================\n",
            "Classification report at optimal threshold from PR curve\n",
            "              precision    recall  f1-score   support\n",
            "\n",
            "           0       0.86      0.86      0.86       503\n",
            "           1       0.85      0.85      0.85       497\n",
            "\n",
            "    accuracy                           0.85      1000\n",
            "   macro avg       0.85      0.85      0.85      1000\n",
            "weighted avg       0.85      0.85      0.85      1000\n",
            "\n",
            "========================================\n",
            "Classification report at optimal threshold from F1 Scores curve\n",
            "              precision    recall  f1-score   support\n",
            "\n",
            "           0       0.85      0.88      0.86       503\n",
            "           1       0.87      0.84      0.85       497\n",
            "\n",
            "    accuracy                           0.86      1000\n",
            "   macro avg       0.86      0.86      0.86      1000\n",
            "weighted avg       0.86      0.86      0.86      1000\n",
            "\n",
            "========================================\n"
          ]
        },
        {
          "output_type": "display_data",
          "data": {
            "text/plain": [
              "<Figure size 576x1440 with 6 Axes>"
            ],
            "image/png": "[encoded data removed]"
          },
          "metadata": {
            "needs_background": "light"
          }
        }
      ]
    }
  ]
}