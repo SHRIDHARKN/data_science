{
 "cells": [
  {
   "cell_type": "code",
   "execution_count": 1,
   "metadata": {},
   "outputs": [],
   "source": [
    "# import necessary libs\n",
    "import pandas as pd\n",
    "from gensim.models.word2vec import Word2Vec\n",
    "import gensim.downloader as api\n",
    "import nltk\n",
    "from nltk.stem import WordNetLemmatizer\n",
    "from nltk.corpus import stopwords\n",
    "import re\n",
    "import joblib\n",
    "import numpy as np\n",
    "from tqdm.notebook import tqdm\n",
    "tqdm.pandas()\n",
    "import warnings\n",
    "warnings.simplefilter(\"ignore\")"
   ]
  },
  {
   "cell_type": "code",
   "execution_count": 2,
   "metadata": {},
   "outputs": [
    {
     "data": {
      "text/html": [
       "<div>\n",
       "<style scoped>\n",
       "    .dataframe tbody tr th:only-of-type {\n",
       "        vertical-align: middle;\n",
       "    }\n",
       "\n",
       "    .dataframe tbody tr th {\n",
       "        vertical-align: top;\n",
       "    }\n",
       "\n",
       "    .dataframe thead th {\n",
       "        text-align: right;\n",
       "    }\n",
       "</style>\n",
       "<table border=\"1\" class=\"dataframe\">\n",
       "  <thead>\n",
       "    <tr style=\"text-align: right;\">\n",
       "      <th></th>\n",
       "      <th>title</th>\n",
       "      <th>full_description</th>\n",
       "    </tr>\n",
       "  </thead>\n",
       "  <tbody>\n",
       "    <tr>\n",
       "      <th>0</th>\n",
       "      <td>Senior PHP Developer</td>\n",
       "      <td>A skilled Senior PHP Developer is required by ...</td>\n",
       "    </tr>\n",
       "    <tr>\n",
       "      <th>1</th>\n",
       "      <td>Business Development Manager</td>\n",
       "      <td>The Company: Our client are a full service, cr...</td>\n",
       "    </tr>\n",
       "    <tr>\n",
       "      <th>2</th>\n",
       "      <td>QA Engineer</td>\n",
       "      <td>An expanding software and consultancy services...</td>\n",
       "    </tr>\n",
       "    <tr>\n",
       "      <th>3</th>\n",
       "      <td>Web Developer</td>\n",
       "      <td>A leading ecommerce agency is looking to hire ...</td>\n",
       "    </tr>\n",
       "    <tr>\n",
       "      <th>4</th>\n",
       "      <td>Software Engineer</td>\n",
       "      <td>Software Engineer C, C++, Java, UML, XAMP, Agi...</td>\n",
       "    </tr>\n",
       "  </tbody>\n",
       "</table>\n",
       "</div>"
      ],
      "text/plain": [
       "                          title  \\\n",
       "0          Senior PHP Developer   \n",
       "1  Business Development Manager   \n",
       "2                   QA Engineer   \n",
       "3                 Web Developer   \n",
       "4             Software Engineer   \n",
       "\n",
       "                                    full_description  \n",
       "0  A skilled Senior PHP Developer is required by ...  \n",
       "1  The Company: Our client are a full service, cr...  \n",
       "2  An expanding software and consultancy services...  \n",
       "3  A leading ecommerce agency is looking to hire ...  \n",
       "4  Software Engineer C, C++, Java, UML, XAMP, Agi...  "
      ]
     },
     "execution_count": 2,
     "metadata": {},
     "output_type": "execute_result"
    }
   ],
   "source": [
    "df = pd.read_csv(\"data/job_title_n_description.csv\",index_col=0)\n",
    "df.rename(columns={\"Title\":\"title\",\"FullDescription\":\"full_description\"},inplace=True)\n",
    "df.head()"
   ]
  },
  {
   "cell_type": "code",
   "execution_count": 3,
   "metadata": {},
   "outputs": [],
   "source": [
    "def clean_job_title(title,char_lim=50):\n",
    "    \n",
    "    title = re.sub(\"[^a-zA-Z]\",\" \",title.lower()) # remove non alpha charac\n",
    "    title = ' '.join(title.split()) # this will ensure no extra spaces\n",
    "    title = title.replace(\"junior\",\"\") # remove junior/senior/lead titles\n",
    "    title = title.replace(\"senior\",\"\")\n",
    "    title = title.replace(\"lead\",\"\")\n",
    "    title = title.replace(\"internal\",\"\")\n",
    "    title = title.replace(\"external\",\"\")\n",
    "    title = title.replace(\"graduate\",\"\")\n",
    "    title = title.replace(\"entry\",\"\")\n",
    "    title = title.split()\n",
    "    title = [x for x in title if len(x)>2]\n",
    "    title = ' '.join(title)\n",
    "    \n",
    "    return title[:char_lim] # return upto first 50 characters"
   ]
  },
  {
   "cell_type": "code",
   "execution_count": 4,
   "metadata": {},
   "outputs": [
    {
     "data": {
      "application/vnd.jupyter.widget-view+json": {
       "model_id": "964e79c777d64b2ebb2dd63b2272c062",
       "version_major": 2,
       "version_minor": 0
      },
      "text/plain": [
       "  0%|          | 0/4392 [00:00<?, ?it/s]"
      ]
     },
     "metadata": {},
     "output_type": "display_data"
    }
   ],
   "source": [
    "# cleaning the job title\n",
    "df['title'] = df.title.progress_apply(clean_job_title)"
   ]
  },
  {
   "cell_type": "code",
   "execution_count": 5,
   "metadata": {},
   "outputs": [],
   "source": [
    "def job_description_preprocess(text):\n",
    "    \n",
    "    text = re.sub(\"[^a-zA-Z]\",\" \",text.lower()) # remove non alpha charac\n",
    "    return text"
   ]
  },
  {
   "cell_type": "code",
   "execution_count": 6,
   "metadata": {},
   "outputs": [
    {
     "data": {
      "application/vnd.jupyter.widget-view+json": {
       "model_id": "629effe0adfe4fa8ba65162339c2f0cf",
       "version_major": 2,
       "version_minor": 0
      },
      "text/plain": [
       "  0%|          | 0/4392 [00:00<?, ?it/s]"
      ]
     },
     "metadata": {},
     "output_type": "display_data"
    }
   ],
   "source": [
    "# clean the job description\n",
    "df['full_description'] = df.full_description.progress_apply(job_description_preprocess)"
   ]
  },
  {
   "cell_type": "code",
   "execution_count": 7,
   "metadata": {},
   "outputs": [],
   "source": [
    "# defining the stop words list and lemmatizer\n",
    "stop_words_list = stopwords.words('english')\n",
    "lemmatizer = WordNetLemmatizer()"
   ]
  },
  {
   "cell_type": "code",
   "execution_count": 8,
   "metadata": {},
   "outputs": [],
   "source": [
    "def text_preprocessing(text):\n",
    "    \n",
    "    word_list = text.split()\n",
    "    word_list = [lemmatizer.lemmatize(x,'v') for x in word_list] # lemmatize words\n",
    "    word_list = [x for x in word_list if x not in stop_words_list] # remove stop words\n",
    "    \n",
    "    return word_list"
   ]
  },
  {
   "cell_type": "code",
   "execution_count": 9,
   "metadata": {},
   "outputs": [
    {
     "data": {
      "application/vnd.jupyter.widget-view+json": {
       "model_id": "65f1961e2b3f4caba816f4b70ca31084",
       "version_major": 2,
       "version_minor": 0
      },
      "text/plain": [
       "  0%|          | 0/4392 [00:00<?, ?it/s]"
      ]
     },
     "metadata": {},
     "output_type": "display_data"
    }
   ],
   "source": [
    "# preprocessing the job description\n",
    "df['processed_job_description'] = df['title']+\" \"+df['full_description']\n",
    "df['processed_job_description'] = df.processed_job_description.progress_apply(text_preprocessing)"
   ]
  },
  {
   "cell_type": "code",
   "execution_count": 10,
   "metadata": {},
   "outputs": [
    {
     "data": {
      "text/html": [
       "<div>\n",
       "<style scoped>\n",
       "    .dataframe tbody tr th:only-of-type {\n",
       "        vertical-align: middle;\n",
       "    }\n",
       "\n",
       "    .dataframe tbody tr th {\n",
       "        vertical-align: top;\n",
       "    }\n",
       "\n",
       "    .dataframe thead th {\n",
       "        text-align: right;\n",
       "    }\n",
       "</style>\n",
       "<table border=\"1\" class=\"dataframe\">\n",
       "  <thead>\n",
       "    <tr style=\"text-align: right;\">\n",
       "      <th></th>\n",
       "      <th>title</th>\n",
       "      <th>full_description</th>\n",
       "      <th>processed_job_description</th>\n",
       "    </tr>\n",
       "  </thead>\n",
       "  <tbody>\n",
       "    <tr>\n",
       "      <th>0</th>\n",
       "      <td>php developer</td>\n",
       "      <td>a skilled senior php developer is required by ...</td>\n",
       "      <td>[php, developer, skilled, senior, php, develop...</td>\n",
       "    </tr>\n",
       "    <tr>\n",
       "      <th>1</th>\n",
       "      <td>business development manager</td>\n",
       "      <td>the company  our client are a full service  cr...</td>\n",
       "      <td>[business, development, manager, company, clie...</td>\n",
       "    </tr>\n",
       "    <tr>\n",
       "      <th>2</th>\n",
       "      <td>engineer</td>\n",
       "      <td>an expanding software and consultancy services...</td>\n",
       "      <td>[engineer, expand, software, consultancy, serv...</td>\n",
       "    </tr>\n",
       "    <tr>\n",
       "      <th>3</th>\n",
       "      <td>web developer</td>\n",
       "      <td>a leading ecommerce agency is looking to hire ...</td>\n",
       "      <td>[web, developer, lead, ecommerce, agency, look...</td>\n",
       "    </tr>\n",
       "    <tr>\n",
       "      <th>4</th>\n",
       "      <td>software engineer</td>\n",
       "      <td>software engineer c  c    java  uml  xamp  agi...</td>\n",
       "      <td>[software, engineer, software, engineer, c, c,...</td>\n",
       "    </tr>\n",
       "  </tbody>\n",
       "</table>\n",
       "</div>"
      ],
      "text/plain": [
       "                          title  \\\n",
       "0                 php developer   \n",
       "1  business development manager   \n",
       "2                      engineer   \n",
       "3                 web developer   \n",
       "4             software engineer   \n",
       "\n",
       "                                    full_description  \\\n",
       "0  a skilled senior php developer is required by ...   \n",
       "1  the company  our client are a full service  cr...   \n",
       "2  an expanding software and consultancy services...   \n",
       "3  a leading ecommerce agency is looking to hire ...   \n",
       "4  software engineer c  c    java  uml  xamp  agi...   \n",
       "\n",
       "                           processed_job_description  \n",
       "0  [php, developer, skilled, senior, php, develop...  \n",
       "1  [business, development, manager, company, clie...  \n",
       "2  [engineer, expand, software, consultancy, serv...  \n",
       "3  [web, developer, lead, ecommerce, agency, look...  \n",
       "4  [software, engineer, software, engineer, c, c,...  "
      ]
     },
     "execution_count": 10,
     "metadata": {},
     "output_type": "execute_result"
    }
   ],
   "source": [
    "df.head()"
   ]
  },
  {
   "cell_type": "code",
   "execution_count": 11,
   "metadata": {},
   "outputs": [],
   "source": [
    "# building the custom word2vec model on the cleaned job description with skipgram technique\n",
    "candidateTagWord2VecModel = Word2Vec(df.processed_job_description, min_count=2,sg=1)"
   ]
  },
  {
   "cell_type": "code",
   "execution_count": 12,
   "metadata": {},
   "outputs": [
    {
     "data": {
      "text/plain": [
       "[('css', 0.8835114240646362),\n",
       " ('jquery', 0.8671587109565735),\n",
       " ('html', 0.8350889682769775),\n",
       " ('ajax', 0.8101151585578918),\n",
       " ('xhtml', 0.8021975755691528)]"
      ]
     },
     "execution_count": 12,
     "metadata": {},
     "output_type": "execute_result"
    }
   ],
   "source": [
    "candidateTagWord2VecModel.wv.most_similar('javascript',topn=5)"
   ]
  },
  {
   "cell_type": "code",
   "execution_count": 13,
   "metadata": {},
   "outputs": [
    {
     "data": {
      "text/plain": [
       "0.6967604"
      ]
     },
     "execution_count": 13,
     "metadata": {},
     "output_type": "execute_result"
    }
   ],
   "source": [
    "candidateTagWord2VecModel.wv.n_similarity(\"machine learning\",\"java\")"
   ]
  },
  {
   "cell_type": "code",
   "execution_count": 14,
   "metadata": {},
   "outputs": [
    {
     "data": {
      "text/plain": [
       "0.79195184"
      ]
     },
     "execution_count": 14,
     "metadata": {},
     "output_type": "execute_result"
    }
   ],
   "source": [
    "candidateTagWord2VecModel.wv.n_similarity(\"machine learning\",\"python\")"
   ]
  },
  {
   "cell_type": "code",
   "execution_count": 15,
   "metadata": {},
   "outputs": [],
   "source": [
    "skill_tag_space = np.unique(df.title.values).tolist()"
   ]
  },
  {
   "cell_type": "code",
   "execution_count": 16,
   "metadata": {},
   "outputs": [],
   "source": [
    "def recommendTag(tag_score_dict,custom_tag):\n",
    "    \n",
    "    res = [k for k,v in tag_score_dict.items() if v==max(tag_score_dict.values()) and \\\n",
    "                                         all(x in custom_tag for x in k.split()) and\\\n",
    "                                         len(k.split())>=int(len(custom_tag.split())/2)]\n",
    "    # recommending tag which has highest similarity score, ensuring the recommended key has\n",
    "    # length of half of the tag entered\n",
    "    if len(res)>0:\n",
    "        return res[0]\n",
    "    else:\n",
    "        return max(tag_score_dict,key=tag_score_dict.get)\n",
    "\n",
    "def CandidateTagging(input_tag):\n",
    "\n",
    "    input_tag = re.sub('[^a-zA-Z]',' ',input_tag.lower())\n",
    "    # execute custom word2vec model\n",
    "    tagScoreDict = {}\n",
    "    for tag in skill_tag_space:# java develop\n",
    "        full_tag_score = []\n",
    "        for tag_i in tag.split():# java\n",
    "            tag_score = []\n",
    "            for word in input_tag.split():# java\n",
    "                tag_score.append(candidateTagWord2VecModel.wv.n_similarity(word,tag_i))\n",
    "                # score of JAVA wrt java and develop (existing keys) is evaluated\n",
    "\n",
    "            full_tag_score.append(max(tag_score))\n",
    "            # max score is appended for each existing tag wrt tag entered\n",
    "        tagScoreDict[tag] = max(full_tag_score)\n",
    "\n",
    "    return recommendTag(tagScoreDict,input_tag)"
   ]
  },
  {
   "cell_type": "code",
   "execution_count": 17,
   "metadata": {},
   "outputs": [],
   "source": [
    "job_descrip = \"proficient in JavaScript, HTML, and CSS\""
   ]
  },
  {
   "cell_type": "code",
   "execution_count": 18,
   "metadata": {},
   "outputs": [
    {
     "data": {
      "text/plain": [
       "'javascript developer'"
      ]
     },
     "execution_count": 18,
     "metadata": {},
     "output_type": "execute_result"
    }
   ],
   "source": [
    "CandidateTagging(input_tag=job_descrip)"
   ]
  },
  {
   "cell_type": "code",
   "execution_count": 20,
   "metadata": {},
   "outputs": [
    {
     "data": {
      "text/plain": [
       "'analyst'"
      ]
     },
     "execution_count": 20,
     "metadata": {},
     "output_type": "execute_result"
    }
   ],
   "source": [
    "job_descrip = \"experienced in data analysis\"\n",
    "CandidateTagging(input_tag=job_descrip)"
   ]
  },
  {
   "cell_type": "code",
   "execution_count": 34,
   "metadata": {},
   "outputs": [
    {
     "data": {
      "text/plain": [
       "'deep learning engineer'"
      ]
     },
     "execution_count": 34,
     "metadata": {},
     "output_type": "execute_result"
    }
   ],
   "source": [
    "job_descrip = \"experienced in deep learning\"\n",
    "CandidateTagging(input_tag=job_descrip)"
   ]
  }
 ],
 "metadata": {
  "kernelspec": {
   "display_name": "base",
   "language": "python",
   "name": "python3"
  },
  "language_info": {
   "codemirror_mode": {
    "name": "ipython",
    "version": 3
   },
   "file_extension": ".py",
   "mimetype": "text/x-python",
   "name": "python",
   "nbconvert_exporter": "python",
   "pygments_lexer": "ipython3",
   "version": "3.9.7"
  },
  "orig_nbformat": 4
 },
 "nbformat": 4,
 "nbformat_minor": 2
}
