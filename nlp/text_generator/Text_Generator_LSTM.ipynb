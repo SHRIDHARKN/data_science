{
  "nbformat": 4,
  "nbformat_minor": 0,
  "metadata": {
    "colab": {
      "provenance": []
    },
    "kernelspec": {
      "name": "python3",
      "display_name": "Python 3"
    },
    "language_info": {
      "name": "python"
    },
    "accelerator": "GPU"
  },
  "cells": [
    {
      "cell_type": "code",
      "source": [
        "!pip install keras-tuner"
      ],
      "metadata": {
        "id": "NMpNFJyvAm00"
      },
      "execution_count": null,
      "outputs": []
    },
    {
      "cell_type": "code",
      "execution_count": null,
      "metadata": {
        "id": "Isrt9HanyFGm"
      },
      "outputs": [],
      "source": [
        "import numpy as np\n",
        "from nltk.tokenize import RegexpTokenizer\n",
        "from keras.models import Sequential, load_model\n",
        "from keras.layers import LSTM\n",
        "from keras.layers.core import Dense, Activation\n",
        "from tensorflow.keras.optimizers import RMSprop\n",
        "from tensorflow.keras.optimizers import Adam\n",
        "import matplotlib.pyplot as plt\n",
        "from kerastuner.tuners import BayesianOptimization\n",
        "import pickle\n",
        "import heapq\n",
        "import os"
      ]
    },
    {
      "cell_type": "code",
      "source": [
        "path = '/content/DollsHouse.txt'\n",
        "text = open(path).read().lower()\n",
        "print('corpus length:', len(text))"
      ],
      "metadata": {
        "colab": {
          "base_uri": "https://localhost:8080/"
        },
        "id": "OoEQ7ww6yd1U",
        "outputId": "99a80ef8-2f4f-4f51-d32d-3010fb9215da"
      },
      "execution_count": null,
      "outputs": [
        {
          "output_type": "stream",
          "name": "stdout",
          "text": [
            "corpus length: 161433\n"
          ]
        }
      ]
    },
    {
      "cell_type": "code",
      "source": [
        "tokenizer = RegexpTokenizer(r'\\w+')\n",
        "words = tokenizer.tokenize(text)"
      ],
      "metadata": {
        "id": "1rBTkgKhyd62"
      },
      "execution_count": null,
      "outputs": []
    },
    {
      "cell_type": "code",
      "source": [
        "import nltk\n",
        "nltk.download('words')\n",
        "  \n",
        "def remove_non_vocab_words(words_ls):\n",
        "    #sentence = nltk.wordpunct_tokenize(sentence)\n",
        "    res = [x for x in words_ls if x in vocab_words]\n",
        "    return res\n",
        "\n",
        "vocab_words = set(nltk.corpus.words.words())\n",
        "words = remove_non_vocab_words(words)"
      ],
      "metadata": {
        "colab": {
          "base_uri": "https://localhost:8080/"
        },
        "id": "Djo10uxxyd8s",
        "outputId": "0e2bcbd1-3bbe-4c43-b8ac-52afd4efa348"
      },
      "execution_count": null,
      "outputs": [
        {
          "output_type": "stream",
          "name": "stdout",
          "text": [
            "[nltk_data] Downloading package words to /root/nltk_data...\n",
            "[nltk_data]   Unzipping corpora/words.zip.\n"
          ]
        }
      ]
    },
    {
      "cell_type": "code",
      "source": [
        "unique_words = np.unique(words).tolist()\n",
        "unique_word_index = dict((c, i) for i, c in enumerate(unique_words))"
      ],
      "metadata": {
        "id": "eokLMvPJyd-t"
      },
      "execution_count": null,
      "outputs": []
    },
    {
      "cell_type": "code",
      "source": [
        "WORD_LENGTH = 5\n",
        "prev_words = []\n",
        "next_words = []\n",
        "for i in range(len(words) - WORD_LENGTH):\n",
        "    prev_words.append(words[i:i + WORD_LENGTH])\n",
        "    next_words.append(words[i + WORD_LENGTH])\n",
        "print(prev_words[0])\n",
        "print(next_words[0])"
      ],
      "metadata": {
        "colab": {
          "base_uri": "https://localhost:8080/"
        },
        "id": "JddtY0VEytFG",
        "outputId": "79f36a60-47ac-45be-fb5d-821231c0e0d3"
      },
      "execution_count": null,
      "outputs": [
        {
          "output_type": "stream",
          "name": "stdout",
          "text": [
            "['the', 'project', 'of', 'a', 'doll']\n",
            "s\n"
          ]
        }
      ]
    },
    {
      "cell_type": "code",
      "source": [
        "X = np.zeros((len(prev_words), WORD_LENGTH, len(unique_words)), dtype=bool)\n",
        "Y = np.zeros((len(next_words), len(unique_words)), dtype=bool)\n",
        "\n",
        "for i, each_words in enumerate(prev_words):\n",
        "    for j, each_word in enumerate(each_words):\n",
        "        X[i, j, unique_word_index[each_word]] = 1\n",
        "    Y[i, unique_word_index[next_words[i]]] = 1"
      ],
      "metadata": {
        "id": "OYRjxv0CytHZ"
      },
      "execution_count": null,
      "outputs": []
    },
    {
      "cell_type": "code",
      "source": [
        "from kerastuner.tuners import RandomSearch"
      ],
      "metadata": {
        "id": "_fH6XFenE7si"
      },
      "execution_count": null,
      "outputs": []
    },
    {
      "cell_type": "code",
      "source": [
        "def build_model(hp):\n",
        "\n",
        "    model = Sequential()\n",
        "    model.add(LSTM(units=hp.Int('units',min_value=50,max_value=250,step=25),\\\n",
        "                   activation='relu', input_shape=(WORD_LENGTH, len(unique_words))))\n",
        "    \n",
        "    model.add(Dense(len(unique_words)))\n",
        "    model.add(Activation('softmax'))\n",
        "\n",
        "    model.compile(loss='categorical_crossentropy', optimizer=Adam(\\\n",
        "            hp.Choice('learning_rate', values=[1e-2, 1e-3, 1e-4])),\n",
        "                   metrics=['accuracy'])\n",
        "    return model"
      ],
      "metadata": {
        "id": "jGN2I-sSDPW3"
      },
      "execution_count": null,
      "outputs": []
    },
    {
      "cell_type": "code",
      "source": [
        "tuner = RandomSearch(\n",
        "    build_model,\n",
        "    objective='accuracy',\n",
        "    max_trials=5,\n",
        "    directory='/content/res/',\n",
        "    project_name='Text Gen')"
      ],
      "metadata": {
        "colab": {
          "base_uri": "https://localhost:8080/"
        },
        "id": "qt0LuouuFJzB",
        "outputId": "9cb2ebb0-207e-425b-da74-0d3d455378ad"
      },
      "execution_count": null,
      "outputs": [
        {
          "output_type": "stream",
          "name": "stdout",
          "text": [
            "WARNING:tensorflow:Layer lstm_1 will not use cuDNN kernels since it doesn't meet the criteria. It will use a generic GPU kernel as fallback when running on GPU.\n"
          ]
        }
      ]
    },
    {
      "cell_type": "code",
      "source": [
        "tuner.search_space_summary()"
      ],
      "metadata": {
        "colab": {
          "base_uri": "https://localhost:8080/"
        },
        "id": "S2TtUPTGFWKv",
        "outputId": "cd64b872-1009-4eb5-ac5d-f51016b26b86"
      },
      "execution_count": null,
      "outputs": [
        {
          "output_type": "stream",
          "name": "stdout",
          "text": [
            "Search space summary\n",
            "Default search space size: 2\n",
            "units (Int)\n",
            "{'default': None, 'conditions': [], 'min_value': 50, 'max_value': 250, 'step': 25, 'sampling': None}\n",
            "learning_rate (Choice)\n",
            "{'default': 0.01, 'conditions': [], 'values': [0.01, 0.001, 0.0001], 'ordered': True}\n"
          ]
        }
      ]
    },
    {
      "cell_type": "code",
      "source": [
        "tuner.search(X, Y,epochs=10)"
      ],
      "metadata": {
        "colab": {
          "base_uri": "https://localhost:8080/"
        },
        "id": "D5wlLdC8FaHH",
        "outputId": "0bb8968b-c5f1-44a1-82da-8448454cb4c5"
      },
      "execution_count": null,
      "outputs": [
        {
          "output_type": "stream",
          "name": "stdout",
          "text": [
            "Trial 5 Complete [00h 02m 23s]\n",
            "accuracy: 0.25599607825279236\n",
            "\n",
            "Best accuracy So Far: 0.6981061100959778\n",
            "Total elapsed time: 00h 10m 40s\n",
            "INFO:tensorflow:Oracle triggered exit\n"
          ]
        }
      ]
    },
    {
      "cell_type": "code",
      "source": [
        "tuner.results_summary()"
      ],
      "metadata": {
        "colab": {
          "base_uri": "https://localhost:8080/"
        },
        "id": "O5W1j3MTFqEr",
        "outputId": "579eb10f-8322-49c0-94e5-1a7cb677dc3f"
      },
      "execution_count": null,
      "outputs": [
        {
          "output_type": "stream",
          "name": "stdout",
          "text": [
            "Results summary\n",
            "Results in /content/res/Text Gen\n",
            "Showing 10 best trials\n",
            "<keras_tuner.engine.objective.Objective object at 0x7fb0ac471550>\n",
            "Trial summary\n",
            "Hyperparameters:\n",
            "units: 125\n",
            "learning_rate: 0.01\n",
            "Score: 0.6981061100959778\n",
            "Trial summary\n",
            "Hyperparameters:\n",
            "units: 175\n",
            "learning_rate: 0.001\n",
            "Score: 0.25599607825279236\n",
            "Trial summary\n",
            "Hyperparameters:\n",
            "units: 100\n",
            "learning_rate: 0.001\n",
            "Score: 0.18344064056873322\n",
            "Trial summary\n",
            "Hyperparameters:\n",
            "units: 125\n",
            "learning_rate: 0.0001\n",
            "Score: 0.04680145904421806\n",
            "Trial summary\n",
            "Hyperparameters:\n",
            "units: 75\n",
            "learning_rate: 0.0001\n",
            "Score: 0.04156782850623131\n"
          ]
        }
      ]
    },
    {
      "cell_type": "code",
      "source": [
        "from keras.layers import Dropout"
      ],
      "metadata": {
        "id": "8BbfXOG4SWHL"
      },
      "execution_count": null,
      "outputs": []
    },
    {
      "cell_type": "code",
      "source": [
        "model = Sequential()\n",
        "model.add(LSTM(125, input_shape=(WORD_LENGTH, len(unique_words))))\n",
        "model.add(Dropout(0.2))\n",
        "model.add(Dense(len(unique_words)))\n",
        "model.add(Activation('softmax'))\n",
        "optimizer = Adam(learning_rate=0.001)\n",
        "model.compile(loss='categorical_crossentropy', optimizer=optimizer, metrics=['accuracy'])\n",
        "#history = model.fit(X, Y, validation_split=0.1, batch_size=256, epochs=40, shuffle=True).history\n",
        "history = model.fit(X, Y, batch_size=128, epochs=150, shuffle=True).history"
      ],
      "metadata": {
        "colab": {
          "base_uri": "https://localhost:8080/"
        },
        "id": "WsghTKkoytJv",
        "outputId": "f089dfce-70b7-4acb-c5c9-161973cdc70a"
      },
      "execution_count": null,
      "outputs": [
        {
          "output_type": "stream",
          "name": "stdout",
          "text": [
            "Epoch 1/150\n",
            "208/208 [==============================] - 3s 7ms/step - loss: 6.1640 - accuracy: 0.0384\n",
            "Epoch 2/150\n",
            "208/208 [==============================] - 1s 7ms/step - loss: 5.7398 - accuracy: 0.0401\n",
            "Epoch 3/150\n",
            "208/208 [==============================] - 1s 7ms/step - loss: 5.6984 - accuracy: 0.0439\n",
            "Epoch 4/150\n",
            "208/208 [==============================] - 1s 6ms/step - loss: 5.6475 - accuracy: 0.0527\n",
            "Epoch 5/150\n",
            "208/208 [==============================] - 1s 6ms/step - loss: 5.5643 - accuracy: 0.0590\n",
            "Epoch 6/150\n",
            "208/208 [==============================] - 1s 6ms/step - loss: 5.4587 - accuracy: 0.0755\n",
            "Epoch 7/150\n",
            "208/208 [==============================] - 1s 6ms/step - loss: 5.3513 - accuracy: 0.0847\n",
            "Epoch 8/150\n",
            "208/208 [==============================] - 1s 7ms/step - loss: 5.2452 - accuracy: 0.0974\n",
            "Epoch 9/150\n",
            "208/208 [==============================] - 1s 6ms/step - loss: 5.1462 - accuracy: 0.1056\n",
            "Epoch 10/150\n",
            "208/208 [==============================] - 1s 6ms/step - loss: 5.0520 - accuracy: 0.1166\n",
            "Epoch 11/150\n",
            "208/208 [==============================] - 1s 7ms/step - loss: 4.9611 - accuracy: 0.1250\n",
            "Epoch 12/150\n",
            "208/208 [==============================] - 1s 6ms/step - loss: 4.8651 - accuracy: 0.1339\n",
            "Epoch 13/150\n",
            "208/208 [==============================] - 1s 7ms/step - loss: 4.7757 - accuracy: 0.1435\n",
            "Epoch 14/150\n",
            "208/208 [==============================] - 1s 6ms/step - loss: 4.6845 - accuracy: 0.1501\n",
            "Epoch 15/150\n",
            "208/208 [==============================] - 1s 6ms/step - loss: 4.5902 - accuracy: 0.1604\n",
            "Epoch 16/150\n",
            "208/208 [==============================] - 1s 6ms/step - loss: 4.5064 - accuracy: 0.1662\n",
            "Epoch 17/150\n",
            "208/208 [==============================] - 1s 7ms/step - loss: 4.4139 - accuracy: 0.1747\n",
            "Epoch 18/150\n",
            "208/208 [==============================] - 1s 7ms/step - loss: 4.3282 - accuracy: 0.1842\n",
            "Epoch 19/150\n",
            "208/208 [==============================] - 1s 6ms/step - loss: 4.2318 - accuracy: 0.1894\n",
            "Epoch 20/150\n",
            "208/208 [==============================] - 1s 7ms/step - loss: 4.1509 - accuracy: 0.1999\n",
            "Epoch 21/150\n",
            "208/208 [==============================] - 1s 7ms/step - loss: 4.0627 - accuracy: 0.2107\n",
            "Epoch 22/150\n",
            "208/208 [==============================] - 1s 7ms/step - loss: 3.9768 - accuracy: 0.2200\n",
            "Epoch 23/150\n",
            "208/208 [==============================] - 1s 7ms/step - loss: 3.8983 - accuracy: 0.2290\n",
            "Epoch 24/150\n",
            "208/208 [==============================] - 1s 6ms/step - loss: 3.8098 - accuracy: 0.2397\n",
            "Epoch 25/150\n",
            "208/208 [==============================] - 1s 6ms/step - loss: 3.7295 - accuracy: 0.2501\n",
            "Epoch 26/150\n",
            "208/208 [==============================] - 1s 6ms/step - loss: 3.6497 - accuracy: 0.2575\n",
            "Epoch 27/150\n",
            "208/208 [==============================] - 1s 6ms/step - loss: 3.5677 - accuracy: 0.2699\n",
            "Epoch 28/150\n",
            "208/208 [==============================] - 1s 6ms/step - loss: 3.4886 - accuracy: 0.2814\n",
            "Epoch 29/150\n",
            "208/208 [==============================] - 1s 7ms/step - loss: 3.4061 - accuracy: 0.2921\n",
            "Epoch 30/150\n",
            "208/208 [==============================] - 1s 7ms/step - loss: 3.3347 - accuracy: 0.3010\n",
            "Epoch 31/150\n",
            "208/208 [==============================] - 1s 6ms/step - loss: 3.2529 - accuracy: 0.3136\n",
            "Epoch 32/150\n",
            "208/208 [==============================] - 1s 6ms/step - loss: 3.1772 - accuracy: 0.3268\n",
            "Epoch 33/150\n",
            "208/208 [==============================] - 1s 7ms/step - loss: 3.0955 - accuracy: 0.3409\n",
            "Epoch 34/150\n",
            "208/208 [==============================] - 1s 7ms/step - loss: 3.0245 - accuracy: 0.3516\n",
            "Epoch 35/150\n",
            "208/208 [==============================] - 1s 6ms/step - loss: 2.9506 - accuracy: 0.3629\n",
            "Epoch 36/150\n",
            "208/208 [==============================] - 1s 6ms/step - loss: 2.8816 - accuracy: 0.3775\n",
            "Epoch 37/150\n",
            "208/208 [==============================] - 1s 6ms/step - loss: 2.8045 - accuracy: 0.3905\n",
            "Epoch 38/150\n",
            "208/208 [==============================] - 1s 6ms/step - loss: 2.7346 - accuracy: 0.4030\n",
            "Epoch 39/150\n",
            "208/208 [==============================] - 1s 7ms/step - loss: 2.6657 - accuracy: 0.4195\n",
            "Epoch 40/150\n",
            "208/208 [==============================] - 1s 7ms/step - loss: 2.6015 - accuracy: 0.4295\n",
            "Epoch 41/150\n",
            "208/208 [==============================] - 1s 7ms/step - loss: 2.5365 - accuracy: 0.4401\n",
            "Epoch 42/150\n",
            "208/208 [==============================] - 1s 6ms/step - loss: 2.4701 - accuracy: 0.4580\n",
            "Epoch 43/150\n",
            "208/208 [==============================] - 1s 7ms/step - loss: 2.4102 - accuracy: 0.4690\n",
            "Epoch 44/150\n",
            "208/208 [==============================] - 1s 7ms/step - loss: 2.3475 - accuracy: 0.4793\n",
            "Epoch 45/150\n",
            "208/208 [==============================] - 1s 7ms/step - loss: 2.2894 - accuracy: 0.4934\n",
            "Epoch 46/150\n",
            "208/208 [==============================] - 1s 7ms/step - loss: 2.2368 - accuracy: 0.5054\n",
            "Epoch 47/150\n",
            "208/208 [==============================] - 1s 7ms/step - loss: 2.1719 - accuracy: 0.5162\n",
            "Epoch 48/150\n",
            "208/208 [==============================] - 1s 7ms/step - loss: 2.1188 - accuracy: 0.5273\n",
            "Epoch 49/150\n",
            "208/208 [==============================] - 1s 7ms/step - loss: 2.0627 - accuracy: 0.5402\n",
            "Epoch 50/150\n",
            "208/208 [==============================] - 1s 6ms/step - loss: 2.0209 - accuracy: 0.5481\n",
            "Epoch 51/150\n",
            "208/208 [==============================] - 1s 6ms/step - loss: 1.9679 - accuracy: 0.5589\n",
            "Epoch 52/150\n",
            "208/208 [==============================] - 1s 7ms/step - loss: 1.9126 - accuracy: 0.5717\n",
            "Epoch 53/150\n",
            "208/208 [==============================] - 1s 7ms/step - loss: 1.8646 - accuracy: 0.5827\n",
            "Epoch 54/150\n",
            "208/208 [==============================] - 1s 7ms/step - loss: 1.8213 - accuracy: 0.5887\n",
            "Epoch 55/150\n",
            "208/208 [==============================] - 1s 7ms/step - loss: 1.7740 - accuracy: 0.6010\n",
            "Epoch 56/150\n",
            "208/208 [==============================] - 1s 6ms/step - loss: 1.7279 - accuracy: 0.6110\n",
            "Epoch 57/150\n",
            "208/208 [==============================] - 1s 7ms/step - loss: 1.6866 - accuracy: 0.6185\n",
            "Epoch 58/150\n",
            "208/208 [==============================] - 1s 7ms/step - loss: 1.6442 - accuracy: 0.6249\n",
            "Epoch 59/150\n",
            "208/208 [==============================] - 1s 6ms/step - loss: 1.6058 - accuracy: 0.6354\n",
            "Epoch 60/150\n",
            "208/208 [==============================] - 1s 6ms/step - loss: 1.5699 - accuracy: 0.6449\n",
            "Epoch 61/150\n",
            "208/208 [==============================] - 1s 7ms/step - loss: 1.5322 - accuracy: 0.6492\n",
            "Epoch 62/150\n",
            "208/208 [==============================] - 1s 7ms/step - loss: 1.4968 - accuracy: 0.6566\n",
            "Epoch 63/150\n",
            "208/208 [==============================] - 1s 7ms/step - loss: 1.4506 - accuracy: 0.6663\n",
            "Epoch 64/150\n",
            "208/208 [==============================] - 1s 7ms/step - loss: 1.4202 - accuracy: 0.6730\n",
            "Epoch 65/150\n",
            "208/208 [==============================] - 1s 7ms/step - loss: 1.3827 - accuracy: 0.6829\n",
            "Epoch 66/150\n",
            "208/208 [==============================] - 1s 7ms/step - loss: 1.3493 - accuracy: 0.6895\n",
            "Epoch 67/150\n",
            "208/208 [==============================] - 1s 7ms/step - loss: 1.3253 - accuracy: 0.6929\n",
            "Epoch 68/150\n",
            "208/208 [==============================] - 1s 6ms/step - loss: 1.2879 - accuracy: 0.7013\n",
            "Epoch 69/150\n",
            "208/208 [==============================] - 1s 7ms/step - loss: 1.2573 - accuracy: 0.7074\n",
            "Epoch 70/150\n",
            "208/208 [==============================] - 1s 6ms/step - loss: 1.2317 - accuracy: 0.7129\n",
            "Epoch 71/150\n",
            "208/208 [==============================] - 1s 6ms/step - loss: 1.1944 - accuracy: 0.7210\n",
            "Epoch 72/150\n",
            "208/208 [==============================] - 1s 7ms/step - loss: 1.1659 - accuracy: 0.7292\n",
            "Epoch 73/150\n",
            "208/208 [==============================] - 1s 6ms/step - loss: 1.1483 - accuracy: 0.7305\n",
            "Epoch 74/150\n",
            "208/208 [==============================] - 1s 7ms/step - loss: 1.1115 - accuracy: 0.7405\n",
            "Epoch 75/150\n",
            "208/208 [==============================] - 1s 7ms/step - loss: 1.0899 - accuracy: 0.7445\n",
            "Epoch 76/150\n",
            "208/208 [==============================] - 1s 7ms/step - loss: 1.0578 - accuracy: 0.7501\n",
            "Epoch 77/150\n",
            "208/208 [==============================] - 1s 7ms/step - loss: 1.0408 - accuracy: 0.7524\n",
            "Epoch 78/150\n",
            "208/208 [==============================] - 1s 7ms/step - loss: 1.0150 - accuracy: 0.7598\n",
            "Epoch 79/150\n",
            "208/208 [==============================] - 1s 7ms/step - loss: 0.9870 - accuracy: 0.7648\n",
            "Epoch 80/150\n",
            "208/208 [==============================] - 1s 6ms/step - loss: 0.9689 - accuracy: 0.7686\n",
            "Epoch 81/150\n",
            "208/208 [==============================] - 1s 6ms/step - loss: 0.9461 - accuracy: 0.7721\n",
            "Epoch 82/150\n",
            "208/208 [==============================] - 1s 7ms/step - loss: 0.9128 - accuracy: 0.7859\n",
            "Epoch 83/150\n",
            "208/208 [==============================] - 1s 6ms/step - loss: 0.8908 - accuracy: 0.7884\n",
            "Epoch 84/150\n",
            "208/208 [==============================] - 2s 8ms/step - loss: 0.8745 - accuracy: 0.7903\n",
            "Epoch 85/150\n",
            "208/208 [==============================] - 1s 7ms/step - loss: 0.8596 - accuracy: 0.7971\n",
            "Epoch 86/150\n",
            "208/208 [==============================] - 1s 7ms/step - loss: 0.8342 - accuracy: 0.7993\n",
            "Epoch 87/150\n",
            "208/208 [==============================] - 1s 6ms/step - loss: 0.8136 - accuracy: 0.8064\n",
            "Epoch 88/150\n",
            "208/208 [==============================] - 1s 7ms/step - loss: 0.7941 - accuracy: 0.8113\n",
            "Epoch 89/150\n",
            "208/208 [==============================] - 1s 6ms/step - loss: 0.7765 - accuracy: 0.8122\n",
            "Epoch 90/150\n",
            "208/208 [==============================] - 1s 7ms/step - loss: 0.7600 - accuracy: 0.8174\n",
            "Epoch 91/150\n",
            "208/208 [==============================] - 1s 7ms/step - loss: 0.7455 - accuracy: 0.8208\n",
            "Epoch 92/150\n",
            "208/208 [==============================] - 1s 7ms/step - loss: 0.7271 - accuracy: 0.8224\n",
            "Epoch 93/150\n",
            "208/208 [==============================] - 1s 7ms/step - loss: 0.7062 - accuracy: 0.8294\n",
            "Epoch 94/150\n",
            "208/208 [==============================] - 1s 7ms/step - loss: 0.6875 - accuracy: 0.8326\n",
            "Epoch 95/150\n",
            "208/208 [==============================] - 1s 7ms/step - loss: 0.6769 - accuracy: 0.8361\n",
            "Epoch 96/150\n",
            "208/208 [==============================] - 1s 7ms/step - loss: 0.6579 - accuracy: 0.8411\n",
            "Epoch 97/150\n",
            "208/208 [==============================] - 1s 7ms/step - loss: 0.6458 - accuracy: 0.8433\n",
            "Epoch 98/150\n",
            "208/208 [==============================] - 1s 7ms/step - loss: 0.6321 - accuracy: 0.8463\n",
            "Epoch 99/150\n",
            "208/208 [==============================] - 1s 7ms/step - loss: 0.6147 - accuracy: 0.8503\n",
            "Epoch 100/150\n",
            "208/208 [==============================] - 1s 6ms/step - loss: 0.5993 - accuracy: 0.8536\n",
            "Epoch 101/150\n",
            "208/208 [==============================] - 1s 7ms/step - loss: 0.5857 - accuracy: 0.8558\n",
            "Epoch 102/150\n",
            "208/208 [==============================] - 1s 7ms/step - loss: 0.5667 - accuracy: 0.8633\n",
            "Epoch 103/150\n",
            "208/208 [==============================] - 1s 7ms/step - loss: 0.5626 - accuracy: 0.8638\n",
            "Epoch 104/150\n",
            "208/208 [==============================] - 1s 7ms/step - loss: 0.5497 - accuracy: 0.8654\n",
            "Epoch 105/150\n",
            "208/208 [==============================] - 1s 7ms/step - loss: 0.5307 - accuracy: 0.8685\n",
            "Epoch 106/150\n",
            "208/208 [==============================] - 1s 6ms/step - loss: 0.5250 - accuracy: 0.8726\n",
            "Epoch 107/150\n",
            "208/208 [==============================] - 1s 7ms/step - loss: 0.5132 - accuracy: 0.8748\n",
            "Epoch 108/150\n",
            "208/208 [==============================] - 1s 7ms/step - loss: 0.5030 - accuracy: 0.8769\n",
            "Epoch 109/150\n",
            "208/208 [==============================] - 1s 7ms/step - loss: 0.4854 - accuracy: 0.8789\n",
            "Epoch 110/150\n",
            "208/208 [==============================] - 1s 7ms/step - loss: 0.4795 - accuracy: 0.8814\n",
            "Epoch 111/150\n",
            "208/208 [==============================] - 1s 6ms/step - loss: 0.4649 - accuracy: 0.8857\n",
            "Epoch 112/150\n",
            "208/208 [==============================] - 1s 7ms/step - loss: 0.4592 - accuracy: 0.8851\n",
            "Epoch 113/150\n",
            "208/208 [==============================] - 1s 7ms/step - loss: 0.4436 - accuracy: 0.8908\n",
            "Epoch 114/150\n",
            "208/208 [==============================] - 1s 7ms/step - loss: 0.4369 - accuracy: 0.8927\n",
            "Epoch 115/150\n",
            "208/208 [==============================] - 1s 7ms/step - loss: 0.4280 - accuracy: 0.8934\n",
            "Epoch 116/150\n",
            "208/208 [==============================] - 1s 7ms/step - loss: 0.4186 - accuracy: 0.8950\n",
            "Epoch 117/150\n",
            "208/208 [==============================] - 1s 7ms/step - loss: 0.4005 - accuracy: 0.9029\n",
            "Epoch 118/150\n",
            "208/208 [==============================] - 1s 7ms/step - loss: 0.4010 - accuracy: 0.9006\n",
            "Epoch 119/150\n",
            "208/208 [==============================] - 2s 8ms/step - loss: 0.3971 - accuracy: 0.9005\n",
            "Epoch 120/150\n",
            "208/208 [==============================] - 2s 8ms/step - loss: 0.3846 - accuracy: 0.9052\n",
            "Epoch 121/150\n",
            "208/208 [==============================] - 2s 8ms/step - loss: 0.3783 - accuracy: 0.9055\n",
            "Epoch 122/150\n",
            "208/208 [==============================] - 2s 10ms/step - loss: 0.3636 - accuracy: 0.9104\n",
            "Epoch 123/150\n",
            "208/208 [==============================] - 2s 10ms/step - loss: 0.3590 - accuracy: 0.9109\n",
            "Epoch 124/150\n",
            "208/208 [==============================] - 2s 8ms/step - loss: 0.3516 - accuracy: 0.9127\n",
            "Epoch 125/150\n",
            "208/208 [==============================] - 2s 8ms/step - loss: 0.3392 - accuracy: 0.9163\n",
            "Epoch 126/150\n",
            "208/208 [==============================] - 2s 8ms/step - loss: 0.3340 - accuracy: 0.9165\n",
            "Epoch 127/150\n",
            "208/208 [==============================] - 1s 7ms/step - loss: 0.3290 - accuracy: 0.9185\n",
            "Epoch 128/150\n",
            "208/208 [==============================] - 1s 6ms/step - loss: 0.3242 - accuracy: 0.9184\n",
            "Epoch 129/150\n",
            "208/208 [==============================] - 1s 7ms/step - loss: 0.3153 - accuracy: 0.9201\n",
            "Epoch 130/150\n",
            "208/208 [==============================] - 1s 7ms/step - loss: 0.3092 - accuracy: 0.9227\n",
            "Epoch 131/150\n",
            "208/208 [==============================] - 1s 7ms/step - loss: 0.3025 - accuracy: 0.9248\n",
            "Epoch 132/150\n",
            "208/208 [==============================] - 1s 7ms/step - loss: 0.2982 - accuracy: 0.9246\n",
            "Epoch 133/150\n",
            "208/208 [==============================] - 2s 8ms/step - loss: 0.2917 - accuracy: 0.9283\n",
            "Epoch 134/150\n",
            "208/208 [==============================] - 2s 8ms/step - loss: 0.2858 - accuracy: 0.9289\n",
            "Epoch 135/150\n",
            "208/208 [==============================] - 2s 8ms/step - loss: 0.2777 - accuracy: 0.9294\n",
            "Epoch 136/150\n",
            "208/208 [==============================] - 2s 9ms/step - loss: 0.2758 - accuracy: 0.9308\n",
            "Epoch 137/150\n",
            "208/208 [==============================] - 2s 8ms/step - loss: 0.2667 - accuracy: 0.9345\n",
            "Epoch 138/150\n",
            "208/208 [==============================] - 2s 8ms/step - loss: 0.2618 - accuracy: 0.9356\n",
            "Epoch 139/150\n",
            "208/208 [==============================] - 2s 8ms/step - loss: 0.2592 - accuracy: 0.9350\n",
            "Epoch 140/150\n",
            "208/208 [==============================] - 2s 8ms/step - loss: 0.2515 - accuracy: 0.9374\n",
            "Epoch 141/150\n",
            "208/208 [==============================] - 2s 8ms/step - loss: 0.2519 - accuracy: 0.9372\n",
            "Epoch 142/150\n",
            "208/208 [==============================] - 2s 8ms/step - loss: 0.2352 - accuracy: 0.9436\n",
            "Epoch 143/150\n",
            "208/208 [==============================] - 2s 12ms/step - loss: 0.2379 - accuracy: 0.9393\n",
            "Epoch 144/150\n",
            "208/208 [==============================] - 2s 9ms/step - loss: 0.2329 - accuracy: 0.9423\n",
            "Epoch 145/150\n",
            "208/208 [==============================] - 2s 8ms/step - loss: 0.2338 - accuracy: 0.9396\n",
            "Epoch 146/150\n",
            "208/208 [==============================] - 2s 8ms/step - loss: 0.2261 - accuracy: 0.9430\n",
            "Epoch 147/150\n",
            "208/208 [==============================] - 2s 8ms/step - loss: 0.2188 - accuracy: 0.9468\n",
            "Epoch 148/150\n",
            "208/208 [==============================] - 1s 7ms/step - loss: 0.2132 - accuracy: 0.9489\n",
            "Epoch 149/150\n",
            "208/208 [==============================] - 1s 7ms/step - loss: 0.2144 - accuracy: 0.9468\n",
            "Epoch 150/150\n",
            "208/208 [==============================] - 1s 7ms/step - loss: 0.2085 - accuracy: 0.9494\n"
          ]
        }
      ]
    },
    {
      "cell_type": "code",
      "source": [
        "model.save('keras_next_word_model.h5')\n",
        "pickle.dump(history, open(\"history.p\", \"wb\"))\n",
        "model = load_model('keras_next_word_model.h5')\n",
        "history = pickle.load(open(\"history.p\", \"rb\"))"
      ],
      "metadata": {
        "id": "pStW2n6xzK5Z"
      },
      "execution_count": null,
      "outputs": []
    },
    {
      "cell_type": "code",
      "source": [
        "plt.figure(figsize=(16,4))\n",
        "plt.plot(history['loss'])\n",
        "plt.title('model loss')\n",
        "plt.ylabel('loss')\n",
        "plt.xlabel('epoch')\n",
        "plt.legend(['train', 'test'], loc='upper left');"
      ],
      "metadata": {
        "colab": {
          "base_uri": "https://localhost:8080/",
          "height": 295
        },
        "id": "3swaugNTzfoI",
        "outputId": "858d8516-001b-4f01-8c3b-80547354af29"
      },
      "execution_count": null,
      "outputs": [
        {
          "output_type": "display_data",
          "data": {
            "text/plain": [
              "<Figure size 1152x288 with 1 Axes>"
            ],
            "image/png": "[encoded data removed]"
          },
          "metadata": {
            "needs_background": "light"
          }
        }
      ]
    },
    {
      "cell_type": "code",
      "source": [
        "def sample(preds, top_n=3):\n",
        "    preds = np.asarray(preds).astype('float64')\n",
        "    preds = np.log(preds)\n",
        "    exp_preds = np.exp(preds)\n",
        "    preds = exp_preds / np.sum(exp_preds)\n",
        "\n",
        "    return heapq.nlargest(top_n, range(len(preds)), preds.take)"
      ],
      "metadata": {
        "id": "tv4DHCD2zhRk"
      },
      "execution_count": null,
      "outputs": []
    },
    {
      "cell_type": "code",
      "source": [
        "test = \"he was grasping for\"\n",
        "SEQUENCE_LENGTH = len(test.split())\n",
        "x = np.zeros((1, WORD_LENGTH, len(unique_words)))    \n",
        "\n",
        "for t, char in enumerate(test.split()):\n",
        "        x[0, t, unique_word_index.get(char,np.random.randint(0,len(unique_words)))] = 1.   "
      ],
      "metadata": {
        "id": "FbA7iazFzkWI"
      },
      "execution_count": null,
      "outputs": []
    },
    {
      "cell_type": "code",
      "source": [
        "preds = model.predict(x, verbose=0)[0]\n",
        "preds    "
      ],
      "metadata": {
        "colab": {
          "base_uri": "https://localhost:8080/"
        },
        "id": "AiPppQY9zqiB",
        "outputId": "562cb334-c1c3-4d2b-d329-f958f78eae04"
      },
      "execution_count": null,
      "outputs": [
        {
          "output_type": "execute_result",
          "data": {
            "text/plain": [
              "array([1.4914481e-01, 5.8111463e-12, 8.1479739e-09, ..., 9.3069730e-07,\n",
              "       1.2041421e-15, 4.4073943e-14], dtype=float32)"
            ]
          },
          "metadata": {},
          "execution_count": 133
        }
      ]
    },
    {
      "cell_type": "code",
      "source": [
        "next_indices = sample(preds, 10)\n",
        "next_char = np.array(unique_words)[next_indices]\n",
        "next_char        "
      ],
      "metadata": {
        "colab": {
          "base_uri": "https://localhost:8080/"
        },
        "id": "V5txeOwqJg6N",
        "outputId": "b475aad0-bc31-4a28-f5cc-620e7cfeddb9"
      },
      "execution_count": null,
      "outputs": [
        {
          "output_type": "execute_result",
          "data": {
            "text/plain": [
              "array(['my', 'his', 'a', 'some', 'important', 'letter', 'money', 'in',\n",
              "       'every', 'three'], dtype='<U15')"
            ]
          },
          "metadata": {},
          "execution_count": 134
        }
      ]
    },
    {
      "cell_type": "code",
      "source": [
        "test_sent = [\"i was expecting that \",\"the one that kills us \",\"could you please step out for \"]\n",
        "\n",
        "for sent in test_sent:\n",
        "\n",
        "  x = np.zeros((1, WORD_LENGTH, len(unique_words)))    \n",
        "\n",
        "  for t, char in enumerate(sent.split()):\n",
        "      if t<WORD_LENGTH:\n",
        "          x[0, t, unique_word_index.get(char,np.random.randint(0,len(unique_words)))] = 1.   \n",
        "\n",
        "  preds = model.predict(x, verbose=0)[0]\n",
        "  next_indices_new = sample(preds, 3)   \n",
        "  top_3_words = unique_words\n",
        "  print(\"Sentence : \",sent)\n",
        "  print(\"Top 3 suggestions :\",unique_words[next_indices_new[0]],\",\",unique_words[next_indices_new[1]],\",\",unique_words[next_indices_new[2]])\n",
        "  next_char_new = unique_words[next_indices_new[0]]\n",
        "  gen = sent+next_char_new\n",
        "  print(gen)     \n",
        "  print(\"=======================================\") "
      ],
      "metadata": {
        "colab": {
          "base_uri": "https://localhost:8080/"
        },
        "id": "k4yK-L5_Vdvh",
        "outputId": "06db985a-1f9e-410a-93a1-9c1ae6be5a84"
      },
      "execution_count": null,
      "outputs": [
        {
          "output_type": "stream",
          "name": "stdout",
          "text": [
            "Sentence :  i was expecting that \n",
            "Top 3 suggestions : it , her , to\n",
            "i was expecting that it\n",
            "=======================================\n",
            "Sentence :  the one that kills us \n",
            "Top 3 suggestions : alone , as , below\n",
            "the one that kills us alone\n",
            "=======================================\n",
            "Sentence :  could you please step out for \n",
            "Top 3 suggestions : with , of , now\n",
            "could you please step out for with\n",
            "=======================================\n"
          ]
        }
      ]
    },
    {
      "cell_type": "code",
      "source": [
        "test = \"let me see if you are\"\n",
        "gen = test\n",
        "\n",
        "#print(gen)\n",
        "next_char_new=\"\"\n",
        "newx = np.zeros((1, 5, len(Y[0])))    \n",
        "add_words = 3\n",
        "\n",
        "for i in range(6):\n",
        "  #print(gen)\n",
        "  newx = np.zeros((1, 5, len(Y[0])))    \n",
        "  \n",
        "  for t, char in enumerate(gen.split()[i+1:]):\n",
        "  #for t, char in enumerate(gen.split()[i+add_words:]):\n",
        "        newx[0,t, unique_word_index.get(char)] = 1.   \n",
        "        \n",
        "  preds = model.predict(newx, verbose=0)[0]\n",
        "  next_indices_new = sample(preds, add_words)   \n",
        "  #print(next_indices_new)\n",
        "  #for j in range(add_words):\n",
        "    #next_char_new = unique_words[next_indices_new[j]]\n",
        "  next_char_new = unique_words[np.random.choice(next_indices_new)]\n",
        "  gen = gen+\" \"+next_char_new\n",
        "  print(gen)\n",
        "  #print(next_char_new)\n",
        "  print()  "
      ],
      "metadata": {
        "colab": {
          "base_uri": "https://localhost:8080/"
        },
        "id": "R76IdKjCJmEy",
        "outputId": "0dd0d606-91e4-4b69-bd1b-df7aa640c652"
      },
      "execution_count": null,
      "outputs": [
        {
          "output_type": "stream",
          "name": "stdout",
          "text": [
            "let me see if you are not\n",
            "\n",
            "let me see if you are not so\n",
            "\n",
            "let me see if you are not so anxious\n",
            "\n",
            "let me see if you are not so anxious to\n",
            "\n",
            "let me see if you are not so anxious to have\n",
            "\n",
            "let me see if you are not so anxious to have he\n",
            "\n"
          ]
        }
      ]
    }
  ]
}